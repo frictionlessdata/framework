{
 "cells": [
  {
   "cell_type": "markdown",
   "metadata": {},
   "source": [
    "# Working with JSON\n",
    "\n",
    "> Status: **STABLE**\n",
    "\n",
    "Frictionless supports parsing JSON tables (json and jsonl/ndjson)."
   ]
  },
  {
   "cell_type": "markdown",
   "metadata": {},
   "source": [
    "```sh\n",
    "!pip install frictionless[json]\n",
    "```\n"
   ]
  },
  {
   "cell_type": "markdown",
   "metadata": {},
   "source": [
    "```bash\n",
    "! cat data/table.json\n",
    "```\n"
   ]
  },
  {
   "cell_type": "markdown",
   "metadata": {},
   "source": [
    "## Reading JSON\n",
    "\n",
    "You can read this format using `Package/Resource` or `Table` API, for example:"
   ]
  },
  {
   "cell_type": "code",
   "execution_count": 1,
   "metadata": {
    "execution": {
     "iopub.execute_input": "2020-12-02T10:43:50.775578Z",
     "iopub.status.busy": "2020-12-02T10:43:50.774345Z",
     "iopub.status.idle": "2020-12-02T10:43:51.505248Z",
     "shell.execute_reply": "2020-12-02T10:43:51.505961Z"
    }
   },
   "outputs": [
    {
     "name": "stdout",
     "output_type": "stream",
     "text": [
      "[Row([('id', 1), ('name', 'english')]), Row([('id', 2), ('name', '中国人')])]\n"
     ]
    }
   ],
   "source": [
    "from frictionless import Resource\n",
    "\n",
    "resource = Resource(path='data/table.json')\n",
    "print(resource.read_rows())"
   ]
  },
  {
   "cell_type": "markdown",
   "metadata": {},
   "source": [
    "## Writing JSON\n",
    "\n",
    "The same is actual for writing:"
   ]
  },
  {
   "cell_type": "code",
   "execution_count": 2,
   "metadata": {
    "execution": {
     "iopub.execute_input": "2020-12-02T10:43:51.512466Z",
     "iopub.status.busy": "2020-12-02T10:43:51.511223Z",
     "iopub.status.idle": "2020-12-02T10:43:51.539421Z",
     "shell.execute_reply": "2020-12-02T10:43:51.538434Z"
    }
   },
   "outputs": [
    {
     "data": {
      "text/plain": [
       "'tmp/table.json'"
      ]
     },
     "execution_count": 1,
     "metadata": {},
     "output_type": "execute_result"
    }
   ],
   "source": [
    "from frictionless import Resource\n",
    "\n",
    "resource = Resource(data=[['id', 'name'], [1, 'english'], [2, 'german']])\n",
    "resource.write('tmp/table.json')"
   ]
  },
  {
   "cell_type": "markdown",
   "metadata": {},
   "source": [
    "```bash\n",
    "!cat tmp/table.json\n",
    "```\n"
   ]
  },
  {
   "cell_type": "markdown",
   "metadata": {},
   "source": [
    "## Configuring JSON\n",
    "\n",
    "There is a dialect to configure how Frictionless read and write files in this format. For example:"
   ]
  },
  {
   "cell_type": "code",
   "execution_count": 3,
   "metadata": {
    "execution": {
     "iopub.execute_input": "2020-12-02T10:43:51.550038Z",
     "iopub.status.busy": "2020-12-02T10:43:51.545952Z",
     "iopub.status.idle": "2020-12-02T10:43:51.558565Z",
     "shell.execute_reply": "2020-12-02T10:43:51.557601Z"
    }
   },
   "outputs": [
    {
     "data": {
      "text/plain": [
       "'tmp/table.json'"
      ]
     },
     "execution_count": 1,
     "metadata": {},
     "output_type": "execute_result"
    }
   ],
   "source": [
    "from frictionless import Resource\n",
    "from frictionless.plugins.json import JsonDialect\n",
    "\n",
    "resource = Resource(data=[['id', 'name'], [1, 'english'], [2, 'german']])\n",
    "resource.write('tmp/table.json', dialect=JsonDialect(keyed=True))"
   ]
  },
  {
   "cell_type": "markdown",
   "metadata": {},
   "source": [
    "```bash\n",
    "!cat tmp/table.json\n",
    "```\n"
   ]
  },
  {
   "cell_type": "markdown",
   "metadata": {},
   "source": [
    "References:\n",
    "- [JSON Dialect](https://frictionlessdata.io/tooling/python/formats-reference/#csv)"
   ]
  }
 ],
 "metadata": {
  "language_info": {
   "codemirror_mode": {
    "name": "ipython",
    "version": 3
   },
   "file_extension": ".py",
   "mimetype": "text/x-python",
   "name": "python",
   "nbconvert_exporter": "python",
   "pygments_lexer": "ipython3",
   "version": "3.8.0"
  }
 },
 "nbformat": 4,
 "nbformat_minor": 4
}
