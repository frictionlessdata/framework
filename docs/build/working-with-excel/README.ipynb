{
 "cells": [
  {
   "cell_type": "markdown",
   "metadata": {},
   "source": [
    "# Working with Excel\n",
    "\n",
    "> Status: **STABLE**\n",
    "\n",
    "Excel is a very popular tabular data format that usually has `xlsx` (newer) and `xls` (older) file extensions. Frictionless supports Excel files extensively."
   ]
  },
  {
   "cell_type": "markdown",
   "metadata": {},
   "source": [
    "```sh\n",
    "!pip install frictionless[excel]\n",
    "```\n"
   ]
  },
  {
   "cell_type": "markdown",
   "metadata": {},
   "source": [
    "## Reading Excel\n",
    "\n",
    "You can read this format using `Package/Resource` or `Table` API, for example:"
   ]
  },
  {
   "cell_type": "code",
   "execution_count": 1,
   "metadata": {
    "execution": {
     "iopub.execute_input": "2020-12-02T10:43:23.220777Z",
     "iopub.status.busy": "2020-12-02T10:43:23.219824Z",
     "iopub.status.idle": "2020-12-02T10:43:24.482502Z",
     "shell.execute_reply": "2020-12-02T10:43:24.483586Z"
    }
   },
   "outputs": [
    {
     "name": "stdout",
     "output_type": "stream",
     "text": [
      "[Row([('id', 1), ('name', 'english')]), Row([('id', 2), ('name', '中国人')])]\n"
     ]
    }
   ],
   "source": [
    "from frictionless import Resource\n",
    "\n",
    "resource = Resource(path='data/table.xlsx')\n",
    "print(resource.read_rows())"
   ]
  },
  {
   "cell_type": "markdown",
   "metadata": {},
   "source": [
    "## Writing Excel\n",
    "\n",
    "The same is actual for writing:"
   ]
  },
  {
   "cell_type": "code",
   "execution_count": 2,
   "metadata": {
    "execution": {
     "iopub.execute_input": "2020-12-02T10:43:24.501018Z",
     "iopub.status.busy": "2020-12-02T10:43:24.499399Z",
     "iopub.status.idle": "2020-12-02T10:43:24.525692Z",
     "shell.execute_reply": "2020-12-02T10:43:24.526552Z"
    }
   },
   "outputs": [
    {
     "data": {
      "text/plain": [
       "'tmp/table.xlsx'"
      ]
     },
     "execution_count": 1,
     "metadata": {},
     "output_type": "execute_result"
    }
   ],
   "source": [
    "from frictionless import Resource\n",
    "\n",
    "resource = Resource(data=[['id', 'name'], [1, 'english'], [2, 'german']])\n",
    "resource.write('tmp/table.xlsx')"
   ]
  },
  {
   "cell_type": "markdown",
   "metadata": {},
   "source": [
    "## Configuring Excel\n",
    "\n",
    "There is a dialect to configure how Frictionless read and write files in this format. For example:"
   ]
  },
  {
   "cell_type": "code",
   "execution_count": 3,
   "metadata": {
    "execution": {
     "iopub.execute_input": "2020-12-02T10:43:24.541842Z",
     "iopub.status.busy": "2020-12-02T10:43:24.539304Z",
     "iopub.status.idle": "2020-12-02T10:43:24.556007Z",
     "shell.execute_reply": "2020-12-02T10:43:24.556731Z"
    }
   },
   "outputs": [
    {
     "data": {
      "text/plain": [
       "'tmp/table.xlsx'"
      ]
     },
     "execution_count": 1,
     "metadata": {},
     "output_type": "execute_result"
    }
   ],
   "source": [
    "from frictionless import Resource\n",
    "from frictionless.plugins.excel import ExcelDialect\n",
    "\n",
    "resource = Resource(data=[['id', 'name'], [1, 'english'], [2, 'german']])\n",
    "resource.write('tmp/table.xlsx', dialect=ExcelDialect(sheet='My Table'))"
   ]
  },
  {
   "cell_type": "markdown",
   "metadata": {},
   "source": [
    "References:\n",
    "- [Excel Dialect](https://frictionlessdata.io/tooling/python/formats-reference/#excel)"
   ]
  }
 ],
 "metadata": {
  "language_info": {
   "codemirror_mode": {
    "name": "ipython",
    "version": 3
   },
   "file_extension": ".py",
   "mimetype": "text/x-python",
   "name": "python",
   "nbconvert_exporter": "python",
   "pygments_lexer": "ipython3",
   "version": "3.8.0"
  }
 },
 "nbformat": 4,
 "nbformat_minor": 4
}
