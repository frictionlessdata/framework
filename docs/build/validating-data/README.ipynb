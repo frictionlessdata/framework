{
 "cells": [
  {
   "cell_type": "markdown",
   "metadata": {},
   "source": [
    "# Validating Data\n",
    "\n",
    "Tabular data validation is a process of identifying tabular problems that have place in your data for further correction. Let's explore how Frictionless helps to achieve these tasks using an invalid data table example:"
   ]
  },
  {
   "cell_type": "code",
   "execution_count": 1,
   "metadata": {
    "execution": {
     "iopub.execute_input": "2020-11-26T11:16:25.855380Z",
     "iopub.status.busy": "2020-11-26T11:16:25.854314Z",
     "iopub.status.idle": "2020-11-26T11:16:25.978979Z",
     "shell.execute_reply": "2020-11-26T11:16:25.976575Z"
    }
   },
   "outputs": [
    {
     "name": "stdout",
     "output_type": "stream",
     "text": [
      "id,name,name\r\n",
      "1,London,Britain\r\n",
      "2,Berlin,Germany\r\n",
      "3,Paris,France\r\n",
      "4,Madrid,Spain\r\n",
      "5,Rome,Italy\r\n",
      "6,Zagreb,Croatia\r\n",
      "7,Athens,Greece\r\n",
      "8,Vienna,Austria\r\n",
      "8,Warsaw\r\n",
      "\r\n",
      "x,Tokio,Japan,review\r\n"
     ]
    }
   ],
   "source": [
    "! cat data/capital-invalid.csv"
   ]
  },
  {
   "cell_type": "markdown",
   "metadata": {},
   "source": [
    "Using the command-line interface we can validate this file. Frictionless provides comprehensive error details so it's self-explanatory. Continue reading to learn the validation process in-details."
   ]
  },
  {
   "cell_type": "code",
   "execution_count": 2,
   "metadata": {
    "execution": {
     "iopub.execute_input": "2020-11-26T11:16:25.992945Z",
     "iopub.status.busy": "2020-11-26T11:16:25.991563Z",
     "iopub.status.idle": "2020-11-26T11:16:27.033595Z",
     "shell.execute_reply": "2020-11-26T11:16:27.034559Z"
    }
   },
   "outputs": [
    {
     "name": "stdout",
     "output_type": "stream",
     "text": [
      "---\u001b[0m\r\n",
      "\u001b[1minvalid: data/capital-invalid.csv\u001b[0m\r\n",
      "---\u001b[0m\r\n",
      "\u001b[0m\r\n",
      "====  =====  ================  ====================================================================================================================\r\n",
      "row   field  code              message                                                                                                             \r\n",
      "====  =====  ================  ====================================================================================================================\r\n",
      "None      3  duplicate-header  Header \"name\" in field at position \"3\" is duplicated to header in another field: at position \"2\"                    \r\n",
      "  10      3  missing-cell      Row at position \"10\" has a missing cell in field \"name2\" at position \"3\"                                            \r\n",
      "  11  None   blank-row         Row at position \"11\" is completely blank                                                                            \r\n",
      "  12      4  extra-cell        Row at position \"12\" has an extra value in field at position \"4\"                                                    \r\n",
      "  12      1  type-error        The cell \"x\" in row at position \"12\" and field \"id\" at position \"1\" has incompatible type: type is \"integer/default\"\r\n",
      "====  =====  ================  ====================================================================================================================\r\n",
      "\u001b[0m\r\n"
     ]
    }
   ],
   "source": [
    "! frictionless validate data/capital-invalid.csv"
   ]
  },
  {
   "cell_type": "markdown",
   "metadata": {},
   "source": [
    "## Validate Functions\n",
    "\n",
    "The high-level interface for validating data provided by Frictionless is a set of `validate` functions:\n",
    "- `validate`: it will detect the source type and validate data accordingly\n",
    "- `validate_schema`: it validates a schema's metadata\n",
    "- `validate_resource`: it validates a resource's data and metadata\n",
    "- `validate_package`: it validates a package's data and metadata\n",
    "- `validate_inquiery`: it validates a special `Inquiery` object which represents a validation task instruction\n",
    "- `validate_table`: it validates a table\n",
    "\n",
    "In command-line, there is only 1 command but there is a flag to adjust the behavior:"
   ]
  },
  {
   "cell_type": "markdown",
   "metadata": {},
   "source": [
    "```sh\n",
    "$ frictionless validate\n",
    "$ frictionless validate --source-type schema\n",
    "$ frictionless validate --source-type resource\n",
    "$ frictionless validate --source-type package\n",
    "$ frictionless validate --source-type inquiry\n",
    "$ frictionless validate --source-type table\n",
    "```\n"
   ]
  },
  {
   "cell_type": "markdown",
   "metadata": {},
   "source": [
    "### Validating Schema\n",
    "\n",
    "The `validate_schema` function is the only function validating solely metadata. Let's create a invalid table schema:"
   ]
  },
  {
   "cell_type": "code",
   "execution_count": 3,
   "metadata": {
    "execution": {
     "iopub.execute_input": "2020-11-26T11:16:27.040585Z",
     "iopub.status.busy": "2020-11-26T11:16:27.039953Z",
     "iopub.status.idle": "2020-11-26T11:16:27.326463Z",
     "shell.execute_reply": "2020-11-26T11:16:27.325356Z"
    }
   },
   "outputs": [],
   "source": [
    "from frictionless import Schema\n",
    "\n",
    "schema = Schema()\n",
    "schema.fields = {} # must be a list\n",
    "schema.to_yaml('tmp/invalid.schema.yaml')"
   ]
  },
  {
   "cell_type": "markdown",
   "metadata": {},
   "source": [
    "And validate it using the command-line interface:"
   ]
  },
  {
   "cell_type": "code",
   "execution_count": 4,
   "metadata": {
    "execution": {
     "iopub.execute_input": "2020-11-26T11:16:27.337510Z",
     "iopub.status.busy": "2020-11-26T11:16:27.336362Z",
     "iopub.status.idle": "2020-11-26T11:16:27.901314Z",
     "shell.execute_reply": "2020-11-26T11:16:27.903133Z"
    }
   },
   "outputs": [
    {
     "name": "stdout",
     "output_type": "stream",
     "text": [
      "---\u001b[0m\r\n",
      "\u001b[1minvalid: tmp/invalid.schema.yaml\u001b[0m\r\n",
      "---\u001b[0m\r\n",
      "============  ===============================================================================================================================================================================\r\n",
      "code          message                                                                                                                                                                        \r\n",
      "============  ===============================================================================================================================================================================\r\n",
      "schema-error  The data source could not be successfully described by the invalid Table Schema: \"{} is not of type 'array'\" at \"fields\" in metadata and at \"properties/fields/type\" in profile\r\n",
      "============  ===============================================================================================================================================================================\r\n",
      "\u001b[0m\r\n"
     ]
    }
   ],
   "source": [
    "! frictionless validate tmp/invalid.schema.yaml"
   ]
  },
  {
   "cell_type": "markdown",
   "metadata": {},
   "source": [
    "Schema validation can be very useful when you work with different classes of tables and create schemas for them. Using this function you can ensure that the metadata is valid.\n",
    "\n",
    "### Validating Resource\n",
    "\n",
    "As it was shown in the \"Describing Data\" guide a resource is a container having both metadata and data. We need to create a resource descriptor to validate it:"
   ]
  },
  {
   "cell_type": "code",
   "execution_count": 5,
   "metadata": {
    "execution": {
     "iopub.execute_input": "2020-11-26T11:16:27.918923Z",
     "iopub.status.busy": "2020-11-26T11:16:27.917611Z",
     "iopub.status.idle": "2020-11-26T11:16:28.949227Z",
     "shell.execute_reply": "2020-11-26T11:16:28.947930Z"
    }
   },
   "outputs": [],
   "source": [
    "! frictionless describe data/capital-invalid.csv --json > tmp/capital.resource.json"
   ]
  },
  {
   "cell_type": "markdown",
   "metadata": {},
   "source": [
    "Let's now use the command-line interface to ensure that we are getting the same result as we had withouth using a resource:"
   ]
  },
  {
   "cell_type": "code",
   "execution_count": 6,
   "metadata": {
    "execution": {
     "iopub.execute_input": "2020-11-26T11:16:28.957288Z",
     "iopub.status.busy": "2020-11-26T11:16:28.955860Z",
     "iopub.status.idle": "2020-11-26T11:16:30.057927Z",
     "shell.execute_reply": "2020-11-26T11:16:30.059795Z"
    }
   },
   "outputs": [
    {
     "name": "stdout",
     "output_type": "stream",
     "text": [
      "---\u001b[0m\r\n",
      "\u001b[1minvalid: ./data/capital-invalid.csv\u001b[0m\r\n",
      "---\u001b[0m\r\n",
      "\u001b[0m\r\n",
      "====  =====  ================  ====================================================================================================================\r\n",
      "row   field  code              message                                                                                                             \r\n",
      "====  =====  ================  ====================================================================================================================\r\n",
      "None      3  duplicate-header  Header \"name\" in field at position \"3\" is duplicated to header in another field: at position \"2\"                    \r\n",
      "  10      3  missing-cell      Row at position \"10\" has a missing cell in field \"name2\" at position \"3\"                                            \r\n",
      "  11  None   blank-row         Row at position \"11\" is completely blank                                                                            \r\n",
      "  12      4  extra-cell        Row at position \"12\" has an extra value in field at position \"4\"                                                    \r\n",
      "  12      1  type-error        The cell \"x\" in row at position \"12\" and field \"id\" at position \"1\" has incompatible type: type is \"integer/default\"\r\n",
      "====  =====  ================  ====================================================================================================================\r\n",
      "\u001b[0m\r\n"
     ]
    }
   ],
   "source": [
    "! frictionless validate tmp/capital.resource.json --basepath ."
   ]
  },
  {
   "cell_type": "markdown",
   "metadata": {},
   "source": [
    "Okay, why do we need to use a resource descriptor if the result is the same? The reason is metadata + data packaging. Let's extend our resource descriptor:"
   ]
  },
  {
   "cell_type": "code",
   "execution_count": 7,
   "metadata": {
    "execution": {
     "iopub.execute_input": "2020-11-26T11:16:30.076941Z",
     "iopub.status.busy": "2020-11-26T11:16:30.076311Z",
     "iopub.status.idle": "2020-11-26T11:16:30.347929Z",
     "shell.execute_reply": "2020-11-26T11:16:30.348941Z"
    }
   },
   "outputs": [],
   "source": [
    "from frictionless import describe\n",
    "\n",
    "resource = describe('data/capital-invalid.csv')\n",
    "resource['bytes'] = 100 # wrong\n",
    "resource['hash'] = 'ae23c74693ca2d3f0e38b9ba3570775b' # wrong\n",
    "resource.to_yaml('tmp/capital.resource.yaml')"
   ]
  },
  {
   "cell_type": "markdown",
   "metadata": {},
   "source": [
    "We have added a few bad metrics to our resource descriptor. The validation below reports it in addition to all the errors we had before. This example is showing how concepts like Data Resource can be extremely useful when working with data."
   ]
  },
  {
   "cell_type": "code",
   "execution_count": 8,
   "metadata": {
    "execution": {
     "iopub.execute_input": "2020-11-26T11:16:30.355130Z",
     "iopub.status.busy": "2020-11-26T11:16:30.354319Z",
     "iopub.status.idle": "2020-11-26T11:16:31.465669Z",
     "shell.execute_reply": "2020-11-26T11:16:31.467314Z"
    }
   },
   "outputs": [
    {
     "name": "stdout",
     "output_type": "stream",
     "text": [
      "---\u001b[0m\r\n",
      "\u001b[1minvalid: ./data/capital-invalid.csv\u001b[0m\r\n",
      "---\u001b[0m\r\n",
      "\u001b[0m\r\n",
      "====  =====  ================  ====================================================================================================================\r\n",
      "row   field  code              message                                                                                                             \r\n",
      "====  =====  ================  ====================================================================================================================\r\n",
      "None      3  duplicate-header  Header \"name\" in field at position \"3\" is duplicated to header in another field: at position \"2\"                    \r\n",
      "  10      3  missing-cell      Row at position \"10\" has a missing cell in field \"name2\" at position \"3\"                                            \r\n",
      "  11  None   blank-row         Row at position \"11\" is completely blank                                                                            \r\n",
      "  12      4  extra-cell        Row at position \"12\" has an extra value in field at position \"4\"                                                    \r\n",
      "  12      1  type-error        The cell \"x\" in row at position \"12\" and field \"id\" at position \"1\" has incompatible type: type is \"integer/default\"\r\n",
      "====  =====  ================  ====================================================================================================================\r\n",
      "\u001b[0m\r\n"
     ]
    }
   ],
   "source": [
    "! frictionless validate tmp/capital.resource.yaml --basepath ."
   ]
  },
  {
   "cell_type": "markdown",
   "metadata": {},
   "source": [
    "### Validating Package\n",
    "\n",
    "A package is a set of resources + additional metadata. To showcase a package validation we need one more tabular file:"
   ]
  },
  {
   "cell_type": "code",
   "execution_count": 9,
   "metadata": {
    "execution": {
     "iopub.execute_input": "2020-11-26T11:16:31.476400Z",
     "iopub.status.busy": "2020-11-26T11:16:31.475356Z",
     "iopub.status.idle": "2020-11-26T11:16:31.603336Z",
     "shell.execute_reply": "2020-11-26T11:16:31.605094Z"
    }
   },
   "outputs": [
    {
     "name": "stdout",
     "output_type": "stream",
     "text": [
      "id,name\r\n",
      "1,London\r\n",
      "2,Berlin\r\n",
      "3,Paris\r\n",
      "4,Madrid\r\n",
      "5,Rome\r\n"
     ]
    }
   ],
   "source": [
    "! cat data/capital-valid.csv"
   ]
  },
  {
   "cell_type": "markdown",
   "metadata": {},
   "source": [
    "Let's describe and validate a package:"
   ]
  },
  {
   "cell_type": "code",
   "execution_count": 10,
   "metadata": {
    "execution": {
     "iopub.execute_input": "2020-11-26T11:16:31.614302Z",
     "iopub.status.busy": "2020-11-26T11:16:31.612983Z",
     "iopub.status.idle": "2020-11-26T11:16:33.809072Z",
     "shell.execute_reply": "2020-11-26T11:16:33.807271Z"
    }
   },
   "outputs": [
    {
     "name": "stdout",
     "output_type": "stream",
     "text": [
      "---\u001b[0m\r\n",
      "\u001b[1minvalid: ./data/capital-invalid.csv\u001b[0m\r\n",
      "---\u001b[0m\r\n",
      "\u001b[0m\r\n",
      "====  =====  ================  ====================================================================================================================\r\n",
      "row   field  code              message                                                                                                             \r\n",
      "====  =====  ================  ====================================================================================================================\r\n",
      "None      3  duplicate-header  Header \"name\" in field at position \"3\" is duplicated to header in another field: at position \"2\"                    \r\n",
      "  10      3  missing-cell      Row at position \"10\" has a missing cell in field \"name2\" at position \"3\"                                            \r\n",
      "  11  None   blank-row         Row at position \"11\" is completely blank                                                                            \r\n",
      "  12      4  extra-cell        Row at position \"12\" has an extra value in field at position \"4\"                                                    \r\n",
      "  12      1  type-error        The cell \"x\" in row at position \"12\" and field \"id\" at position \"1\" has incompatible type: type is \"integer/default\"\r\n",
      "====  =====  ================  ====================================================================================================================\r\n",
      "\u001b[0m\r\n",
      "\u001b[0m\r\n",
      "---\u001b[0m\r\n",
      "\u001b[1mvalid: ./data/capital-valid.csv\u001b[0m\r\n",
      "---\u001b[0m\r\n"
     ]
    }
   ],
   "source": [
    "! frictionless describe data/capital-*id.csv --json > tmp/capital.package.json\n",
    "! frictionless validate tmp/capital.package.json --basepath ."
   ]
  },
  {
   "cell_type": "markdown",
   "metadata": {},
   "source": [
    "As we can see, the result is pretty straight-forward and expected: we have one invalid resource and one valid. One important note regarding the package validation: if there are more than one resource, it will use multiprocessing to speed up the process\n",
    "\n",
    "### Validating Inquiry\n",
    "\n",
    "The Inquiry gives you an ability to create arbitrary validation jobs containing a set of individual validation taks. Let's create an inquiry that includes an individual file validation and a resource validation:"
   ]
  },
  {
   "cell_type": "code",
   "execution_count": 11,
   "metadata": {
    "execution": {
     "iopub.execute_input": "2020-11-26T11:16:33.822626Z",
     "iopub.status.busy": "2020-11-26T11:16:33.820968Z",
     "iopub.status.idle": "2020-11-26T11:16:33.824118Z",
     "shell.execute_reply": "2020-11-26T11:16:33.824759Z"
    }
   },
   "outputs": [],
   "source": [
    "from frictionless import Inquiry\n",
    "\n",
    "inquiry = Inquiry({'tasks': [\n",
    "  {'source': 'data/capital-valid.csv'},\n",
    "  {'source': 'tmp/capital.resource.json', 'basepath': '.'},\n",
    "]})\n",
    "inquiry.to_yaml('tmp/capital.inquiry.yaml')"
   ]
  },
  {
   "cell_type": "markdown",
   "metadata": {},
   "source": [
    "Tasks in the Inquiry accept the same arguments written in camelCase as the corresponding `validate` functions have. As usual, let' run validation:"
   ]
  },
  {
   "cell_type": "code",
   "execution_count": 12,
   "metadata": {
    "execution": {
     "iopub.execute_input": "2020-11-26T11:16:33.832330Z",
     "iopub.status.busy": "2020-11-26T11:16:33.831608Z",
     "iopub.status.idle": "2020-11-26T11:16:34.922650Z",
     "shell.execute_reply": "2020-11-26T11:16:34.920786Z"
    }
   },
   "outputs": [
    {
     "name": "stdout",
     "output_type": "stream",
     "text": [
      "---\u001b[0m\r\n",
      "\u001b[1mvalid: data/capital-valid.csv\u001b[0m\r\n",
      "---\u001b[0m\r\n",
      "---\u001b[0m\r\n",
      "\u001b[1minvalid: ./data/capital-invalid.csv\u001b[0m\r\n",
      "---\u001b[0m\r\n",
      "\u001b[0m\r\n",
      "====  =====  ================  ====================================================================================================================\r\n",
      "row   field  code              message                                                                                                             \r\n",
      "====  =====  ================  ====================================================================================================================\r\n",
      "None      3  duplicate-header  Header \"name\" in field at position \"3\" is duplicated to header in another field: at position \"2\"                    \r\n",
      "  10      3  missing-cell      Row at position \"10\" has a missing cell in field \"name2\" at position \"3\"                                            \r\n",
      "  11  None   blank-row         Row at position \"11\" is completely blank                                                                            \r\n",
      "  12      4  extra-cell        Row at position \"12\" has an extra value in field at position \"4\"                                                    \r\n",
      "  12      1  type-error        The cell \"x\" in row at position \"12\" and field \"id\" at position \"1\" has incompatible type: type is \"integer/default\"\r\n",
      "====  =====  ================  ====================================================================================================================\r\n",
      "\u001b[0m\r\n"
     ]
    }
   ],
   "source": [
    "! frictionless validate tmp/capital.inquiry.yaml"
   ]
  },
  {
   "cell_type": "markdown",
   "metadata": {},
   "source": [
    "At first sight, it's no clear why such a construct exists but when your validation workflow gets complex, the Inquiry can provide a lot of flexibility and power. Last but not least, the Inquiry will use multiprocessing if there are more than 1 task provided.\n",
    "\n",
    "### Validating Table\n",
    "\n",
    "All the functions above except for `validate_schema` are just wrappers over the `validate_table` function. Below we will be talking a lot about the table validation so here will just provide a simple example:"
   ]
  },
  {
   "cell_type": "code",
   "execution_count": 13,
   "metadata": {
    "execution": {
     "iopub.execute_input": "2020-11-26T11:16:34.933420Z",
     "iopub.status.busy": "2020-11-26T11:16:34.932629Z",
     "iopub.status.idle": "2020-11-26T11:16:36.010530Z",
     "shell.execute_reply": "2020-11-26T11:16:36.008553Z"
    }
   },
   "outputs": [
    {
     "name": "stdout",
     "output_type": "stream",
     "text": [
      "---\u001b[0m\r\n",
      "\u001b[1minvalid: data/capital-invalid.csv\u001b[0m\r\n",
      "---\u001b[0m\r\n",
      "\u001b[0m\r\n",
      "====  =====  ================  ================================================================================================\r\n",
      "row   field  code              message                                                                                         \r\n",
      "====  =====  ================  ================================================================================================\r\n",
      "None      3  duplicate-header  Header \"name\" in field at position \"3\" is duplicated to header in another field: at position \"2\"\r\n",
      "====  =====  ================  ================================================================================================\r\n",
      "\u001b[0m\r\n"
     ]
    }
   ],
   "source": [
    "! frictionless validate data/capital-invalid.csv --pick-errors duplicate-header"
   ]
  },
  {
   "cell_type": "markdown",
   "metadata": {},
   "source": [
    "Please keep reading to learn about the table validation in-detail.\n",
    "\n",
    "## Validation Options\n",
    "\n",
    "Let's overview options that the described `validate` functions accept:\n",
    "\n",
    "### Schema/Inquiry\n",
    "\n",
    "The `validate_schema` and `validate_inquiry` don't accept any options in addition to `source`.\n",
    "\n",
    "### Resource/Package\n",
    "\n",
    "The Resource and Package incapsulate most of information within their descriptor so the amount of additional options is really limited:\n",
    "- `basepath`: base path for a resource/package\n",
    "- `noinfer`: a flag disabling an infer function call\n",
    "\n",
    "### Table\n",
    "\n",
    "The `validate_table` function accept most of the `describe/extract` function's options:\n",
    "\n",
    "- File Details (see \"Extracting Data\")\n",
    "- File Control (see \"Extracting Data\")\n",
    "- Table Dialect (see \"Extracting Data\")\n",
    "- Table Query (see \"Extracting Data\")\n",
    "- Header Options (see \"Extracting Data\")\n",
    "- Schema Options (see \"Extracting Data\")\n",
    "- Integrity Options (see \"Extracting Data\")\n",
    "- Infer Options (see \"Describing Data\")\n",
    "- Errors Options\n",
    "- Memory Options\n",
    "- Checks Options\n",
    "\n",
    "## Validation Report\n",
    "\n",
    "All the `validate` functions return the Validation Report. It's an unified object containing information about a validation: source details, found error, etc. Let's explore a report:"
   ]
  },
  {
   "cell_type": "code",
   "execution_count": 14,
   "metadata": {
    "execution": {
     "iopub.execute_input": "2020-11-26T11:16:36.037866Z",
     "iopub.status.busy": "2020-11-26T11:16:36.021728Z",
     "iopub.status.idle": "2020-11-26T11:16:36.060013Z",
     "shell.execute_reply": "2020-11-26T11:16:36.060570Z"
    }
   },
   "outputs": [
    {
     "name": "stdout",
     "output_type": "stream",
     "text": [
      "{'errors': [],\n",
      " 'stats': {'errors': 1, 'tables': 1},\n",
      " 'tables': [{'compression': 'no',\n",
      "             'compressionPath': '',\n",
      "             'dialect': {},\n",
      "             'encoding': 'utf-8',\n",
      "             'errors': [{'cell': 'name',\n",
      "                         'cells': ['id', 'name', 'name'],\n",
      "                         'code': 'duplicate-header',\n",
      "                         'description': 'Two columns in the header row have '\n",
      "                                        'the same value. Column names should '\n",
      "                                        'be unique.',\n",
      "                         'fieldName': 'name2',\n",
      "                         'fieldNumber': 3,\n",
      "                         'fieldPosition': 3,\n",
      "                         'message': 'Header \"name\" in field at position \"3\" is '\n",
      "                                    'duplicated to header in another field: at '\n",
      "                                    'position \"2\"',\n",
      "                         'name': 'Duplicate Header',\n",
      "                         'note': 'at position \"2\"',\n",
      "                         'tags': ['#head', '#structure']}],\n",
      "             'format': 'csv',\n",
      "             'hashing': 'md5',\n",
      "             'header': ['id', 'name', 'name'],\n",
      "             'partial': False,\n",
      "             'path': 'data/capital-invalid.csv',\n",
      "             'query': {},\n",
      "             'schema': {'fields': [{'name': 'id', 'type': 'integer'},\n",
      "                                   {'name': 'name', 'type': 'string'},\n",
      "                                   {'name': 'name2', 'type': 'string'}]},\n",
      "             'scheme': 'file',\n",
      "             'scope': ['duplicate-header'],\n",
      "             'stats': {'bytes': 171,\n",
      "                       'errors': 1,\n",
      "                       'fields': 3"
     ]
    },
    {
     "name": "stdout",
     "output_type": "stream",
     "text": [
      ",\n",
      "                       'hash': 'dcdeae358cfd50860c18d953e021f836',\n",
      "                       'rows': 11},\n",
      "             'time': 0.017,\n",
      "             'valid': False}],\n",
      " 'time': 0.017,\n",
      " 'valid': False,\n",
      " 'version': '3.34.3'}\n"
     ]
    }
   ],
   "source": [
    "from pprint import pprint\n",
    "from frictionless import validate\n",
    "\n",
    "report = validate('data/capital-invalid.csv', pick_errors=['duplicate-header'])\n",
    "pprint(report)"
   ]
  },
  {
   "cell_type": "markdown",
   "metadata": {},
   "source": [
    "As we can see, there are a lot of information; you can find its details description in \"API Reference\". Errors are groupped by tables; for some validation there are can be dozens of tables. Let's use the `report.flatten` function to simplify errors representation:"
   ]
  },
  {
   "cell_type": "code",
   "execution_count": 15,
   "metadata": {
    "execution": {
     "iopub.execute_input": "2020-11-26T11:16:36.069401Z",
     "iopub.status.busy": "2020-11-26T11:16:36.067916Z",
     "iopub.status.idle": "2020-11-26T11:16:36.088035Z",
     "shell.execute_reply": "2020-11-26T11:16:36.088665Z"
    }
   },
   "outputs": [
    {
     "name": "stdout",
     "output_type": "stream",
     "text": [
      "[[None,\n",
      "  3,\n",
      "  'duplicate-header',\n",
      "  'Header \"name\" in field at position \"3\" is duplicated to header in another '\n",
      "  'field: at position \"2\"']]\n"
     ]
    }
   ],
   "source": [
    "from frictionless import validate\n",
    "\n",
    "report = validate('data/capital-invalid.csv', pick_errors=['duplicate-header'])\n",
    "pprint(report.flatten(['rowPosition', 'fieldPosition', 'code', 'message']))"
   ]
  },
  {
   "cell_type": "markdown",
   "metadata": {},
   "source": [
    "In some situation, an error can't be associated with a table; then it goes to the top-level `report.errors` property:"
   ]
  },
  {
   "cell_type": "code",
   "execution_count": 16,
   "metadata": {
    "execution": {
     "iopub.execute_input": "2020-11-26T11:16:36.098831Z",
     "iopub.status.busy": "2020-11-26T11:16:36.097219Z",
     "iopub.status.idle": "2020-11-26T11:16:36.112475Z",
     "shell.execute_reply": "2020-11-26T11:16:36.111925Z"
    }
   },
   "outputs": [
    {
     "name": "stdout",
     "output_type": "stream",
     "text": [
      "{'errors': [{'code': 'schema-error',\n",
      "             'description': 'Provided schema is not valid.',\n",
      "             'message': 'The data source could not be successfully described '\n",
      "                        'by the invalid Table Schema: cannot extract metadata '\n",
      "                        "
     ]
    },
    {
     "name": "stdout",
     "output_type": "stream",
     "text": [
      "'\"bad.json\" because \"[Errno 2] No such file or '\n",
      "                        'directory: \\'bad.json\\'\"',\n",
      "             'name': 'Schema Error',\n",
      "             'note': 'cannot extract metadata \"bad.json\" because \"[Errno 2] No '\n",
      "                     'such file or directory: \\'bad.json\\'\"',\n",
      "             'tags': ['#table', '#schema']}],\n",
      " 'stats': {'errors': 1, 'tables': 0},\n",
      " 'tables': [],\n",
      " 'time': 0.001,\n",
      " 'valid': False,\n",
      " 'version': '3.34.3'}\n"
     ]
    }
   ],
   "source": [
    "from frictionless import validate_schema\n",
    "\n",
    "report = validate_schema('bad.json')\n",
    "pprint(report)"
   ]
  },
  {
   "cell_type": "markdown",
   "metadata": {},
   "source": [
    "## Validation Errors\n",
    "\n",
    "The Error object is at the heart of the validation process. The Report has `report.errors` and `report.tables[].errors` properties that can contain the Error object. Let's explore it:"
   ]
  },
  {
   "cell_type": "code",
   "execution_count": 17,
   "metadata": {
    "execution": {
     "iopub.execute_input": "2020-11-26T11:16:36.170836Z",
     "iopub.status.busy": "2020-11-26T11:16:36.161493Z",
     "iopub.status.idle": "2020-11-26T11:16:36.175542Z",
     "shell.execute_reply": "2020-11-26T11:16:36.174996Z"
    }
   },
   "outputs": [
    {
     "name": "stdout",
     "output_type": "stream",
     "text": [
      "Code: \"duplicate-header\"\n",
      "Name: \"Duplicate Header\"\n",
      "Tags: \"['#head', '#structure']\"\n",
      "Note: \"at position \"2\"\"\n",
      "Message: \"Header \"name\" in field at position \"3\" is duplicated to header in another field: at position \"2\"\"\n",
      "Description: \"Two columns in the header row have the same value. Column names should be unique.\"\n"
     ]
    }
   ],
   "source": [
    "from frictionless import validate\n",
    "\n",
    "report = validate('data/capital-invalid.csv', pick_errors=['duplicate-header'])\n",
    "error = report.table.error # it's only available for 1 table / 1 error sitution\n",
    "print(f'Code: \"{error.code}\"')\n",
    "print(f'Name: \"{error.name}\"')\n",
    "print(f'Tags: \"{error.tags}\"')\n",
    "print(f'Note: \"{error.note}\"')\n",
    "print(f'Message: \"{error.message}\"')\n",
    "print(f'Description: \"{error.description}\"')"
   ]
  },
  {
   "cell_type": "markdown",
   "metadata": {},
   "source": [
    "Above, we have listed universal error properties. Depending on the type of an error there can be additional ones. For example, for our `duplicate-header` error:"
   ]
  },
  {
   "cell_type": "code",
   "execution_count": 18,
   "metadata": {
    "execution": {
     "iopub.execute_input": "2020-11-26T11:16:36.184527Z",
     "iopub.status.busy": "2020-11-26T11:16:36.183567Z",
     "iopub.status.idle": "2020-11-26T11:16:36.205064Z",
     "shell.execute_reply": "2020-11-26T11:16:36.204075Z"
    }
   },
   "outputs": [
    {
     "name": "stdout",
     "output_type": "stream",
     "text": [
      "{'cell': 'name',\n",
      " 'cells': ['id', 'name', 'name'],\n",
      " 'code': 'duplicate-header',\n",
      " 'description': 'Two columns in the header row have the same value. Column '\n",
      "                'names should be unique.',\n",
      " 'fieldName': 'name2',\n",
      " 'fieldNumber': 3,\n",
      " 'fieldPosition': 3,\n",
      " 'message': 'Header \"name\" in field at position \"3\" is duplicated to header in '\n",
      "            'another field: at position \"2\"',\n",
      " 'name': 'Duplicate Header',\n",
      " 'note': 'at position \"2\"',\n",
      " 'tags': ['#head', '#structure']}\n"
     ]
    }
   ],
   "source": [
    "from frictionless import validate\n",
    "\n",
    "report = validate('data/capital-invalid.csv', pick_errors=['duplicate-header'])\n",
    "error = report.table.error # it's only available for 1 table / 1 error sitution\n",
    "pprint(error)"
   ]
  },
  {
   "cell_type": "markdown",
   "metadata": {},
   "source": [
    "Please explore \"Errors Reference\" to learn about all the available errors and their properties.\n",
    "\n",
    "## Errors Options\n",
    "\n",
    "We have already seen a few mentions of error options like `pick_errors`. Let's take a look at all of them. These options are similiar to the `extract`'s counterparts for fields and rows.\n",
    "\n",
    "### Pick/Skip Errors\n",
    "\n",
    "We can pick or skip errors providing a list of error codes. For example:"
   ]
  },
  {
   "cell_type": "code",
   "execution_count": 19,
   "metadata": {
    "execution": {
     "iopub.execute_input": "2020-11-26T11:16:36.234696Z",
     "iopub.status.busy": "2020-11-26T11:16:36.233870Z",
     "iopub.status.idle": "2020-11-26T11:16:36.239265Z",
     "shell.execute_reply": "2020-11-26T11:16:36.240266Z"
    }
   },
   "outputs": [
    {
     "name": "stdout",
     "output_type": "stream",
     "text": [
      "[[None, 3, 'duplicate-header']]\n",
      "[[10, 3, 'missing-cell'],\n",
      " [11, None, 'blank-row'],\n",
      " [12, 4, 'extra-cell'],\n",
      " [12, 1, 'type-error']]\n"
     ]
    }
   ],
   "source": [
    "from frictionless import validate\n",
    "\n",
    "report1 = validate('data/capital-invalid.csv', pick_errors=['duplicate-header'])\n",
    "report2 = validate('data/capital-invalid.csv', skip_errors=['duplicate-header'])\n",
    "pprint(report1.flatten(['rowPosition', 'fieldPosition', 'code']))\n",
    "pprint(report2.flatten(['rowPosition', 'fieldPosition', 'code']))"
   ]
  },
  {
   "cell_type": "markdown",
   "metadata": {},
   "source": [
    "It's also possible to use error tags (for more information please consult with \"Errors Reference\"):"
   ]
  },
  {
   "cell_type": "code",
   "execution_count": 20,
   "metadata": {
    "execution": {
     "iopub.execute_input": "2020-11-26T11:16:36.250096Z",
     "iopub.status.busy": "2020-11-26T11:16:36.248937Z",
     "iopub.status.idle": "2020-11-26T11:16:36.275500Z",
     "shell.execute_reply": "2020-11-26T11:16:36.276510Z"
    }
   },
   "outputs": [
    {
     "name": "stdout",
     "output_type": "stream",
     "text": [
      "[[None, 3, 'duplicate-header']]\n",
      "[[None, 3, 'duplicate-header']]\n"
     ]
    }
   ],
   "source": [
    "from frictionless import validate\n",
    "\n",
    "report1 = validate('data/capital-invalid.csv', pick_errors=['#head'])\n",
    "report2 = validate('data/capital-invalid.csv', skip_errors=['#body'])\n",
    "pprint(report1.flatten(['rowPosition', 'fieldPosition', 'code']))\n",
    "pprint(report2.flatten(['rowPosition', 'fieldPosition', 'code']))"
   ]
  },
  {
   "cell_type": "markdown",
   "metadata": {},
   "source": [
    "### Limit Errors\n",
    "\n",
    "This option is self-explanatory and can be used when you need to \"fail fast\" or get a limited amount of errors:"
   ]
  },
  {
   "cell_type": "code",
   "execution_count": 21,
   "metadata": {
    "execution": {
     "iopub.execute_input": "2020-11-26T11:16:36.284208Z",
     "iopub.status.busy": "2020-11-26T11:16:36.282920Z",
     "iopub.status.idle": "2020-11-26T11:16:36.303362Z",
     "shell.execute_reply": "2020-11-26T11:16:36.302183Z"
    }
   },
   "outputs": [
    {
     "name": "stdout",
     "output_type": "stream",
     "text": [
      "[[None, 3, 'duplicate-header']]\n"
     ]
    }
   ],
   "source": [
    "from frictionless import validate\n",
    "\n",
    "report = validate('data/capital-invalid.csv', limit_errors=1)\n",
    "pprint(report.flatten(['rowPosition', 'fieldPosition', 'code']))"
   ]
  },
  {
   "cell_type": "markdown",
   "metadata": {},
   "source": [
    "## Memory Options\n",
    "\n",
    "Frictionless is a streaming engine; usually it's possible to validate terrabytes of data with basically O(1) memory consumption. For some validation, it's not the case because Frctionless needs to buffer some cells e.g. to checks uniqueness. Here memory management can be handy.\n",
    "\n",
    "### Limit Memory\n",
    "\n",
    "Default memory limit is 1000MB. You can adjust it based on your exact use case. For example, if you're running Frictionless as an API server you might reduce the memory usage. If a validation hits the limit it will not raise of fail - it will return a report with a task error:"
   ]
  },
  {
   "cell_type": "markdown",
   "metadata": {},
   "source": [
    "```py\n",
    "from frictionless import validate\n",
    "\n",
    "source = lambda: ([integer] for integer in range(1, 100000000))\n",
    "schema = {\"fields\": [{\"name\": \"integer\", \"type\": \"integer\"}], \"primaryKey\": \"integer\"}\n",
    "report = validate(source, headers=False, schema=schema, limit_memory=50)\n",
    "print(report.flatten([\"code\", \"note\"]))\n",
    "# [['task-error', 'exceeded memory limit \"50MB\"']]\n",
    "```\n"
   ]
  },
  {
   "cell_type": "markdown",
   "metadata": {},
   "source": [
    "## Checks Options\n",
    "\n",
    "Ther are two check options: `checksum` and `extra_checks`. The first allows to stricten a baseline validation white the latter is used to enforce additional checks.\n",
    "\n",
    "### Checksum\n",
    "\n",
    "We can provide a hash string, the amount of bytes, and the amount of rows. Frictionless will ensure as a part of a validation that the actual values match the expected ones. Let's show for the hash:"
   ]
  },
  {
   "cell_type": "code",
   "execution_count": 22,
   "metadata": {
    "execution": {
     "iopub.execute_input": "2020-11-26T11:16:36.312627Z",
     "iopub.status.busy": "2020-11-26T11:16:36.311539Z",
     "iopub.status.idle": "2020-11-26T11:16:36.329863Z",
     "shell.execute_reply": "2020-11-26T11:16:36.330792Z"
    }
   },
   "outputs": [
    {
     "name": "stdout",
     "output_type": "stream",
     "text": [
      "[['checksum-error', 'expected hash in md5 is \"bad\" and actual is \"dcdeae358cfd50860c18d953e021f836\"']]\n"
     ]
    }
   ],
   "source": [
    "from frictionless import validate\n",
    "\n",
    "report = validate('data/capital-invalid.csv', checksum={'hash': 'bad'}, pick_errors=['#checksum'])\n",
    "print(report.flatten([\"code\", \"note\"]))"
   ]
  },
  {
   "cell_type": "markdown",
   "metadata": {},
   "source": [
    "The same can be show for the bytes and rows:"
   ]
  },
  {
   "cell_type": "code",
   "execution_count": 23,
   "metadata": {
    "execution": {
     "iopub.execute_input": "2020-11-26T11:16:36.337964Z",
     "iopub.status.busy": "2020-11-26T11:16:36.337231Z",
     "iopub.status.idle": "2020-11-26T11:16:36.356970Z",
     "shell.execute_reply": "2020-11-26T11:16:36.356178Z"
    }
   },
   "outputs": [
    {
     "name": "stdout",
     "output_type": "stream",
     "text": [
      "[['checksum-error', 'expected bytes count is \"10\" and actual is \"171\"'],\n",
      " ['checksum-error', 'expected rows count is \"10\" and actual is \"11\"']]\n"
     ]
    }
   ],
   "source": [
    "from frictionless import validate\n",
    "\n",
    "report = validate('data/capital-invalid.csv', checksum={'bytes': 10, 'rows': 10}, pick_errors=['#checksum'])\n",
    "pprint(report.flatten([\"code\", \"note\"]))"
   ]
  },
  {
   "cell_type": "markdown",
   "metadata": {},
   "source": [
    "### Extra Checks\n",
    "\n",
    "It's possible to provide a list of extra checks where individual checks are in the form of:\n",
    "- a string: `check-name`\n",
    "- a list: `['check-name', {'option1': 'value1'}]`\n",
    "\n",
    "It's also possible to use a `Check` subclass instead of name which will be shown in the \"Custom Checks\" section. Let's have a loot at an example:"
   ]
  },
  {
   "cell_type": "code",
   "execution_count": 24,
   "metadata": {
    "execution": {
     "iopub.execute_input": "2020-11-26T11:16:36.381614Z",
     "iopub.status.busy": "2020-11-26T11:16:36.379782Z",
     "iopub.status.idle": "2020-11-26T11:16:36.386372Z",
     "shell.execute_reply": "2020-11-26T11:16:36.387845Z"
    }
   },
   "outputs": [
    {
     "name": "stdout",
     "output_type": "stream",
     "text": [
      "[[None, 3, 'duplicate-header', 'at position \"2\"'],\n",
      " [10, 3, 'missing-cell', ''],\n",
      " [10, 1, 'sequential-value', 'the value is not sequential'],\n",
      " [11, None, 'blank-row', ''],\n",
      " [12, 4, 'extra-cell', ''],\n",
      " [12, 1, 'type-error', 'type is \"integer/default\"']]\n"
     ]
    }
   ],
   "source": [
    "from frictionless import validate\n",
    "\n",
    "report = validate('data/capital-invalid.csv', extra_checks=[('sequential-value', {'fieldName': 'id'})])\n",
    "pprint(report.flatten([\"rowPosition\", \"fieldPosition\", \"code\", \"note\"]))"
   ]
  },
  {
   "cell_type": "markdown",
   "metadata": {},
   "source": [
    "See the sections below for a list of available checks.\n",
    "\n",
    "## Baseline Check\n",
    "\n",
    "By default, Frictionless runs only the Baseline Check but includes vairous smaller checks revealing a great deal of tabular errors. There is a `report.tables[].scope` property to check what exact errors it have been checked for:"
   ]
  },
  {
   "cell_type": "code",
   "execution_count": 25,
   "metadata": {
    "execution": {
     "iopub.execute_input": "2020-11-26T11:16:36.396402Z",
     "iopub.status.busy": "2020-11-26T11:16:36.394710Z",
     "iopub.status.idle": "2020-11-26T11:16:36.418699Z",
     "shell.execute_reply": "2020-11-26T11:16:36.419837Z"
    }
   },
   "outputs": [
    {
     "name": "stdout",
     "output_type": "stream",
     "text": [
      "['dialect-error',\n",
      " 'schema-error',\n",
      " 'field-error',\n",
      " 'extra-header',\n",
      " 'missing-header',\n",
      " 'blank-header',\n",
      " 'duplicate-header',\n",
      " 'non-matching-header',\n",
      " 'extra-cell',\n",
      " 'missing-cell',\n",
      " 'blank-row',\n",
      " 'type-error',\n",
      " 'constraint-error',\n",
      " 'unique-error',\n",
      " 'primary-key-error',\n",
      " 'foreign-key-error',\n",
      " 'checksum-error']\n"
     ]
    }
   ],
   "source": [
    "from frictionless import validate\n",
    "\n",
    "report = validate('data/capital-invalid.csv')\n",
    "pprint(report.table.scope)"
   ]
  },
  {
   "cell_type": "markdown",
   "metadata": {},
   "source": [
    "## Heuristic Checks\n",
    "\n",
    "There is a group of checks that indicate probable errors. You need to use the `extra_checks` argument of the `validate` function to active one or more of these checks.\n",
    "\n",
    "### Duplicate Row\n",
    "\n",
    "This check is self-explanatory. You need to take into account that checking for duplicate rows can lean to high memory consumption on big files. Here is an example:"
   ]
  },
  {
   "cell_type": "code",
   "execution_count": 26,
   "metadata": {
    "execution": {
     "iopub.execute_input": "2020-11-26T11:16:36.435859Z",
     "iopub.status.busy": "2020-11-26T11:16:36.426062Z",
     "iopub.status.idle": "2020-11-26T11:16:36.441142Z",
     "shell.execute_reply": "2020-11-26T11:16:36.441643Z"
    }
   },
   "outputs": [
    {
     "name": "stdout",
     "output_type": "stream",
     "text": [
      "[['duplicate-row',\n",
      "  'Row at position 3 is duplicated: the same as row at position \"2\"']]\n"
     ]
    }
   ],
   "source": [
    "from pprint import pprint\n",
    "from frictionless import validate\n",
    "\n",
    "source = 'header\\nvalue\\nvalue'\n",
    "report = validate(source, scheme='text', format='csv', extra_checks=['duplicate-row'])\n",
    "pprint(report.flatten(['code', 'message']))"
   ]
  },
  {
   "cell_type": "markdown",
   "metadata": {},
   "source": [
    "### Deviated Value\n",
    "\n",
    "This check uses the Python's builtin `statistics` module to check a field's data for deviations. By default, deviated values are outside of the average +- three standard deviations. Take a look at the [API Reference](https://github.com/frictionlessdata/frictionless-py/blob/master/docs/target/api-reference/README.md#deviatedvaluecheck) for more details about available options and default values. The exact algorithm can be found [here](https://github.com/frictionlessdata/frictionless-py/blob/7ae8bae9a9197adbfe443233a6bad8a94e065ece/frictionless/checks/heuristic.py#L94). For example:"
   ]
  },
  {
   "cell_type": "code",
   "execution_count": 27,
   "metadata": {
    "execution": {
     "iopub.execute_input": "2020-11-26T11:16:36.458782Z",
     "iopub.status.busy": "2020-11-26T11:16:36.457399Z",
     "iopub.status.idle": "2020-11-26T11:16:36.462752Z",
     "shell.execute_reply": "2020-11-26T11:16:36.463932Z"
    }
   },
   "outputs": [
    {
     "name": "stdout",
     "output_type": "stream",
     "text": [
      "[['deviated-value',\n",
      "  'There is a possible error because the value is deviated: value \"1000\" in '\n",
      "  'row at position \"10\" and field \"temperature\" is deviated \"[-809.88, '\n",
      "  '995.52]\"']]\n"
     ]
    }
   ],
   "source": [
    "    from pprint import pprint\n",
    "    from frictionless import validate\n",
    "\n",
    "    source = [[\"temperature\"], [1], [-2], [7], [0], [1], [2], [5], [-4], [1000], [8], [3]]\n",
    "    report = validate(source, extra_checks=[(\"deviated-value\", {\"fieldName\": \"temperature\"})])\n",
    "    pprint(report.flatten([\"code\", \"message\"]))\n"
   ]
  },
  {
   "cell_type": "markdown",
   "metadata": {},
   "source": [
    "### Truncated Value\n",
    "\n",
    "Sometime during the explort from a database or another storage, data values can be truncated. This check tries to detect it. Let's explore some trunctation indicators:"
   ]
  },
  {
   "cell_type": "code",
   "execution_count": 28,
   "metadata": {
    "execution": {
     "iopub.execute_input": "2020-11-26T11:16:36.482586Z",
     "iopub.status.busy": "2020-11-26T11:16:36.480714Z",
     "iopub.status.idle": "2020-11-26T11:16:36.489321Z",
     "shell.execute_reply": "2020-11-26T11:16:36.488197Z"
    }
   },
   "outputs": [
    {
     "name": "stdout",
     "output_type": "stream",
     "text": [
      "[['truncated-value',\n",
      "  'The cell '\n",
      "  'aaaaaaaaaaaaaaaaaaaaaaaaaaaaaaaaaaaaaaaaaaaaaaaaaaaaaaaaaaaaaaaaaaaaaaaaaaaaaaaaaaaaaaaaaaaaaaaaaaaaaaaaaaaaaaaaaaaaaaaaaaaaaaaaaaaaaaaaaaaaaaaaaaaaaaaaaaaaaaaaaaaaaaaaaaaaaaaaaaaaaaaaaaaaaaaaaaaaaaaaaaaaaaaaaaaaaaaaaaaaaaaaaaaaaaaaaaaaaaaaaaaaaaaaaaaaaaa '\n",
      "  'in row at position 2 and field int at position 1 has an error: value  is '\n",
      "  'probably truncated'],\n",
      " ['truncated-value',\n",
      "  'The cell 32767 in row at position 2 and field str at position 2 has an '\n",
      "  'error: value  is probably truncated'],\n",
      " ['truncated-value',\n",
      "  'The cell 2147483647 in row at position 3 and field str at position 2 has an '\n",
      "  'error: value  is probably truncated']]\n"
     ]
    }
   ],
   "source": [
    "from pprint import pprint\n",
    "from frictionless import validate\n",
    "\n",
    "source = [[\"int\", \"str\"], [\"a\" * 255, 32767], [\"good\", 2147483647]]\n",
    "report = validate(source, extra_checks=[\"truncated-value\"],)\n",
    "pprint(report.flatten([\"code\", \"message\"]))"
   ]
  },
  {
   "cell_type": "markdown",
   "metadata": {},
   "source": [
    "## Regulation Checks\n",
    "\n",
    "In countrary to heuristic checks, regulation checks gives you an ability to provide additional rules for your data. Use the `extra_checks` argument of the `validate` function to active one or more of these checks.\n",
    "\n",
    "### Blacklisted Value\n",
    "\n",
    "This check ensures that some field doesn't have any blacklisted values. For example:"
   ]
  },
  {
   "cell_type": "code",
   "execution_count": 29,
   "metadata": {
    "execution": {
     "iopub.execute_input": "2020-11-26T11:16:36.506726Z",
     "iopub.status.busy": "2020-11-26T11:16:36.505243Z",
     "iopub.status.idle": "2020-11-26T11:16:36.512010Z",
     "shell.execute_reply": "2020-11-26T11:16:36.512790Z"
    }
   },
   "outputs": [
    {
     "name": "stdout",
     "output_type": "stream",
     "text": [
      "[['blacklisted-value',\n",
      "  'The cell value2 in row at position 3 and field header at position 1 has an '\n",
      "  'error: blacklisted values are \"[\\'value2\\']\"']]\n"
     ]
    }
   ],
   "source": [
    "from pprint import pprint\n",
    "from frictionless import validate\n",
    "\n",
    "source = 'header\\nvalue1\\nvalue2'\n",
    "extra_checks = [('blacklisted-value', {'fieldName': 'header', 'blacklist': ['value2']})]\n",
    "report = validate(source, scheme='text', format='csv', extra_checks=extra_checks)\n",
    "pprint(report.flatten(['code', 'message']))"
   ]
  },
  {
   "cell_type": "markdown",
   "metadata": {},
   "source": [
    "### Sequential Value\n",
    "\n",
    "This check gives us an opportunity to validate sequential fields like primary keys or other similiar data. It doesn't need to start from 0 or 1. We're providing a field name:"
   ]
  },
  {
   "cell_type": "code",
   "execution_count": 30,
   "metadata": {
    "execution": {
     "iopub.execute_input": "2020-11-26T11:16:36.532172Z",
     "iopub.status.busy": "2020-11-26T11:16:36.531393Z",
     "iopub.status.idle": "2020-11-26T11:16:36.536176Z",
     "shell.execute_reply": "2020-11-26T11:16:36.537075Z"
    }
   },
   "outputs": [
    {
     "name": "stdout",
     "output_type": "stream",
     "text": [
      "[['sequential-value',\n",
      "  'The cell 5 in row at position 4 and field header at position 1 has an '\n",
      "  'error: the value is not sequential']]\n"
     ]
    }
   ],
   "source": [
    "from pprint import pprint\n",
    "from frictionless import validate\n",
    "\n",
    "source = 'header\\n2\\n3\\n5'\n",
    "extra_checks = [('sequential-value', {'fieldName': 'header'})]\n",
    "report = validate(source, scheme='text', format='csv', extra_checks=extra_checks)\n",
    "pprint(report.flatten(['code', 'message']))"
   ]
  },
  {
   "cell_type": "markdown",
   "metadata": {},
   "source": [
    "### Row Constraint\n",
    "\n",
    "This checks is the most powerful one as it uses the external `simpleeval` package allowing to evalute arbitrary python expressions on data rows. Let's show on an example:"
   ]
  },
  {
   "cell_type": "code",
   "execution_count": 31,
   "metadata": {
    "execution": {
     "iopub.execute_input": "2020-11-26T11:16:36.556207Z",
     "iopub.status.busy": "2020-11-26T11:16:36.547020Z",
     "iopub.status.idle": "2020-11-26T11:16:36.562430Z",
     "shell.execute_reply": "2020-11-26T11:16:36.563229Z"
    }
   },
   "outputs": [
    {
     "name": "stdout",
     "output_type": "stream",
     "text": [
      "[['row-constraint',\n",
      "  'The row at position 4 has an error: the row constraint to conform is '\n",
      "  '\"salary == bonus * 5\"']]\n"
     ]
    }
   ],
   "source": [
    "from pprint import pprint\n",
    "from frictionless import validate\n",
    "\n",
    "source = [\n",
    "  [\"row\", \"salary\", \"bonus\"],\n",
    "  [2, 1000, 200],\n",
    "  [3, 2500, 500],\n",
    "  [4, 1300, 500],\n",
    "  [5, 5000, 1000],\n",
    "]\n",
    "extra_checks=[(\"row-constraint\", {\"constraint\": \"salary == bonus * 5\"})]\n",
    "report = validate(source, extra_checks=extra_checks)\n",
    "pprint(report.flatten([\"code\", \"message\"]))"
   ]
  },
  {
   "cell_type": "markdown",
   "metadata": {},
   "source": [
    "## Custom Checks\n",
    "\n",
    "There are many cases when built-in Frictionless' checks are not enough. It can be a business logic rule or specific quality requirement to the data. With Frictionless it's very easy to use your own custom checks. Let's see on an example:"
   ]
  },
  {
   "cell_type": "code",
   "execution_count": 32,
   "metadata": {
    "execution": {
     "iopub.execute_input": "2020-11-26T11:16:36.583172Z",
     "iopub.status.busy": "2020-11-26T11:16:36.574202Z",
     "iopub.status.idle": "2020-11-26T11:16:36.588557Z",
     "shell.execute_reply": "2020-11-26T11:16:36.589732Z"
    }
   },
   "outputs": [
    {
     "name": "stdout",
     "output_type": "stream",
     "text": [
      "[[3, 1, 'cell-error', 'number 2 is forbidden!']]\n"
     ]
    }
   ],
   "source": [
    "from pprint import pprint\n",
    "from frictionless import validate, errors, Check\n",
    "\n",
    "# Create check\n",
    "class ForbidNumber(Check):\n",
    "    def validate_row(self, row):\n",
    "        if row['header'] == self['number']:\n",
    "          note = f\"number {self['number']} is forbidden!\"\n",
    "          yield errors.CellError.from_row(row, note=note, field_name='header')\n",
    "\n",
    "# Validate table\n",
    "source = 'header\\n1\\n2\\n3'\n",
    "extra_checks=[(ForbidNumber, {'number': 2})]\n",
    "report = validate(source,  scheme='text', format='csv', extra_checks=extra_checks)\n",
    "pprint(report.flatten([\"rowPosition\", \"fieldPosition\", \"code\", \"note\"]))"
   ]
  },
  {
   "cell_type": "markdown",
   "metadata": {},
   "source": [
    "Usualy, it also makes sense to create a custom error for your custom check. The Check class provides other useful methods like `validate_header` etc. Please read \"API Reference\" to learn it in details."
   ]
  }
 ],
 "metadata": {
  "language_info": {
   "codemirror_mode": {
    "name": "ipython",
    "version": 3
   },
   "file_extension": ".py",
   "mimetype": "text/x-python",
   "name": "python",
   "nbconvert_exporter": "python",
   "pygments_lexer": "ipython3",
   "version": "3.8.0"
  }
 },
 "nbformat": 4,
 "nbformat_minor": 4
}
