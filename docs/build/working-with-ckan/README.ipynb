{
 "cells": [
  {
   "cell_type": "markdown",
   "metadata": {},
   "source": [
    "# Working with CKAN\n",
    "\n",
    ">Status: **EXPERIMENTAL**\n",
    "\n",
    "Frictionless supports reading and writing CKAN datasets."
   ]
  },
  {
   "cell_type": "markdown",
   "metadata": {},
   "source": [
    "```sh\n",
    "! pip install frictionless[ckan]\n",
    "```\n"
   ]
  },
  {
   "cell_type": "markdown",
   "metadata": {},
   "source": [
    "## Reading from CKAN\n",
    "\n",
    "You can read a CKAN dataset:"
   ]
  },
  {
   "cell_type": "markdown",
   "metadata": {},
   "source": [
    "```py\n",
    "from frictionless import Package\n",
    "\n",
    "package = Package.from_ckan(base_url='<base_url>', dataset_id='<dataset_id>', api_key='<api_key>')\n",
    "print(package)\n",
    "for resource in package.resources:\n",
    "  print(resource.read_rows())\n",
    "```\n"
   ]
  },
  {
   "cell_type": "markdown",
   "metadata": {},
   "source": [
    "## Wriring to CKAN\n",
    "\n",
    "You can write a dataset to CKAN:"
   ]
  },
  {
   "cell_type": "markdown",
   "metadata": {},
   "source": [
    "```py\n",
    "from frictionless import Package\n",
    "\n",
    "package = Package('path/to/datapackage.json')\n",
    "package.to_ckan(base_url='<base_url>', dataset_id='<dataset_id>', api_key='<api_key>')\n",
    "```\n"
   ]
  },
  {
   "cell_type": "markdown",
   "metadata": {},
   "source": [
    "## Configuring CKAN\n",
    "\n",
    "> CKAN dialect is not yet available"
   ]
  }
 ],
 "metadata": {
  "language_info": {
   "codemirror_mode": {
    "name": "ipython",
    "version": 3
   },
   "file_extension": ".py",
   "mimetype": "text/x-python",
   "name": "python",
   "nbconvert_exporter": "python",
   "pygments_lexer": "ipython3",
   "version": "3.8.0"
  }
 },
 "nbformat": 4,
 "nbformat_minor": 4
}
