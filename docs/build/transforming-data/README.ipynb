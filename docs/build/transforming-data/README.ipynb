{
 "cells": [
  {
   "cell_type": "markdown",
   "metadata": {},
   "source": [
    "# Transforming Data\n",
    "\n",
    "> **Both the transform functionality and this document are in the draft state. It's under active development and will be stabilized by the end of 2020.**\n",
    "\n",
    "Transforming data in Frictionless means modifying a data + metadata from the state A to the state B. For example, it can be a dirty Excel file we need to transform to a cleaned CSV file or a folder of data files we want to update and save as a data package.\n",
    "\n",
    "For the core transform functions Frictionless uses amazing [PETL](https://petl.readthedocs.io/en/stable/) project under the hood. This library provides lazy-loading functinality in running data pipelines. On top of it Frictionless adds metadata management and a bridge between already familiar concepts like Pacakge/Resource and PETL's processors.\n",
    "\n",
    "Frictionless supports a few different kinds of data and metadata transformations:\n",
    "- resource and package transforms\n",
    "- transforms based on a declarative pipeline\n",
    "\n",
    "The main difference between the first two and pipelines that resource and package transforms are imperative while pipelines can be created beforehand or shared as a JSON file. Also, Frictionless supports a [Dataflows](https://frictionlessdata.io/tooling/python/working-with-dataflows/) pipeline runner. You need to install the `dataflows` plugin to use it."
   ]
  },
  {
   "cell_type": "code",
   "execution_count": 1,
   "metadata": {
    "execution": {
     "iopub.execute_input": "2020-12-02T10:42:35.689207Z",
     "iopub.status.busy": "2020-12-02T10:42:35.687919Z",
     "iopub.status.idle": "2020-12-02T10:42:35.818422Z",
     "shell.execute_reply": "2020-12-02T10:42:35.819873Z"
    }
   },
   "outputs": [
    {
     "name": "stdout",
     "output_type": "stream",
     "text": [
      "id,name,population\r\n",
      "1,germany,83\r\n",
      "2,france,66\r\n",
      "3,spain,47\r\n"
     ]
    }
   ],
   "source": [
    "! cat data/transform.csv"
   ]
  },
  {
   "cell_type": "code",
   "execution_count": 2,
   "metadata": {
    "execution": {
     "iopub.execute_input": "2020-12-02T10:42:35.828057Z",
     "iopub.status.busy": "2020-12-02T10:42:35.827234Z",
     "iopub.status.idle": "2020-12-02T10:42:35.949025Z",
     "shell.execute_reply": "2020-12-02T10:42:35.950106Z"
    }
   },
   "outputs": [
    {
     "name": "stdout",
     "output_type": "stream",
     "text": [
      "id,name,population,year\r\n",
      "1,germany,83,2020\r\n",
      "2,germany,77,1920\r\n",
      "3,france,66,2020\r\n",
      "4,france,54,1920\r\n",
      "5,spain,47,2020\r\n",
      "6,spain,33,1920\r\n"
     ]
    }
   ],
   "source": [
    "! cat data/transform-groups.csv"
   ]
  },
  {
   "cell_type": "code",
   "execution_count": 3,
   "metadata": {
    "execution": {
     "iopub.execute_input": "2020-12-02T10:42:35.959132Z",
     "iopub.status.busy": "2020-12-02T10:42:35.957891Z",
     "iopub.status.idle": "2020-12-02T10:42:36.079013Z",
     "shell.execute_reply": "2020-12-02T10:42:36.080285Z"
    }
   },
   "outputs": [
    {
     "name": "stdout",
     "output_type": "stream",
     "text": [
      "region,gender,style,units\r\n",
      "east,boy,tee,12\r\n",
      "east,boy,golf,14\r\n",
      "east,boy,fancy,7\r\n",
      "east,girl,tee,3\r\n",
      "east,girl,golf,8\r\n",
      "east,girl,fancy,18\r\n",
      "west,boy,tee,12\r\n",
      "west,boy,golf,15\r\n",
      "west,boy,fancy,8\r\n",
      "west,girl,tee,6\r\n",
      "west,girl,golf,16\r\n",
      "west,girl,fancy,1\r\n"
     ]
    }
   ],
   "source": [
    "! cat data/transform-pivot.csv"
   ]
  },
  {
   "cell_type": "markdown",
   "metadata": {},
   "source": [
    "## Transform Functions\n",
    "\n",
    "The high-level interface for transforming data provided by Frictionless is a set of `transform` functions:\n",
    "- `transform`: it will detect the source type and transform data accordingly\n",
    "- `transform_resource`: it transforms a resource\n",
    "- `transform_package`: it transforms a package\n",
    "- `transform_pipeline`: it transforms resource or package based on a declarative pipeline definition\n",
    "\n",
    "### Transforming Resource\n",
    "\n",
    "Let's write our first transform. It's as easy as defining a source resource, applying transform steps and getting back a resulting target resource:"
   ]
  },
  {
   "cell_type": "code",
   "execution_count": 4,
   "metadata": {
    "execution": {
     "iopub.execute_input": "2020-12-02T10:42:36.094050Z",
     "iopub.status.busy": "2020-12-02T10:42:36.093353Z",
     "iopub.status.idle": "2020-12-02T10:42:36.779411Z",
     "shell.execute_reply": "2020-12-02T10:42:36.780186Z"
    }
   },
   "outputs": [
    {
     "name": "stdout",
     "output_type": "stream",
     "text": [
      "{'fields': [{'name': 'name', 'type': 'string'},\n",
      "            {'name': 'variable'},\n",
      "            {'name': 'value'}]}\n",
      "[Row([('name', 'germany'), ('variable', 'id'), ('value', 1)]),\n",
      " Row([('name', 'germany'), ('variable', 'population'), ('value', 83)]),\n",
      " Row([('name', 'france'), ('variable', 'id'), ('value', 2)]),\n",
      " Row([('name', 'france'), ('variable', 'population'), ('value', 66)]),\n",
      " Row([('name', 'spain'), ('variable', 'id'), ('value', 3)]),\n",
      " Row([('name', 'spain'), ('variable', 'population'), ('value', 47)])]\n"
     ]
    }
   ],
   "source": [
    "from pprint import pprint\n",
    "from frictionless import Resource, transform, steps\n",
    "\n",
    "source = Resource(path=\"data/transform.csv\")\n",
    "target = transform(\n",
    "    source,\n",
    "    steps=[\n",
    "        steps.table_normalize(),\n",
    "        steps.table_melt(field_name=\"name\"),\n",
    "    ],\n",
    ")\n",
    "pprint(target.schema)\n",
    "pprint(target.read_rows())"
   ]
  },
  {
   "cell_type": "markdown",
   "metadata": {},
   "source": [
    "Let's break the transorming steps we applied down:\n",
    "1. `steps.table_normalize` - cast data types and shape the table according to the schema, inferred or provided\n",
    "2. `steps.table_melt` - melt the table as it's done in R-Language or in other scientific libraries like `pandas`\n",
    "\n",
    "Thare are dozens of other available steps that will be covered below.\n",
    "\n",
    "### Transforming Package\n",
    "\n",
    "Transforming a package is not much more difficult than a resource. Basically, a package is a set of resources so we will be transforming resources exactly the same way as we did above + we will be managing the resources list itself, adding or removing them:"
   ]
  },
  {
   "cell_type": "code",
   "execution_count": 5,
   "metadata": {
    "execution": {
     "iopub.execute_input": "2020-12-02T10:42:36.796240Z",
     "iopub.status.busy": "2020-12-02T10:42:36.794965Z",
     "iopub.status.idle": "2020-12-02T10:42:36.845077Z",
     "shell.execute_reply": "2020-12-02T10:42:36.845928Z"
    }
   },
   "outputs": [
    {
     "name": "stdout",
     "output_type": "stream",
     "text": [
      "['main']\n",
      "{'fields': [{'name': 'id', 'type': 'integer'},\n",
      "            {'name': 'name', 'type': 'string'},\n",
      "            {'name': 'population', 'type': 'integer'}]}\n",
      "[Row([('id', 1), ('name', 'germany'), ('population', 83)]),\n",
      " Row([('id', 1), ('name', 'germany'), ('population', 83)]),\n",
      " Row([('id', 2), ('name', 'france'), ('population', 66)]),\n",
      " Row([('id', 2), ('name', 'france'), ('population', 66)]),\n",
      " Row([('id', 3), ('name', 'spain'), ('population', 47)]),\n",
      " Row([('id', 3), ('name', 'spain'), ('population', 47)])]\n"
     ]
    }
   ],
   "source": [
    "from pprint import pprint\n",
    "from frictionless import Package, Resource, transform, steps\n",
    "\n",
    "source = Package(resources=[Resource(name='main', path=\"data/transform.csv\")])\n",
    "target = transform(\n",
    "    source,\n",
    "    steps=[\n",
    "        steps.resource_add(name='extra', path='data/transform.csv'),\n",
    "        steps.resource_transform(name='main', steps=[\n",
    "            steps.table_merge(resource='extra'),\n",
    "            steps.row_sort(field_names=['id'])\n",
    "        ]),\n",
    "        steps.resource_remove(name=\"extra\"),\n",
    "    ],\n",
    ")\n",
    "pprint(target.resource_names)\n",
    "pprint(target.get_resource('main').schema)\n",
    "pprint(target.get_resource('main').read_rows())"
   ]
  },
  {
   "cell_type": "markdown",
   "metadata": {},
   "source": [
    "The exact tranformation we have applied actually doesn't make any sense as we just duplicted every row of the `main` resource. But it must have provided basic undetstanding of how simple and at the same time flexible package transformations can be.\n",
    "\n",
    "### Transforming Pipeline\n",
    "\n",
    "A pipeline is a metadata object having one of these types:\n",
    "- resource\n",
    "- package\n",
    "- dataflows\n",
    "- others (depending on custom plugins you use)\n",
    "\n",
    "For resource and package types it's basically the same functionality as we have seen above but written declaratively. So let's just run the same resource transformation as we did in the `Tranforming Resource` section:"
   ]
  },
  {
   "cell_type": "code",
   "execution_count": 6,
   "metadata": {
    "execution": {
     "iopub.execute_input": "2020-12-02T10:42:36.860323Z",
     "iopub.status.busy": "2020-12-02T10:42:36.859452Z",
     "iopub.status.idle": "2020-12-02T10:42:36.928302Z",
     "shell.execute_reply": "2020-12-02T10:42:36.927668Z"
    }
   },
   "outputs": [
    {
     "name": "stdout",
     "output_type": "stream",
     "text": [
      "{'fields': [{'name': 'name', 'type': 'string'},\n",
      "            {'name': 'variable'},\n",
      "            {'name': 'value'}]}\n",
      "[Row([('name', 'germany'), ('variable', 'id'), ('value', 1)]),\n",
      " Row([('name', 'germany'), ('variable', 'population'), ('value', 83)]),\n",
      " Row([('name', 'france'), ('variable', 'id'), ('value', 2)]),\n",
      " Row([('name', 'france'), ('variable', 'population'), ('value', 66)]),\n",
      " Row([('name', 'spain'), ('variable', 'id'), ('value', 3)]),\n",
      " Row([('name', 'spain'), ('variable', 'population'), ('value', 47)])]\n"
     ]
    }
   ],
   "source": [
    "from pprint import pprint\n",
    "from frictionless import Pipeline, transform, steps\n",
    "\n",
    "pipeline = Pipeline({\n",
    "    'type': 'resource',\n",
    "    'source': {'path': 'data/transform.csv'},\n",
    "    'steps': [\n",
    "        {'type': 'tableNormalize', 'spec': {}},\n",
    "        {'type': 'tableMelt', 'spec': {'fieldName': 'name'}}\n",
    "    ]\n",
    "})\n",
    "target = transform(pipeline)\n",
    "pprint(target.schema)\n",
    "pprint(target.read_rows())"
   ]
  },
  {
   "cell_type": "markdown",
   "metadata": {},
   "source": [
    "And as we had expected we got the same result.\n",
    "\n",
    "## Transform Options\n",
    "\n",
    "The `transorm` function accepts the `source` argument which can be a resource, a package or a pipeline descriptor\n",
    "\n",
    "### Resource\n",
    "\n",
    "The `transform_resource` function also accepts:\n",
    "\n",
    "- `steps` argument to define which steps should be applied on the source resource.\n",
    "\n",
    "### Package\n",
    "\n",
    "The `transform_package` function also accepts:\n",
    "\n",
    "- `steps` argument to define which steps should be applied on the source package.\n",
    "\n",
    "### Pipeline\n",
    "\n",
    "The `transform_pipeline` function doesn't accept any additional arguments.\n",
    "\n",
    "## Transform Principles\n",
    "\n",
    "Frictionless Transforms bases on a few core principles which is shared with other parts of the framework:\n",
    "\n",
    "### Conceptual Simplicity\n",
    "\n",
    "Frictionless Transforms is not more than a list of functions that accept a source resource/package object and return a target resource/package object. Every function just updates the input's metadata and data and that's it. Thanks to this simplicity even a non-techical user can read the [source code](https://github.com/frictionlessdata/frictionless-py/blob/7ad8e692ad00131cdc9fa51258d8b860c62e77bc/frictionless/transform/resource.py#L7) of the transform function and understand how it works. And understanding the tools you use can be really important for mastering them.\n",
    "\n",
    "### Metadata Matters\n",
    "\n",
    "There is plenty of great ETL-frameworks written in Python and other languages. As said, we use one of them (PETL) under the hood. The core difference between Frictionless and others that we treat metadata as a first-class citizien. It means that you don't loose type and other important information during the pipeline evaluation.\n",
    "\n",
    "### Data Streaming\n",
    "\n",
    "Whenever it's possible Frictionless streams the data instead of reading it into memory. For example, for sorting big tables we use a memory usage threshold and it's met we use file system to unload the data. Ability to stream the data give users power to work with files of any size.\n",
    "\n",
    "### Lazy Evaluation\n",
    "\n",
    "Unlike to systems like `Data Package Pipelines` core Frictionless Transforms doesn't have a back-pressured flow as all data manupulation happen on-demand. For example, if you transform a data package containing 10 big csv files but you only need to reshape one table Frictionless will not even read other tables. Actually, when you call `target = transform(source)` it does almost nothing untill the data reading call like `target.read_rows()` is made.\n",
    "\n",
    "### Lean Processing\n",
    "\n",
    "Similiar to the section above, Frictionless tries to be as much explicit as possible regarding actions taken. For example, it will not use CPU resources to cast data unless a user adds a \"normalize\", \"validate\" or similiar steps. So it's possible to transform rather big file without even casting types, for example, if you just need to reshape it.\n",
    "\n",
    "## Transform Steps\n",
    "\n",
    "Frictionless includes more than 40+ builtin transform steps. They are groupped by the object so you can find them easily if you have code autocomplition. Start typing, for example, `steps.table...` and you will see all the available steps. The groups are listed below and you will find every group described in more detail in the next sections. It's also possible to write custom transform steps. Please read the section below to learn more about it.\n",
    "\n",
    "- resource\n",
    "- table\n",
    "- field\n",
    "- row\n",
    "- cell\n",
    "\n",
    "## Resource Steps\n",
    "\n",
    "### Add Resource"
   ]
  },
  {
   "cell_type": "code",
   "execution_count": 7,
   "metadata": {
    "execution": {
     "iopub.execute_input": "2020-12-02T10:42:36.941892Z",
     "iopub.status.busy": "2020-12-02T10:42:36.937828Z",
     "iopub.status.idle": "2020-12-02T10:42:36.976195Z",
     "shell.execute_reply": "2020-12-02T10:42:36.975547Z"
    }
   },
   "outputs": [
    {
     "name": "stdout",
     "output_type": "stream",
     "text": [
      "['main', 'extra']\n",
      "{'fields': [{'name': 'id', 'type': 'integer'},\n",
      "            {'name': 'name', 'type': 'string'},\n",
      "            {'name': 'population', 'type': 'integer'}]}\n",
      "[Row([('id', 1), ('name', 'germany'), ('population', 83)]),\n",
      " "
     ]
    },
    {
     "name": "stdout",
     "output_type": "stream",
     "text": [
      "Row([('id', 2), ('name', 'france'), ('population', 66)]),\n",
      " Row([('id', 3), ('name', 'spain'), ('population', 47)])]\n"
     ]
    }
   ],
   "source": [
    "from pprint import pprint\n",
    "from frictionless import Package, Resource, transform, steps\n",
    "\n",
    "source = Package(resources=[Resource(name='main', path=\"data/transform.csv\")])\n",
    "target = transform(\n",
    "    source,\n",
    "    steps=[\n",
    "        steps.resource_add(name='extra', path='data/transform.csv'),\n",
    "    ],\n",
    ")\n",
    "pprint(target.resource_names)\n",
    "pprint(target.get_resource('extra').schema)\n",
    "pprint(target.get_resource('extra').read_rows())"
   ]
  },
  {
   "cell_type": "markdown",
   "metadata": {},
   "source": [
    "### Remove Resource"
   ]
  },
  {
   "cell_type": "code",
   "execution_count": 8,
   "metadata": {
    "execution": {
     "iopub.execute_input": "2020-12-02T10:42:36.984373Z",
     "iopub.status.busy": "2020-12-02T10:42:36.983166Z",
     "iopub.status.idle": "2020-12-02T10:42:37.000255Z",
     "shell.execute_reply": "2020-12-02T10:42:37.000963Z"
    }
   },
   "outputs": [
    {
     "name": "stdout",
     "output_type": "stream",
     "text": [
      "{'profile': 'data-package', 'resources': []}\n"
     ]
    }
   ],
   "source": [
    "from pprint import pprint\n",
    "from frictionless import Package, Resource, transform, steps\n",
    "\n",
    "source = Package(resources=[Resource(name='main', path=\"data/transform.csv\")])\n",
    "target = transform(\n",
    "    source,\n",
    "    steps=[\n",
    "        steps.resource_remove(name='main'),\n",
    "    ],\n",
    ")\n",
    "pprint(target)"
   ]
  },
  {
   "cell_type": "markdown",
   "metadata": {},
   "source": [
    "### Transform Resource"
   ]
  },
  {
   "cell_type": "code",
   "execution_count": 9,
   "metadata": {
    "execution": {
     "iopub.execute_input": "2020-12-02T10:42:37.014573Z",
     "iopub.status.busy": "2020-12-02T10:42:37.012439Z",
     "iopub.status.idle": "2020-12-02T10:42:37.067435Z",
     "shell.execute_reply": "2020-12-02T10:42:37.068195Z"
    }
   },
   "outputs": [
    {
     "name": "stdout",
     "output_type": "stream",
     "text": [
      "['main']\n",
      "{'fields': [{'name': 'id', 'type': 'integer'},\n",
      "            {'name': 'name', 'type': 'string'},\n",
      "            {'name': 'population', 'type': 'integer'}]}\n",
      "[Row([('id', 1), ('name', 'germany'), ('population', 83)]),\n",
      " Row([('id', 1), ('name', 'germany'), ('population', 83)]),\n",
      " Row([('id', 2), ('name', 'france'), ('population', 66)]),\n",
      " Row([('id', 2), ('name', 'france'), ('population', 66)]),\n",
      " Row([('id', 3), ('name', 'spain'), ('population', 47)]),\n",
      " Row([('id', 3), ('name', 'spain'), ('population', 47)])]\n"
     ]
    }
   ],
   "source": [
    "from pprint import pprint\n",
    "from frictionless import Package, Resource, transform, steps\n",
    "\n",
    "source = Package(resources=[Resource(name='main', path=\"data/transform.csv\")])\n",
    "target = transform(\n",
    "    source,\n",
    "    steps=[\n",
    "        steps.resource_add(name='extra', path='data/transform.csv'),\n",
    "        steps.resource_transform(name='main', steps=[\n",
    "            steps.table_merge(resource='extra'),\n",
    "            steps.row_sort(field_names=['id'])\n",
    "        ]),\n",
    "        steps.resource_remove(name=\"extra\"),\n",
    "    ],\n",
    ")\n",
    "pprint(target.resource_names)\n",
    "pprint(target.get_resource('main').schema)\n",
    "pprint(target.get_resource('main').read_rows())"
   ]
  },
  {
   "cell_type": "markdown",
   "metadata": {},
   "source": [
    "### Update Resource"
   ]
  },
  {
   "cell_type": "code",
   "execution_count": 10,
   "metadata": {
    "execution": {
     "iopub.execute_input": "2020-12-02T10:42:37.081802Z",
     "iopub.status.busy": "2020-12-02T10:42:37.079217Z",
     "iopub.status.idle": "2020-12-02T10:42:37.107375Z",
     "shell.execute_reply": "2020-12-02T10:42:37.107978Z"
    }
   },
   "outputs": [
    {
     "name": "stdout",
     "output_type": "stream",
     "text": [
      "{'compression': 'no',\n",
      " 'compressionPath': '',\n",
      " 'control': {'newline': ''},\n",
      " 'description': 'For the docs',\n",
      " 'dialect': {},\n",
      " 'encoding': 'utf-8',\n",
      " 'format': 'csv',\n",
      " 'hashing': 'md5',\n",
      " 'name': 'main',\n",
      " 'path': 'data/transform.csv',\n",
      " 'profile': 'tabular-data-resource',\n",
      " 'query': {},\n",
      " 'schema': {'fields': [{'name': 'id', 'type': 'integer'},\n",
      "                       {'name': 'name', 'type': 'string'},\n",
      "                       {'name': 'population', 'type': 'integer'}]},\n",
      " 'scheme': 'file',\n",
      " 'title': 'Main Resource'}\n"
     ]
    }
   ],
   "source": [
    "from pprint import pprint\n",
    "from frictionless import Package, Resource, transform, steps\n",
    "\n",
    "source = Package(resources=[Resource(name='main', path=\"data/transform.csv\")])\n",
    "target = transform(\n",
    "    source,\n",
    "    steps=[\n",
    "        steps.resource_update(name='main', title='Main Resource', description='For the docs'),\n",
    "    ],\n",
    ")\n",
    "pprint(target.get_resource('main'))"
   ]
  },
  {
   "cell_type": "markdown",
   "metadata": {},
   "source": [
    "## Table Steps\n",
    "\n",
    "### Aggregate Table"
   ]
  },
  {
   "cell_type": "code",
   "execution_count": 11,
   "metadata": {
    "execution": {
     "iopub.execute_input": "2020-12-02T10:42:37.117450Z",
     "iopub.status.busy": "2020-12-02T10:42:37.116088Z",
     "iopub.status.idle": "2020-12-02T10:42:37.149615Z",
     "shell.execute_reply": "2020-12-02T10:42:37.150563Z"
    }
   },
   "outputs": [
    {
     "name": "stdout",
     "output_type": "stream",
     "text": [
      "{'fields': [{'name': 'name', 'type': 'string'}, {'name': 'sum'}]}\n",
      "[Row([('name', 'france'), ('sum', 120)]),\n",
      " Row([('name', 'germany'), ('sum', 160)]),\n",
      " Row([('name', 'spain'), ('sum', 80)])]\n"
     ]
    }
   ],
   "source": [
    "from pprint import pprint\n",
    "from frictionless import Package, Resource, transform, steps\n",
    "\n",
    "source = Resource(path=\"data/transform-groups.csv\")\n",
    "target = transform(\n",
    "    source,\n",
    "    steps=[\n",
    "        steps.table_normalize(),\n",
    "        steps.table_aggregate(\n",
    "            group_name=\"name\", aggregation={\"sum\": (\"population\", sum)}\n",
    "        ),\n",
    "    ],\n",
    ")\n",
    "pprint(target.schema)\n",
    "pprint(target.read_rows())"
   ]
  },
  {
   "cell_type": "markdown",
   "metadata": {},
   "source": [
    "### Attach Tables"
   ]
  },
  {
   "cell_type": "code",
   "execution_count": 12,
   "metadata": {
    "execution": {
     "iopub.execute_input": "2020-12-02T10:42:37.160546Z",
     "iopub.status.busy": "2020-12-02T10:42:37.159652Z",
     "iopub.status.idle": "2020-12-02T10:42:37.188283Z",
     "shell.execute_reply": "2020-12-02T10:42:37.189253Z"
    }
   },
   "outputs": [
    {
     "name": "stdout",
     "output_type": "stream",
     "text": [
      "{'fields': [{'name': 'id', 'type': 'integer'},\n",
      "            {'name': 'name', 'type': 'string'},\n",
      "            {'name': 'population', 'type': 'integer'},\n",
      "            {'name': 'note', 'type': 'string'}]}\n",
      "[Row([('id', 1), ('name', 'germany'), ('population', 83), ('note', 'large')]),\n",
      " Row([('id', 2), ('name', 'france'), ('population', 66), ('note', 'mid')]),\n",
      " Row([('id', 3), ('name', 'spain'), ('population', 47), ('note', None)])]\n"
     ]
    }
   ],
   "source": [
    "from pprint import pprint\n",
    "from frictionless import Package, Resource, transform, steps\n",
    "\n",
    "source = Resource(path=\"data/transform.csv\")\n",
    "target = transform(\n",
    "    source,\n",
    "    steps=[\n",
    "      steps.table_attach(resource=Resource(data=[[\"note\"], [\"large\"], [\"mid\"]])),\n",
    "    ],\n",
    ")\n",
    "pprint(target.schema)\n",
    "pprint(target.read_rows())"
   ]
  },
  {
   "cell_type": "markdown",
   "metadata": {},
   "source": [
    "### Debug Table"
   ]
  },
  {
   "cell_type": "code",
   "execution_count": 13,
   "metadata": {
    "execution": {
     "iopub.execute_input": "2020-12-02T10:42:37.202450Z",
     "iopub.status.busy": "2020-12-02T10:42:37.201442Z",
     "iopub.status.idle": "2020-12-02T10:42:37.223345Z",
     "shell.execute_reply": "2020-12-02T10:42:37.224734Z"
    }
   },
   "outputs": [
    {
     "name": "stdout",
     "output_type": "stream",
     "text": [
      "['1', 'germany', '83']\n",
      "['2', 'france', '66']\n",
      "['3', 'spain', '47']\n",
      "[Row([('id', 1), ('name', 'germany'), ('population', 83)]),\n",
      " Row([('id', 2), ('name', 'france'), ('population', 66)]),\n",
      " Row([('id', 3), ('name', 'spain'), ('population', 47)])]\n"
     ]
    }
   ],
   "source": [
    "from pprint import pprint\n",
    "from frictionless import Package, Resource, transform, steps\n",
    "\n",
    "source = Resource(path=\"data/transform.csv\")\n",
    "target = transform(\n",
    "    source,\n",
    "    steps=[\n",
    "      steps.table_debug(function=print),\n",
    "    ],\n",
    ")\n",
    "pprint(target.read_rows())"
   ]
  },
  {
   "cell_type": "markdown",
   "metadata": {},
   "source": [
    "### Diff Tables"
   ]
  },
  {
   "cell_type": "code",
   "execution_count": 14,
   "metadata": {
    "execution": {
     "iopub.execute_input": "2020-12-02T10:42:37.243353Z",
     "iopub.status.busy": "2020-12-02T10:42:37.242007Z",
     "iopub.status.idle": "2020-12-02T10:42:37.261487Z",
     "shell.execute_reply": "2020-12-02T10:42:37.262088Z"
    }
   },
   "outputs": [
    {
     "name": "stdout",
     "output_type": "stream",
     "text": [
      "{'fields': [{'name': 'id', 'type': 'integer'},\n",
      "            {'name': 'name', 'type': 'string'},\n",
      "            {'name': 'population', 'type': 'integer'}]}\n"
     ]
    },
    {
     "name": "stdout",
     "output_type": "stream",
     "text": [
      "[Row([('id', 2), ('name', 'france'), ('population', 66)])]\n"
     ]
    }
   ],
   "source": [
    "from pprint import pprint\n",
    "from frictionless import Package, Resource, transform, steps\n",
    "\n",
    "source = Resource(path=\"data/transform.csv\")\n",
    "target = transform(\n",
    "    source,\n",
    "    steps=[\n",
    "        steps.table_normalize(),\n",
    "        steps.table_diff(\n",
    "            resource=Resource(\n",
    "                data=[\n",
    "                    [\"id\", \"name\", \"population\"],\n",
    "                    [1, \"germany\", 83],\n",
    "                    [2, \"france\", 50],\n",
    "                    [3, \"spain\", 47],\n",
    "                ]\n",
    "            )\n",
    "        ),\n",
    "    ]\n",
    ")\n",
    "pprint(target.schema)\n",
    "pprint(target.read_rows())"
   ]
  },
  {
   "cell_type": "markdown",
   "metadata": {},
   "source": [
    "### Intersect Tables"
   ]
  },
  {
   "cell_type": "code",
   "execution_count": 15,
   "metadata": {
    "execution": {
     "iopub.execute_input": "2020-12-02T10:42:37.275979Z",
     "iopub.status.busy": "2020-12-02T10:42:37.274762Z",
     "iopub.status.idle": "2020-12-02T10:42:37.306063Z",
     "shell.execute_reply": "2020-12-02T10:42:37.306721Z"
    }
   },
   "outputs": [
    {
     "name": "stdout",
     "output_type": "stream",
     "text": [
      "{'fields': [{'name': 'id', 'type': 'integer'},\n",
      "            {'name': 'name', 'type': 'string'},\n",
      "            {'name': 'population', 'type': 'integer'}]}\n"
     ]
    },
    {
     "name": "stdout",
     "output_type": "stream",
     "text": [
      "[Row([('id', 1), ('name', 'germany'), ('population', 83)]),\n",
      " Row([('id', 3), ('name', 'spain'), ('population', 47)])]\n"
     ]
    }
   ],
   "source": [
    "from pprint import pprint\n",
    "from frictionless import Package, Resource, transform, steps\n",
    "\n",
    "source = Resource(path=\"data/transform.csv\")\n",
    "target = transform(\n",
    "    source,\n",
    "    steps=[\n",
    "        steps.table_normalize(),\n",
    "        steps.table_intersect(\n",
    "            resource=Resource(\n",
    "                data=[\n",
    "                    [\"id\", \"name\", \"population\"],\n",
    "                    [1, \"germany\", 83],\n",
    "                    [2, \"france\", 50],\n",
    "                    [3, \"spain\", 47],\n",
    "                ]\n",
    "            ),\n",
    "        ),\n",
    "    ]\n",
    ")\n",
    "pprint(target.schema)\n",
    "pprint(target.read_rows())"
   ]
  },
  {
   "cell_type": "markdown",
   "metadata": {},
   "source": [
    "### Join Tables"
   ]
  },
  {
   "cell_type": "code",
   "execution_count": 16,
   "metadata": {
    "execution": {
     "iopub.execute_input": "2020-12-02T10:42:37.327104Z",
     "iopub.status.busy": "2020-12-02T10:42:37.324449Z",
     "iopub.status.idle": "2020-12-02T10:42:37.346648Z",
     "shell.execute_reply": "2020-12-02T10:42:37.347680Z"
    }
   },
   "outputs": [
    {
     "name": "stdout",
     "output_type": "stream",
     "text": [
      "{'fields': [{'name': 'id', 'type': 'integer'},\n",
      "            {'name': 'name', 'type': 'string'},\n",
      "            {'name': 'population', 'type': 'integer'},\n",
      "            {'name': 'note', 'type': 'string'}]}\n",
      "[Row([('id', 1), ('name', 'germany'), ('population', 83), ('note', 'beer')]),\n",
      " Row([('id', 2), ('name', 'france'), ('population', 66), ('note', 'vine')])]\n"
     ]
    }
   ],
   "source": [
    "from pprint import pprint\n",
    "from frictionless import Package, Resource, transform, steps\n",
    "\n",
    "source = Resource(path=\"data/transform.csv\")\n",
    "target = transform(\n",
    "    source,\n",
    "    steps=[\n",
    "        steps.table_normalize(),\n",
    "        steps.table_join(\n",
    "            resource=Resource(data=[[\"id\", \"note\"], [1, \"beer\"], [2, \"vine\"]]),\n",
    "            field_name=\"id\",\n",
    "        ),\n",
    "    ]\n",
    ")\n",
    "pprint(target.schema)\n",
    "pprint(target.read_rows())"
   ]
  },
  {
   "cell_type": "markdown",
   "metadata": {},
   "source": [
    "### Melt Table"
   ]
  },
  {
   "cell_type": "code",
   "execution_count": 17,
   "metadata": {
    "execution": {
     "iopub.execute_input": "2020-12-02T10:42:37.367707Z",
     "iopub.status.busy": "2020-12-02T10:42:37.361387Z",
     "iopub.status.idle": "2020-12-02T10:42:37.385532Z",
     "shell.execute_reply": "2020-12-02T10:42:37.384604Z"
    }
   },
   "outputs": [
    {
     "name": "stdout",
     "output_type": "stream",
     "text": [
      "{'fields': [{'name': 'name', 'type': 'string'},\n",
      "            {'name': 'variable'},\n",
      "            {'name': 'value'}]}\n"
     ]
    },
    {
     "name": "stdout",
     "output_type": "stream",
     "text": [
      "[Row([('name', 'germany'), ('variable', 'id'), ('value', 1)]),\n",
      " Row([('name', 'germany'), ('variable', 'population'), ('value', 83)]),\n",
      " Row([('name', 'france'), ('variable', 'id'), ('value', 2)]),\n",
      " Row([('name', 'france'), ('variable', 'population'), ('value', 66)]),\n",
      " Row([('name', 'spain'), ('variable', 'id'), ('value', 3)]),\n",
      " Row([('name', 'spain'), ('variable', 'population'), ('value', 47)])]\n"
     ]
    }
   ],
   "source": [
    "from pprint import pprint\n",
    "from frictionless import Package, Resource, transform, steps\n",
    "\n",
    "source = Resource(path=\"data/transform.csv\")\n",
    "target = transform(\n",
    "    source,\n",
    "    steps=[\n",
    "        steps.table_normalize(),\n",
    "        steps.table_melt(field_name=\"name\"),\n",
    "    ]\n",
    ")\n",
    "pprint(target.schema)\n",
    "pprint(target.read_rows())"
   ]
  },
  {
   "cell_type": "markdown",
   "metadata": {},
   "source": [
    "### Merge Tables"
   ]
  },
  {
   "cell_type": "code",
   "execution_count": 18,
   "metadata": {
    "execution": {
     "iopub.execute_input": "2020-12-02T10:42:37.397679Z",
     "iopub.status.busy": "2020-12-02T10:42:37.395785Z",
     "iopub.status.idle": "2020-12-02T10:42:37.429745Z",
     "shell.execute_reply": "2020-12-02T10:42:37.430640Z"
    }
   },
   "outputs": [
    {
     "name": "stdout",
     "output_type": "stream",
     "text": [
      "{'fields': [{'name': 'id', 'type': 'integer'},\n",
      "            {'name': 'name', 'type': 'string'},\n",
      "            {'name': 'population', 'type': 'integer'},\n",
      "            {'name': 'note', 'type': 'string'}"
     ]
    },
    {
     "name": "stdout",
     "output_type": "stream",
     "text": [
      "]}\n",
      "[Row([('id', 1), ('name', 'germany'), ('population', 83), ('note', None)]),\n",
      " Row([('id', 2), ('name', 'france'), ('population', 66), ('note', None)]),\n",
      " Row([('id', 3), ('name', 'spain'), ('population', 47), ('note', None)]),\n",
      " Row([('id', 4), ('name', 'malta'), ('population', None), ('note', 'island')])]\n"
     ]
    }
   ],
   "source": [
    "from pprint import pprint\n",
    "from frictionless import Package, Resource, transform, steps\n",
    "\n",
    "source = Resource(path=\"data/transform.csv\")\n",
    "target = transform(\n",
    "    source,\n",
    "    steps=[\n",
    "        steps.table_merge(\n",
    "            resource=Resource(data=[[\"id\", \"name\", \"note\"], [4, \"malta\", \"island\"]])\n",
    "        ),\n",
    "    ]\n",
    ")\n",
    "pprint(target.schema)\n",
    "pprint(target.read_rows())"
   ]
  },
  {
   "cell_type": "markdown",
   "metadata": {},
   "source": [
    "### Pivot Table"
   ]
  },
  {
   "cell_type": "code",
   "execution_count": 19,
   "metadata": {
    "execution": {
     "iopub.execute_input": "2020-12-02T10:42:37.442834Z",
     "iopub.status.busy": "2020-12-02T10:42:37.440651Z",
     "iopub.status.idle": "2020-12-02T10:42:37.476935Z",
     "shell.execute_reply": "2020-12-02T10:42:37.477867Z"
    }
   },
   "outputs": [
    {
     "name": "stdout",
     "output_type": "stream",
     "text": [
      "{'fields': [{'name': 'region', 'type': 'string'},\n",
      "            {'name': 'boy', 'type': 'integer'},\n",
      "            {'name': 'girl', 'type': 'integer'}]}\n",
      "[Row([('region', 'east'), ('boy', 33), ('girl', 29)]),\n",
      " Row([('region', 'west'), ('boy', 35), ('girl', 23)])]\n"
     ]
    }
   ],
   "source": [
    "from pprint import pprint\n",
    "from frictionless import Package, Resource, transform, steps\n",
    "\n",
    "source = Resource(path=\"data/transform-pivot.csv\")\n",
    "target = transform(\n",
    "    source,\n",
    "    steps=[\n",
    "        steps.table_normalize(),\n",
    "        steps.table_pivot(f1=\"region\", f2=\"gender\", f3=\"units\", aggfun=sum),\n",
    "    ]\n",
    ")\n",
    "pprint(target.schema)\n",
    "pprint(target.read_rows())"
   ]
  },
  {
   "cell_type": "markdown",
   "metadata": {},
   "source": [
    "### Print Table"
   ]
  },
  {
   "cell_type": "code",
   "execution_count": 20,
   "metadata": {
    "execution": {
     "iopub.execute_input": "2020-12-02T10:42:37.489213Z",
     "iopub.status.busy": "2020-12-02T10:42:37.487854Z",
     "iopub.status.idle": "2020-12-02T10:42:37.505689Z",
     "shell.execute_reply": "2020-12-02T10:42:37.506765Z"
    }
   },
   "outputs": [
    {
     "name": "stdout",
     "output_type": "stream",
     "text": [
      "==  =======  ==========\n",
      "id  name     population\n",
      "==  =======  ==========\n",
      " 1  germany          83\n",
      " 2  france           66\n",
      " 3  spain            47\n",
      "==  =======  ==========\n",
      "\n"
     ]
    }
   ],
   "source": [
    "from pprint import pprint\n",
    "from frictionless import Package, Resource, transform, steps\n",
    "\n",
    "source = Resource(path=\"data/transform.csv\")\n",
    "target = transform(\n",
    "    source,\n",
    "    steps=[\n",
    "        steps.table_normalize(),\n",
    "        steps.table_print(),\n",
    "    ]\n",
    ")"
   ]
  },
  {
   "cell_type": "markdown",
   "metadata": {},
   "source": [
    "### Recast Table"
   ]
  },
  {
   "cell_type": "code",
   "execution_count": 21,
   "metadata": {
    "execution": {
     "iopub.execute_input": "2020-12-02T10:42:37.518647Z",
     "iopub.status.busy": "2020-12-02T10:42:37.515895Z",
     "iopub.status.idle": "2020-12-02T10:42:37.566975Z",
     "shell.execute_reply": "2020-12-02T10:42:37.567852Z"
    }
   },
   "outputs": [
    {
     "name": "stdout",
     "output_type": "stream",
     "text": [
      "{'fields': [{'name': 'id', 'type': 'integer'},\n",
      "            {'name': 'name', 'type': 'string'},\n",
      "            {'name': 'population', 'type': 'integer'}]}\n",
      "[Row([('id', 1), ('name', 'germany'), ('population', 83)]),\n",
      " Row([('id', 2), ('name', 'france'), ('population', 66)]),\n",
      " Row([('id', 3), ('name', 'spain'), ('population', 47)])]\n"
     ]
    }
   ],
   "source": [
    "from pprint import pprint\n",
    "from frictionless import Package, Resource, transform, steps\n",
    "\n",
    "source = Resource(path=\"data/transform.csv\")\n",
    "target = transform(\n",
    "    source,\n",
    "    steps=[\n",
    "        steps.table_normalize(),\n",
    "        steps.table_melt(field_name=\"id\"),\n",
    "        steps.table_recast(field_name=\"id\"),\n",
    "    ]\n",
    ")\n",
    "pprint(target.schema)\n",
    "pprint(target.read_rows())"
   ]
  },
  {
   "cell_type": "markdown",
   "metadata": {},
   "source": [
    "### Transpose Table"
   ]
  },
  {
   "cell_type": "code",
   "execution_count": 22,
   "metadata": {
    "execution": {
     "iopub.execute_input": "2020-12-02T10:42:37.580846Z",
     "iopub.status.busy": "2020-12-02T10:42:37.579777Z",
     "iopub.status.idle": "2020-12-02T10:42:37.635177Z",
     "shell.execute_reply": "2020-12-02T10:42:37.635739Z"
    }
   },
   "outputs": [
    {
     "name": "stdout",
     "output_type": "stream",
     "text": [
      "{'fields': [{'name': 'name', 'type': 'string'},\n",
      "            {'name': 'germany', 'type': 'integer'},\n",
      "            {'name': 'france', 'type': 'integer'},\n",
      "            {'name': 'spain', 'type': 'integer'}]}\n"
     ]
    },
    {
     "name": "stdout",
     "output_type": "stream",
     "text": [
      "[Row([('name', 'population'), ('germany', 83), ('france', 66), ('spain', 47)])]\n"
     ]
    }
   ],
   "source": [
    "from pprint import pprint\n",
    "from frictionless import Package, Resource, transform, steps\n",
    "\n",
    "source = Resource(path=\"data/transform.csv\")\n",
    "target = transform(\n",
    "    source,\n",
    "    steps=[\n",
    "        steps.table_normalize(),\n",
    "        steps.table_transpose(),\n",
    "    ]\n",
    ")\n",
    "pprint(target.schema)\n",
    "pprint(target.read_rows())"
   ]
  },
  {
   "cell_type": "markdown",
   "metadata": {},
   "source": [
    "### Validate Table"
   ]
  },
  {
   "cell_type": "code",
   "execution_count": 23,
   "metadata": {
    "execution": {
     "iopub.execute_input": "2020-12-02T10:42:37.659486Z",
     "iopub.status.busy": "2020-12-02T10:42:37.658232Z",
     "iopub.status.idle": "2020-12-02T10:42:37.681874Z",
     "shell.execute_reply": "2020-12-02T10:42:37.680555Z"
    }
   },
   "outputs": [
    {
     "name": "stdout",
     "output_type": "stream",
     "text": [
      "{'fields': [{'name': 'id', 'type': 'integer'},\n",
      "            {'name': 'name', 'type': 'string'},\n",
      "            {'name': 'population', 'type': 'integer'}]}\n"
     ]
    },
    {
     "name": "stdout",
     "output_type": "stream",
     "text": [
      "FrictionlessException('[step-error] The transfrom step has an error: \"table_validate\" raises \"[type-error] The cell \"bad\" in row at position \"2\" and field \"population\" at position \"3\" has incompatible type: type is \"integer/default\"\"')\n"
     ]
    }
   ],
   "source": [
    "from pprint import pprint\n",
    "from frictionless import Package, Resource, transform, steps\n",
    "\n",
    "source = Resource(path=\"data/transform.csv\")\n",
    "target = transform(\n",
    "    source,\n",
    "    steps=[\n",
    "        steps.cell_set(field_name=\"population\", value=\"bad\"),\n",
    "        steps.table_validate(),\n",
    "    ]\n",
    ")\n",
    "pprint(target.schema)\n",
    "try:\n",
    "  pprint(target.read_rows())\n",
    "except Exception as exception:\n",
    "  pprint(exception)"
   ]
  },
  {
   "cell_type": "markdown",
   "metadata": {},
   "source": [
    "### Write Table"
   ]
  },
  {
   "cell_type": "code",
   "execution_count": 24,
   "metadata": {
    "execution": {
     "iopub.execute_input": "2020-12-02T10:42:37.696006Z",
     "iopub.status.busy": "2020-12-02T10:42:37.694539Z",
     "iopub.status.idle": "2020-12-02T10:42:37.712827Z",
     "shell.execute_reply": "2020-12-02T10:42:37.713831Z"
    }
   },
   "outputs": [],
   "source": [
    "from pprint import pprint\n",
    "from frictionless import Package, Resource, transform, steps\n",
    "\n",
    "source = Resource(path=\"data/transform.csv\")\n",
    "target = transform(\n",
    "    source,\n",
    "    steps=[\n",
    "        steps.table_write(path='tmp/transform.json'),\n",
    "    ]\n",
    ")"
   ]
  },
  {
   "cell_type": "code",
   "execution_count": 25,
   "metadata": {
    "execution": {
     "iopub.execute_input": "2020-12-02T10:42:37.723475Z",
     "iopub.status.busy": "2020-12-02T10:42:37.719474Z",
     "iopub.status.idle": "2020-12-02T10:42:37.839926Z",
     "shell.execute_reply": "2020-12-02T10:42:37.841084Z"
    }
   },
   "outputs": [
    {
     "name": "stdout",
     "output_type": "stream",
     "text": [
      "[\r\n",
      "  [\r\n",
      "    \"id\",\r\n",
      "    \"name\",\r\n",
      "    \"population\"\r\n",
      "  ],\r\n",
      "  [\r\n",
      "    1,\r\n",
      "    \"germany\",\r\n",
      "    83\r\n",
      "  ],\r\n",
      "  [\r\n",
      "    2,\r\n",
      "    \"france\",\r\n",
      "    66\r\n",
      "  ],\r\n",
      "  [\r\n",
      "    3,\r\n",
      "    \"spain\",\r\n",
      "    47\r\n",
      "  ]\r\n",
      "]"
     ]
    }
   ],
   "source": [
    "! cat tmp/transform.json"
   ]
  },
  {
   "cell_type": "markdown",
   "metadata": {},
   "source": [
    "## Field Steps\n",
    "\n",
    "### Add Field"
   ]
  },
  {
   "cell_type": "code",
   "execution_count": 26,
   "metadata": {
    "execution": {
     "iopub.execute_input": "2020-12-02T10:42:37.859312Z",
     "iopub.status.busy": "2020-12-02T10:42:37.856480Z",
     "iopub.status.idle": "2020-12-02T10:42:37.881408Z",
     "shell.execute_reply": "2020-12-02T10:42:37.882365Z"
    }
   },
   "outputs": [
    {
     "name": "stdout",
     "output_type": "stream",
     "text": [
      "{'fields': [{'name': 'id', 'type': 'integer'},\n",
      "            {'name': 'name', 'type': 'string'},\n",
      "            {'name': 'population', 'type': 'integer'},\n",
      "            {'name': 'note', 'type': 'string'}]}\n",
      "[Row([('id', 1), ('name', 'germany'), ('population', 83), ('note', 'eu')]),\n",
      " Row([('id', 2), ('name', 'france'), ('population', 66), ('note', 'eu')]),\n",
      " Row([('id', 3), ('name', 'spain'), ('population', 47), ('note', 'eu')])]\n"
     ]
    }
   ],
   "source": [
    "from pprint import pprint\n",
    "from frictionless import Package, Resource, transform, steps\n",
    "\n",
    "source = Resource(path=\"data/transform.csv\")\n",
    "target = transform(\n",
    "    source,\n",
    "    steps=[\n",
    "        steps.field_add(name=\"note\", type=\"string\", value=\"eu\"),\n",
    "    ]\n",
    ")\n",
    "pprint(target.schema)\n",
    "pprint(target.read_rows())"
   ]
  },
  {
   "cell_type": "markdown",
   "metadata": {},
   "source": [
    "### Filter Fields"
   ]
  },
  {
   "cell_type": "code",
   "execution_count": 27,
   "metadata": {
    "execution": {
     "iopub.execute_input": "2020-12-02T10:42:37.901246Z",
     "iopub.status.busy": "2020-12-02T10:42:37.892463Z",
     "iopub.status.idle": "2020-12-02T10:42:37.917334Z",
     "shell.execute_reply": "2020-12-02T10:42:37.918709Z"
    }
   },
   "outputs": [
    {
     "name": "stdout",
     "output_type": "stream",
     "text": [
      "{'fields': [{'name': 'id', 'type': 'integer'},\n",
      "            {'name': 'name', 'type': 'string'}]}\n",
      "[Row([('id', 1), ('name', 'germany')]),\n",
      " Row([('id', 2), ('name', 'france')]),\n",
      " Row([('id', 3), ('name', 'spain')])]\n"
     ]
    }
   ],
   "source": [
    "from pprint import pprint\n",
    "from frictionless import Package, Resource, transform, steps\n",
    "\n",
    "source = Resource(path=\"data/transform.csv\")\n",
    "target = transform(\n",
    "    source,\n",
    "    steps=[\n",
    "        steps.field_filter(names=[\"id\", \"name\"]),\n",
    "    ]\n",
    ")\n",
    "pprint(target.schema)\n",
    "pprint(target.read_rows())"
   ]
  },
  {
   "cell_type": "markdown",
   "metadata": {},
   "source": [
    "### Move Field"
   ]
  },
  {
   "cell_type": "code",
   "execution_count": 28,
   "metadata": {
    "execution": {
     "iopub.execute_input": "2020-12-02T10:42:37.930190Z",
     "iopub.status.busy": "2020-12-02T10:42:37.928599Z",
     "iopub.status.idle": "2020-12-02T10:42:37.948642Z",
     "shell.execute_reply": "2020-12-02T10:42:37.949225Z"
    }
   },
   "outputs": [
    {
     "name": "stdout",
     "output_type": "stream",
     "text": [
      "{'fields': [{'name': 'name', 'type': 'string'},\n",
      "            {'name': 'population', 'type': 'integer'},\n",
      "            {'name': 'id', 'type': 'integer'}]}\n",
      "[Row([('name', 'germany'), ('population', 83), ('id', 1)]),\n",
      " Row([('name', 'france'), ('population', 66), ('id', 2)]),\n",
      " Row([('name', 'spain'), ('population', 47), ('id', 3)])]\n"
     ]
    }
   ],
   "source": [
    "from pprint import pprint\n",
    "from frictionless import Package, Resource, transform, steps\n",
    "\n",
    "source = Resource(path=\"data/transform.csv\")\n",
    "target = transform(\n",
    "    source,\n",
    "    steps=[\n",
    "        steps.field_move(name=\"id\", position=3),\n",
    "    ]\n",
    ")\n",
    "pprint(target.schema)\n",
    "pprint(target.read_rows())"
   ]
  },
  {
   "cell_type": "markdown",
   "metadata": {},
   "source": [
    "### Remove Field"
   ]
  },
  {
   "cell_type": "code",
   "execution_count": 29,
   "metadata": {
    "execution": {
     "iopub.execute_input": "2020-12-02T10:42:37.969869Z",
     "iopub.status.busy": "2020-12-02T10:42:37.960186Z",
     "iopub.status.idle": "2020-12-02T10:42:37.986025Z",
     "shell.execute_reply": "2020-12-02T10:42:37.985086Z"
    }
   },
   "outputs": [
    {
     "name": "stdout",
     "output_type": "stream",
     "text": [
      "{'fields': [{'name': 'name', 'type': 'string'},\n",
      "            {'name': 'population', 'type': 'integer'}]}\n",
      "[Row([('name', 'germany'), ('population', 83)]),\n",
      " Row([('name', 'france'), ('population', 66)]),\n",
      " Row([('name', 'spain'), ('population', 47)])]\n"
     ]
    }
   ],
   "source": [
    "from pprint import pprint\n",
    "from frictionless import Package, Resource, transform, steps\n",
    "\n",
    "source = Resource(path=\"data/transform.csv\")\n",
    "target = transform(\n",
    "    source,\n",
    "    steps=[\n",
    "        steps.field_remove(names=[\"id\"]),\n",
    "    ]\n",
    ")\n",
    "pprint(target.schema)\n",
    "pprint(target.read_rows())"
   ]
  },
  {
   "cell_type": "markdown",
   "metadata": {},
   "source": [
    "### Split Field"
   ]
  },
  {
   "cell_type": "code",
   "execution_count": 30,
   "metadata": {
    "execution": {
     "iopub.execute_input": "2020-12-02T10:42:37.996708Z",
     "iopub.status.busy": "2020-12-02T10:42:37.993415Z",
     "iopub.status.idle": "2020-12-02T10:42:38.018749Z",
     "shell.execute_reply": "2020-12-02T10:42:38.019581Z"
    }
   },
   "outputs": [
    {
     "name": "stdout",
     "output_type": "stream",
     "text": [
      "{'fields': [{'name': 'id', 'type': 'integer'},\n",
      "            {'name': 'population', 'type': 'integer'},\n",
      "            {'name': 'name1', 'type': 'string'},\n",
      "            {'name': 'name2', 'type': 'string'}]}\n",
      "[Row([('id', 1), ('population', 83), ('name1', 'germ'), ('name2', 'ny')]),\n",
      " Row([('id', 2), ('population', 66), ('name1', 'fr'), ('name2', 'nce')]),\n",
      " Row([('id', 3), ('population', 47), ('name1', 'sp'), ('name2', 'in')])]\n"
     ]
    }
   ],
   "source": [
    "from pprint import pprint\n",
    "from frictionless import Package, Resource, transform, steps\n",
    "\n",
    "source = Resource(path=\"data/transform.csv\")\n",
    "target = transform(\n",
    "    source,\n",
    "    steps=[\n",
    "        steps.field_split(name=\"name\", to_names=[\"name1\", \"name2\"], pattern=\"a\"),\n",
    "    ]\n",
    ")\n",
    "pprint(target.schema)\n",
    "pprint(target.read_rows())"
   ]
  },
  {
   "cell_type": "markdown",
   "metadata": {},
   "source": [
    "### Unpack Field"
   ]
  },
  {
   "cell_type": "code",
   "execution_count": 31,
   "metadata": {
    "execution": {
     "iopub.execute_input": "2020-12-02T10:42:38.031971Z",
     "iopub.status.busy": "2020-12-02T10:42:38.027130Z",
     "iopub.status.idle": "2020-12-02T10:42:38.057834Z",
     "shell.execute_reply": "2020-12-02T10:42:38.058848Z"
    }
   },
   "outputs": [
    {
     "name": "stdout",
     "output_type": "stream",
     "text": [
      "{'fields': [{'name': 'name', 'type': 'string'},\n",
      "            {'name': 'population', 'type': 'integer'},\n",
      "            {'name': 'id2'},\n",
      "            {'name': 'id3'}]}\n",
      "[Row([('name', 'germany'), ('population', 83), ('id2', 1), ('id3', 1)]),\n",
      " Row([('name', 'france'), ('population', 66), ('id2', 1), ('id3', 1)]),\n",
      " Row([('name', 'spain'), ('population', 47), ('id2', 1), ('id3', 1)])]\n"
     ]
    }
   ],
   "source": [
    "from pprint import pprint\n",
    "from frictionless import Package, Resource, transform, steps\n",
    "\n",
    "source = Resource(path=\"data/transform.csv\")\n",
    "target = transform(\n",
    "    source,\n",
    "    steps=[\n",
    "        steps.field_update(name=\"id\", type=\"array\", value=[1, 1]),\n",
    "        steps.field_unpack(name=\"id\", to_names=[\"id2\", \"id3\"]),\n",
    "    ]\n",
    ")\n",
    "pprint(target.schema)\n",
    "pprint(target.read_rows())"
   ]
  },
  {
   "cell_type": "markdown",
   "metadata": {},
   "source": [
    "### Update Field"
   ]
  },
  {
   "cell_type": "code",
   "execution_count": 32,
   "metadata": {
    "execution": {
     "iopub.execute_input": "2020-12-02T10:42:38.080982Z",
     "iopub.status.busy": "2020-12-02T10:42:38.076351Z",
     "iopub.status.idle": "2020-12-02T10:42:38.096677Z",
     "shell.execute_reply": "2020-12-02T10:42:38.097633Z"
    }
   },
   "outputs": [
    {
     "name": "stdout",
     "output_type": "stream",
     "text": [
      "{'fields': [{'name': 'id', 'type': 'string'},\n",
      "            {'name': 'name', 'type': 'string'},\n",
      "            {'name': 'population', 'type': 'integer'}]}\n"
     ]
    },
    {
     "name": "stdout",
     "output_type": "stream",
     "text": [
      "[Row([('id', '1'), ('name', 'germany'), ('population', 83)]),\n",
      " Row([('id', '2'), ('name', 'france'), ('population', 66)]),\n",
      " Row([('id', '3'), ('name', 'spain'), ('population', 47)])]\n"
     ]
    }
   ],
   "source": [
    "from pprint import pprint\n",
    "from frictionless import Package, Resource, transform, steps\n",
    "\n",
    "source = Resource(path=\"data/transform.csv\")\n",
    "target = transform(\n",
    "    source,\n",
    "    steps=[\n",
    "        steps.field_update(name=\"id\", type=\"string\", value=str),\n",
    "    ]\n",
    ")\n",
    "pprint(target.schema)\n",
    "pprint(target.read_rows())"
   ]
  },
  {
   "cell_type": "markdown",
   "metadata": {},
   "source": [
    "## Row Steps\n",
    "\n",
    "### Filter Rows"
   ]
  },
  {
   "cell_type": "code",
   "execution_count": 33,
   "metadata": {
    "execution": {
     "iopub.execute_input": "2020-12-02T10:42:38.116222Z",
     "iopub.status.busy": "2020-12-02T10:42:38.115421Z",
     "iopub.status.idle": "2020-12-02T10:42:38.136828Z",
     "shell.execute_reply": "2020-12-02T10:42:38.137605Z"
    }
   },
   "outputs": [
    {
     "name": "stdout",
     "output_type": "stream",
     "text": [
      "{'fields': [{'name': 'id', 'type': 'integer'},\n",
      "            {'name': 'name', 'type': 'string'},\n",
      "            {'name': 'population', 'type': 'integer'}]}\n",
      "[Row([('id', 2), ('name', 'france'), ('population', 66)]),\n",
      " Row([('id', 3), ('name', 'spain'), ('population', 47)])]\n"
     ]
    }
   ],
   "source": [
    "from pprint import pprint\n",
    "from frictionless import Package, Resource, transform, steps\n",
    "\n",
    "source = Resource(path=\"data/transform.csv\")\n",
    "target = transform(\n",
    "    source,\n",
    "    steps=[\n",
    "        steps.table_normalize(),\n",
    "        steps.row_filter(predicat=\"<formula>id > 1\"),\n",
    "    ]\n",
    ")\n",
    "pprint(target.schema)\n",
    "pprint(target.read_rows())"
   ]
  },
  {
   "cell_type": "markdown",
   "metadata": {},
   "source": [
    "### Search Rows"
   ]
  },
  {
   "cell_type": "code",
   "execution_count": 34,
   "metadata": {
    "execution": {
     "iopub.execute_input": "2020-12-02T10:42:38.160281Z",
     "iopub.status.busy": "2020-12-02T10:42:38.150130Z",
     "iopub.status.idle": "2020-12-02T10:42:38.168432Z",
     "shell.execute_reply": "2020-12-02T10:42:38.169485Z"
    }
   },
   "outputs": [
    {
     "name": "stdout",
     "output_type": "stream",
     "text": [
      "{'fields': [{'name': 'id', 'type': 'integer'},\n",
      "            {'name': 'name', 'type': 'string'},\n",
      "            {'name': 'population', 'type': 'integer'}]}\n",
      "[Row([('id', 2), ('name', 'france'), ('population', 66)])]\n"
     ]
    }
   ],
   "source": [
    "from pprint import pprint\n",
    "from frictionless import Package, Resource, transform, steps\n",
    "\n",
    "source = Resource(path=\"data/transform.csv\")\n",
    "target = transform(\n",
    "    source,\n",
    "    steps=[\n",
    "        steps.row_search(regex=r\"^f.*\"),\n",
    "    ]\n",
    ")\n",
    "pprint(target.schema)\n",
    "pprint(target.read_rows())"
   ]
  },
  {
   "cell_type": "markdown",
   "metadata": {},
   "source": [
    "### Slice Rows"
   ]
  },
  {
   "cell_type": "code",
   "execution_count": 35,
   "metadata": {
    "execution": {
     "iopub.execute_input": "2020-12-02T10:42:38.180400Z",
     "iopub.status.busy": "2020-12-02T10:42:38.178145Z",
     "iopub.status.idle": "2020-12-02T10:42:38.200480Z",
     "shell.execute_reply": "2020-12-02T10:42:38.201607Z"
    }
   },
   "outputs": [
    {
     "name": "stdout",
     "output_type": "stream",
     "text": [
      "{'fields': [{'name': 'id', 'type': 'integer'},\n",
      "            {'name': 'name', 'type': 'string'},\n",
      "            {'name': 'population', 'type': 'integer'}]}\n",
      "[Row([('id', 1), ('name', 'germany'), ('population', 83)]),\n",
      " Row([('id', 2), ('name', 'france'), ('population', 66)])]\n"
     ]
    }
   ],
   "source": [
    "from pprint import pprint\n",
    "from frictionless import Package, Resource, transform, steps\n",
    "\n",
    "source = Resource(path=\"data/transform.csv\")\n",
    "target = transform(\n",
    "    source,\n",
    "    steps=[\n",
    "        steps.row_slice(head=2),\n",
    "    ]\n",
    ")\n",
    "pprint(target.schema)\n",
    "pprint(target.read_rows())"
   ]
  },
  {
   "cell_type": "markdown",
   "metadata": {},
   "source": [
    "### Sort Rows"
   ]
  },
  {
   "cell_type": "code",
   "execution_count": 36,
   "metadata": {
    "execution": {
     "iopub.execute_input": "2020-12-02T10:42:38.212756Z",
     "iopub.status.busy": "2020-12-02T10:42:38.211312Z",
     "iopub.status.idle": "2020-12-02T10:42:38.232932Z",
     "shell.execute_reply": "2020-12-02T10:42:38.234062Z"
    }
   },
   "outputs": [
    {
     "name": "stdout",
     "output_type": "stream",
     "text": [
      "{'fields': [{'name': 'id', 'type': 'integer'},\n",
      "            {'name': 'name', 'type': 'string'},\n",
      "            {'name': 'population', 'type': 'integer'}]}\n",
      "[Row([('id', 2), ('name', 'france'), ('population', 66)]),\n",
      " Row([('id', 1), ('name', 'germany'), ('population', 83)]),\n",
      " Row([('id', 3), ('name', 'spain'), ('population', 47)])]\n"
     ]
    }
   ],
   "source": [
    "from pprint import pprint\n",
    "from frictionless import Package, Resource, transform, steps\n",
    "\n",
    "source = Resource(path=\"data/transform.csv\")\n",
    "target = transform(\n",
    "    source,\n",
    "    steps=[\n",
    "        steps.row_sort(field_names=[\"name\"]),\n",
    "    ]\n",
    ")\n",
    "pprint(target.schema)\n",
    "pprint(target.read_rows())"
   ]
  },
  {
   "cell_type": "markdown",
   "metadata": {},
   "source": [
    "### Split Rows"
   ]
  },
  {
   "cell_type": "code",
   "execution_count": 37,
   "metadata": {
    "execution": {
     "iopub.execute_input": "2020-12-02T10:42:38.246734Z",
     "iopub.status.busy": "2020-12-02T10:42:38.245328Z",
     "iopub.status.idle": "2020-12-02T10:42:38.267659Z",
     "shell.execute_reply": "2020-12-02T10:42:38.268551Z"
    }
   },
   "outputs": [
    {
     "name": "stdout",
     "output_type": "stream",
     "text": [
      "{'fields': [{'name': 'id', 'type': 'integer'},\n",
      "            {'name': 'name', 'type': 'string'},\n",
      "            {'name': 'population', 'type': 'integer'}]}\n",
      "[Row([('id', 1), ('name', 'germ'), ('population', 83)]),\n",
      " Row([('id', 1), ('name', 'ny'), ('population', 83)]),\n",
      " Row([('id', 2), ('name', 'fr'), ('population', 66)]),\n",
      " Row([('id', 2), ('name', 'nce'), ('population', 66)]),\n",
      " Row([('id', 3), ('name', 'sp'), ('population', 47)]),\n",
      " Row([('id', 3), ('name', 'in'), ('population', 47)])]\n"
     ]
    }
   ],
   "source": [
    "from pprint import pprint\n",
    "from frictionless import Package, Resource, transform, steps\n",
    "\n",
    "source = Resource(path=\"data/transform.csv\")\n",
    "target = transform(\n",
    "    source,\n",
    "    steps=[\n",
    "        steps.row_split(field_name=\"name\", pattern=\"a\"),\n",
    "    ]\n",
    ")\n",
    "pprint(target.schema)\n",
    "pprint(target.read_rows())"
   ]
  },
  {
   "cell_type": "markdown",
   "metadata": {},
   "source": [
    "### Subset Rows"
   ]
  },
  {
   "cell_type": "code",
   "execution_count": 38,
   "metadata": {
    "execution": {
     "iopub.execute_input": "2020-12-02T10:42:38.282758Z",
     "iopub.status.busy": "2020-12-02T10:42:38.278598Z",
     "iopub.status.idle": "2020-12-02T10:42:38.304096Z",
     "shell.execute_reply": "2020-12-02T10:42:38.305175Z"
    }
   },
   "outputs": [
    {
     "name": "stdout",
     "output_type": "stream",
     "text": [
      "{'fields': [{'name': 'id', 'type': 'integer'},\n",
      "            {'name': 'name', 'type': 'string'},\n",
      "            {'name': 'population', 'type': 'integer'}]}\n",
      "[Row([('id', 1), ('name', 'germany'), ('population', 83)]),\n",
      " Row([('id', 1), ('name', 'france'), ('population', 66)]),\n",
      " Row([('id', 1), ('name', 'spain'), ('population', 47)])]\n"
     ]
    }
   ],
   "source": [
    "from pprint import pprint\n",
    "from frictionless import Package, Resource, transform, steps\n",
    "\n",
    "source = Resource(path=\"data/transform.csv\")\n",
    "target = transform(\n",
    "    source,\n",
    "    steps=[\n",
    "        steps.field_update(name=\"id\", value=1),\n",
    "        steps.row_subset(subset=\"conflicts\", field_name=\"id\"),\n",
    "    ]\n",
    ")\n",
    "pprint(target.schema)\n",
    "pprint(target.read_rows())"
   ]
  },
  {
   "cell_type": "markdown",
   "metadata": {},
   "source": [
    "### Ungroup Rows"
   ]
  },
  {
   "cell_type": "code",
   "execution_count": 39,
   "metadata": {
    "execution": {
     "iopub.execute_input": "2020-12-02T10:42:38.316886Z",
     "iopub.status.busy": "2020-12-02T10:42:38.313143Z",
     "iopub.status.idle": "2020-12-02T10:42:38.342527Z",
     "shell.execute_reply": "2020-12-02T10:42:38.343754Z"
    }
   },
   "outputs": [
    {
     "name": "stdout",
     "output_type": "stream",
     "text": [
      "{'fields': [{'name': 'id', 'type': 'integer'},\n",
      "            {'name': 'name', 'type': 'string'},\n",
      "            {'name': 'population', 'type': 'integer'},\n",
      "            {'name': 'year', 'type': 'integer'}]}\n",
      "[Row([('id', 3), ('name', 'france'), ('population', 66), ('year', 2020)]),\n",
      " Row([('id', 1), ('name', 'germany'), ('population', 83), ('year', 2020)]),\n",
      " Row([('id', 5), ('name', 'spain'), ('population', 47), ('year', 2020)])]\n"
     ]
    }
   ],
   "source": [
    "from pprint import pprint\n",
    "from frictionless import Package, Resource, transform, steps\n",
    "\n",
    "source = Resource(path=\"data/transform-groups.csv\")\n",
    "target = transform(\n",
    "    source,\n",
    "    steps=[\n",
    "        steps.row_ungroup(group_name=\"name\", selection=\"first\"),\n",
    "    ]\n",
    ")\n",
    "pprint(target.schema)\n",
    "pprint(target.read_rows())"
   ]
  },
  {
   "cell_type": "markdown",
   "metadata": {},
   "source": [
    "## Cell Steps\n",
    "\n",
    "### Convert Cells"
   ]
  },
  {
   "cell_type": "code",
   "execution_count": 40,
   "metadata": {
    "execution": {
     "iopub.execute_input": "2020-12-02T10:42:38.364938Z",
     "iopub.status.busy": "2020-12-02T10:42:38.363737Z",
     "iopub.status.idle": "2020-12-02T10:42:38.380709Z",
     "shell.execute_reply": "2020-12-02T10:42:38.381973Z"
    }
   },
   "outputs": [
    {
     "name": "stdout",
     "output_type": "stream",
     "text": [
      "{'fields': [{'name': 'id', 'type': 'integer'},\n",
      "            {'name': 'name', 'type': 'string'},\n",
      "            {'name': 'population', 'type': 'integer'}]}\n",
      "[Row([('id', 1), ('name', 'n/a'), ('population', 83)]),\n",
      " Row([('id', 2), ('name', 'n/a'), ('population', 66)]),\n",
      " Row([('id', 3), ('name', 'n/a'), ('population', 47)])]\n"
     ]
    }
   ],
   "source": [
    "from pprint import pprint\n",
    "from frictionless import Package, Resource, transform, steps\n",
    "\n",
    "source = Resource(path=\"data/transform.csv\")\n",
    "target = transform(\n",
    "    source,\n",
    "    steps=[\n",
    "        steps.cell_convert(value=\"n/a\", field_name=\"name\"),\n",
    "    ]\n",
    ")\n",
    "pprint(target.schema)\n",
    "pprint(target.read_rows())"
   ]
  },
  {
   "cell_type": "markdown",
   "metadata": {},
   "source": [
    "### Fill Cells"
   ]
  },
  {
   "cell_type": "code",
   "execution_count": 41,
   "metadata": {
    "execution": {
     "iopub.execute_input": "2020-12-02T10:42:38.401962Z",
     "iopub.status.busy": "2020-12-02T10:42:38.391821Z",
     "iopub.status.idle": "2020-12-02T10:42:38.415639Z",
     "shell.execute_reply": "2020-12-02T10:42:38.414286Z"
    }
   },
   "outputs": [
    {
     "name": "stdout",
     "output_type": "stream",
     "text": [
      "{'fields': [{'name': 'id', 'type': 'integer'},\n",
      "            {'name': 'name', 'type': 'string'},\n",
      "            {'name': 'population', 'type': 'integer'}]}\n",
      "[Row([('id', 1), ('name', 'germany'), ('population', 83)]),\n",
      " Row([('id', 2), ('name', 'FRANCE'), ('population', 66)]),\n",
      " Row([('id', 3), ('name', 'spain'), ('population', 47)])]\n"
     ]
    }
   ],
   "source": [
    "from pprint import pprint\n",
    "from frictionless import Package, Resource, transform, steps\n",
    "\n",
    "source = Resource(path=\"data/transform.csv\")\n",
    "target = transform(\n",
    "    source,\n",
    "    steps=[\n",
    "        steps.cell_replace(pattern=\"france\", replace=None),\n",
    "        steps.cell_fill(field_name=\"name\", value=\"FRANCE\"),\n",
    "    ]\n",
    ")\n",
    "pprint(target.schema)\n",
    "pprint(target.read_rows())"
   ]
  },
  {
   "cell_type": "markdown",
   "metadata": {},
   "source": [
    "### Format Cells"
   ]
  },
  {
   "cell_type": "code",
   "execution_count": 42,
   "metadata": {
    "execution": {
     "iopub.execute_input": "2020-12-02T10:42:38.426900Z",
     "iopub.status.busy": "2020-12-02T10:42:38.425948Z",
     "iopub.status.idle": "2020-12-02T10:42:38.449566Z",
     "shell.execute_reply": "2020-12-02T10:42:38.450111Z"
    }
   },
   "outputs": [
    {
     "name": "stdout",
     "output_type": "stream",
     "text": [
      "{"
     ]
    },
    {
     "name": "stdout",
     "output_type": "stream",
     "text": [
      "'fields': [{'name': 'id', 'type': 'integer'},\n",
      "            {'name': 'name', 'type': 'string'},\n",
      "            {'name': 'population', 'type': 'integer'}]}\n",
      "[Row([('id', 1), ('name', 'Prefix: germany'), ('population', 83)]),\n",
      " Row([('id', 2), ('name', 'Prefix: france'), ('population', 66)]),\n",
      " Row([('id', 3), ('name', 'Prefix: spain'), ('population', 47)])]\n"
     ]
    }
   ],
   "source": [
    "from pprint import pprint\n",
    "from frictionless import Package, Resource, transform, steps\n",
    "\n",
    "source = Resource(path=\"data/transform.csv\")\n",
    "target = transform(\n",
    "    source,\n",
    "    steps=[\n",
    "        steps.cell_format(template=\"Prefix: {0}\", field_name=\"name\"),\n",
    "    ]\n",
    ")\n",
    "pprint(target.schema)\n",
    "pprint(target.read_rows())"
   ]
  },
  {
   "cell_type": "markdown",
   "metadata": {},
   "source": [
    "### Interpolate Cells"
   ]
  },
  {
   "cell_type": "code",
   "execution_count": 43,
   "metadata": {
    "execution": {
     "iopub.execute_input": "2020-12-02T10:42:38.459725Z",
     "iopub.status.busy": "2020-12-02T10:42:38.457273Z",
     "iopub.status.idle": "2020-12-02T10:42:38.487881Z",
     "shell.execute_reply": "2020-12-02T10:42:38.488804Z"
    }
   },
   "outputs": [
    {
     "name": "stdout",
     "output_type": "stream",
     "text": [
      "{'fields': [{'name': 'id', 'type': 'integer'},\n",
      "            {'name': 'name', 'type': 'string'},\n",
      "            {'name': 'population', 'type': 'integer'}]}\n",
      "[Row([('id', 1), ('name', 'Prefix: germany'), ('population', 83)]),\n",
      " Row([('id', 2), ('name', 'Prefix: france'), ('population', 66)]),\n",
      " Row([('id', 3), ('name', 'Prefix: spain'), ('population', 47)])]\n"
     ]
    }
   ],
   "source": [
    "from pprint import pprint\n",
    "from frictionless import Package, Resource, transform, steps\n",
    "\n",
    "source = Resource(path=\"data/transform.csv\")\n",
    "target = transform(\n",
    "    source,\n",
    "    steps=[\n",
    "        steps.cell_interpolate(template=\"Prefix: %s\", field_name=\"name\"),\n",
    "    ]\n",
    ")\n",
    "pprint(target.schema)\n",
    "pprint(target.read_rows())"
   ]
  },
  {
   "cell_type": "markdown",
   "metadata": {},
   "source": [
    "### Replace Cells"
   ]
  },
  {
   "cell_type": "code",
   "execution_count": 44,
   "metadata": {
    "execution": {
     "iopub.execute_input": "2020-12-02T10:42:38.501234Z",
     "iopub.status.busy": "2020-12-02T10:42:38.499700Z",
     "iopub.status.idle": "2020-12-02T10:42:38.524014Z",
     "shell.execute_reply": "2020-12-02T10:42:38.524631Z"
    }
   },
   "outputs": [
    {
     "name": "stdout",
     "output_type": "stream",
     "text": [
      "{'fields': [{'name': 'id', 'type': 'integer'},\n",
      "            {'name': 'name', 'type': 'string'},\n",
      "            {'name': 'population', 'type': 'integer'}]}\n",
      "[Row([('id', 1), ('name', 'germany'), ('population', 83)]),\n",
      " Row([('id', 2), ('name', 'FRANCE'), ('population', 66)]),\n",
      " Row([('id', 3), ('name', 'spain'), ('population', 47)])]\n"
     ]
    }
   ],
   "source": [
    "from pprint import pprint\n",
    "from frictionless import Package, Resource, transform, steps\n",
    "\n",
    "source = Resource(path=\"data/transform.csv\")\n",
    "target = transform(\n",
    "    source,\n",
    "    steps=[\n",
    "        steps.cell_replace(pattern=\"france\", replace=\"FRANCE\"),\n",
    "    ]\n",
    ")\n",
    "pprint(target.schema)\n",
    "pprint(target.read_rows())"
   ]
  },
  {
   "cell_type": "markdown",
   "metadata": {},
   "source": [
    "### Set Cells"
   ]
  },
  {
   "cell_type": "code",
   "execution_count": 45,
   "metadata": {
    "execution": {
     "iopub.execute_input": "2020-12-02T10:42:38.534902Z",
     "iopub.status.busy": "2020-12-02T10:42:38.533312Z",
     "iopub.status.idle": "2020-12-02T10:42:38.555208Z",
     "shell.execute_reply": "2020-12-02T10:42:38.554445Z"
    }
   },
   "outputs": [
    {
     "name": "stdout",
     "output_type": "stream",
     "text": [
      "{'fields': [{'name': 'id', 'type': 'integer'},\n",
      "            {'name': 'name', 'type': 'string'},\n",
      "            {'name': 'population', 'type': 'integer'}]}\n",
      "[Row([('id', 1), ('name', 'germany'), ('population', 100)]),\n",
      " Row([('id', 2), ('name', 'france'), ('population', 100)]),\n",
      " Row([('id', 3), ('name', 'spain'), ('population', 100)])]\n"
     ]
    }
   ],
   "source": [
    "from pprint import pprint\n",
    "from frictionless import Package, Resource, transform, steps\n",
    "\n",
    "source = Resource(path=\"data/transform.csv\")\n",
    "target = transform(\n",
    "    source,\n",
    "    steps=[\n",
    "          steps.cell_set(field_name=\"population\", value=100),\n",
    "    ]\n",
    ")\n",
    "pprint(target.schema)\n",
    "pprint(target.read_rows())"
   ]
  },
  {
   "cell_type": "markdown",
   "metadata": {},
   "source": [
    "## Custom Steps\n",
    "\n",
    "Here is an example of a custom step written as a python function:"
   ]
  },
  {
   "cell_type": "code",
   "execution_count": 46,
   "metadata": {
    "execution": {
     "iopub.execute_input": "2020-12-02T10:42:38.566606Z",
     "iopub.status.busy": "2020-12-02T10:42:38.564141Z",
     "iopub.status.idle": "2020-12-02T10:42:38.590749Z",
     "shell.execute_reply": "2020-12-02T10:42:38.589655Z"
    }
   },
   "outputs": [
    {
     "name": "stdout",
     "output_type": "stream",
     "text": [
      "{'fields': [{'name': 'name', 'type': 'string'},\n",
      "            {'name': 'population', 'type': 'integer'}]}\n",
      "[Row([('name', 'germany'), ('population', 83)]),\n",
      " Row([('name', 'france'), ('population', 66)]),\n",
      " Row([('name', 'spain'), ('population', 47)])]\n"
     ]
    }
   ],
   "source": [
    "from pprint import pprint\n",
    "from frictionless import Package, Resource, transform, steps\n",
    "\n",
    "def step(source, target):\n",
    "\n",
    "    # Data\n",
    "    def data():\n",
    "        for row in source.read_row_stream():\n",
    "            del row[\"id\"]\n",
    "            yield row\n",
    "\n",
    "    # Meta\n",
    "    target.data = data\n",
    "    target.schema.remove_field(\"id\")\n",
    "\n",
    "\n",
    "source = Resource(path=\"data/transform.csv\")\n",
    "target = transform(source, steps=[step])\n",
    "pprint(target.schema)\n",
    "pprint(target.read_rows())"
   ]
  },
  {
   "cell_type": "markdown",
   "metadata": {},
   "source": [
    "## Transform Utils\n",
    "\n",
    "> Transform Utils is under construction\n",
    "\n",
    "## Working with PETL\n",
    "\n",
    "In some cases, it's better to use a lower-level API to achieve some goal. A resource can be exported as a PETL table. For more information please visit PETL's [documentation portal](https://petl.readthedocs.io/en/stable/)."
   ]
  },
  {
   "cell_type": "code",
   "execution_count": 47,
   "metadata": {
    "execution": {
     "iopub.execute_input": "2020-12-02T10:42:38.605471Z",
     "iopub.status.busy": "2020-12-02T10:42:38.599054Z",
     "iopub.status.idle": "2020-12-02T10:42:38.609851Z",
     "shell.execute_reply": "2020-12-02T10:42:38.610400Z"
    }
   },
   "outputs": [
    {
     "name": "stdout",
     "output_type": "stream",
     "text": [
      "+---+---------+----+\n",
      "|   |         |    |\n",
      "+===+=========+====+\n",
      "| 1 | germany | 83 |\n",
      "+---+---------+----+\n",
      "| 2 | france  | 66 |\n",
      "+---+---------+----+\n",
      "| 3 | spain   | 47 |\n",
      "+---+---------+----+\n",
      "\n"
     ]
    }
   ],
   "source": [
    "from frictionless import Resource\n",
    "\n",
    "resource = Resource(path='data/transform.csv')\n",
    "petl_table = resource.to_petl()\n",
    "# Use it with PETL framework\n",
    "print(petl_table)"
   ]
  },
  {
   "cell_type": "markdown",
   "metadata": {},
   "source": [
    "## Working with DataFlows\n",
    "\n",
    "DataFlows is a powerful framework you can also use for transforms. Please read more about it:\n",
    "- [DataFlows Tutorial](https://github.com/datahq/dataflows/blob/master/TUTORIAL.md)\n",
    "- [DataFlows Processors](https://github.com/datahq/dataflows/blob/master/PROCESSORS.md)"
   ]
  }
 ],
 "metadata": {
  "language_info": {
   "codemirror_mode": {
    "name": "ipython",
    "version": 3
   },
   "file_extension": ".py",
   "mimetype": "text/x-python",
   "name": "python",
   "nbconvert_exporter": "python",
   "pygments_lexer": "ipython3",
   "version": "3.8.0"
  }
 },
 "nbformat": 4,
 "nbformat_minor": 4
}
