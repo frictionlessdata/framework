{
 "cells": [
  {
   "cell_type": "markdown",
   "metadata": {},
   "source": [
    "# Transforming Data\n",
    "\n",
    "> **Both the transform functionality and this document are in the draft state. It's under active development and will be stabilized by the end of 2020.**\n",
    "\n",
    "Transforming data in Frictionless means modifying a data + metadata from the state A to the state B. For example, it can be a dirty Excel file we need to transform to a cleaned CSV file or a folder of data files we want to update and save as a data package.\n",
    "\n",
    "For the core transform functions Frictionless uses amazing [PETL](https://petl.readthedocs.io/en/stable/) project under the hood. This library provides lazy-loading functinality in running data pipelines. On top of it Frictionless adds metadata management and a bridge between already familiar concepts like Pacakge/Resource and PETL's processors.\n",
    "\n",
    "Frictionless supports a few different kinds of data and metadata transformations:\n",
    "- resource and package transforms\n",
    "- transforms based on a declarative pipeline\n",
    "\n",
    "The main difference between the first two and pipelines that resource and package transforms are imperative while pipelines can be created beforehand or shared as a JSON file. Also, Frictionless supports a [Dataflows](https://frictionlessdata.io/tooling/python/working-with-dataflows/) pipeline runner. You need to install the `dataflows` plugin to use it."
   ]
  },
  {
   "cell_type": "code",
   "execution_count": 1,
   "metadata": {
    "execution": {
     "iopub.execute_input": "2020-11-26T11:01:28.477377Z",
     "iopub.status.busy": "2020-11-26T11:01:28.476212Z",
     "iopub.status.idle": "2020-11-26T11:01:28.603355Z",
     "shell.execute_reply": "2020-11-26T11:01:28.603933Z"
    }
   },
   "outputs": [
    {
     "name": "stdout",
     "output_type": "stream",
     "text": [
      "id,name,population\r\n",
      "1,germany,83\r\n",
      "2,france,66\r\n",
      "3,spain,47\r\n"
     ]
    }
   ],
   "source": [
    "! cat data/transform.csv"
   ]
  },
  {
   "cell_type": "code",
   "execution_count": 2,
   "metadata": {
    "execution": {
     "iopub.execute_input": "2020-11-26T11:01:28.616072Z",
     "iopub.status.busy": "2020-11-26T11:01:28.614996Z",
     "iopub.status.idle": "2020-11-26T11:01:28.735895Z",
     "shell.execute_reply": "2020-11-26T11:01:28.736923Z"
    }
   },
   "outputs": [
    {
     "name": "stdout",
     "output_type": "stream",
     "text": [
      "id,name,population,year\r\n",
      "1,germany,83,2020\r\n",
      "2,germany,77,1920\r\n",
      "3,france,66,2020\r\n",
      "4,france,54,1920\r\n",
      "5,spain,47,2020\r\n",
      "6,spain,33,1920\r\n"
     ]
    }
   ],
   "source": [
    "! cat data/transform-groups.csv"
   ]
  },
  {
   "cell_type": "code",
   "execution_count": 3,
   "metadata": {
    "execution": {
     "iopub.execute_input": "2020-11-26T11:01:28.745989Z",
     "iopub.status.busy": "2020-11-26T11:01:28.743167Z",
     "iopub.status.idle": "2020-11-26T11:01:28.870571Z",
     "shell.execute_reply": "2020-11-26T11:01:28.872579Z"
    }
   },
   "outputs": [
    {
     "name": "stdout",
     "output_type": "stream",
     "text": [
      "region,gender,style,units\r\n",
      "east,boy,tee,12\r\n",
      "east,boy,golf,14\r\n",
      "east,boy,fancy,7\r\n",
      "east,girl,tee,3\r\n",
      "east,girl,golf,8\r\n",
      "east,girl,fancy,18\r\n",
      "west,boy,tee,12\r\n",
      "west,boy,golf,15\r\n",
      "west,boy,fancy,8\r\n",
      "west,girl,tee,6\r\n",
      "west,girl,golf,16\r\n",
      "west,girl,fancy,1\r\n"
     ]
    }
   ],
   "source": [
    "! cat data/transform-pivot.csv"
   ]
  },
  {
   "cell_type": "markdown",
   "metadata": {},
   "source": [
    "## Transform Functions\n",
    "\n",
    "The high-level interface for transforming data provided by Frictionless is a set of `transform` functions:\n",
    "- `transform`: it will detect the source type and transform data accordingly\n",
    "- `transform_resource`: it transforms a resource\n",
    "- `transform_package`: it transforms a package\n",
    "- `transform_pipeline`: it transforms resource or package based on a declarative pipeline definition\n",
    "\n",
    "### Transforming Resource\n",
    "\n",
    "Let's write our first transform. It's as easy as defining a source resource, applying transform steps and getting back a resulting target resource:"
   ]
  },
  {
   "cell_type": "code",
   "execution_count": 4,
   "metadata": {
    "execution": {
     "iopub.execute_input": "2020-11-26T11:01:28.885721Z",
     "iopub.status.busy": "2020-11-26T11:01:28.884686Z",
     "iopub.status.idle": "2020-11-26T11:01:29.437854Z",
     "shell.execute_reply": "2020-11-26T11:01:29.438849Z"
    }
   },
   "outputs": [
    {
     "name": "stdout",
     "output_type": "stream",
     "text": [
      "{'fields': [{'name': 'name', 'type': 'string'},\n",
      "            {'name': 'variable'},\n",
      "            {'name': 'value'}]}\n",
      "[Row([('name', 'germany'), ('variable', 'id'), ('value', 1)]),\n",
      " Row([('name', 'germany'), ('variable', 'population'), ('value', 83)]),\n",
      " Row([('name', 'france'), ('variable', 'id'), ('value', 2)]),\n",
      " Row([('name', 'france'), ('variable', 'population'), ('value', 66)]),\n",
      " Row([('name', 'spain'), ('variable', 'id'), ('value', 3)]),\n",
      " Row([('name', 'spain'), ('variable', 'population'), ('value', 47)])]\n"
     ]
    }
   ],
   "source": [
    "from pprint import pprint\n",
    "from frictionless import Resource, transform, steps\n",
    "\n",
    "source = Resource(path=\"data/transform.csv\")\n",
    "target = transform(\n",
    "    source,\n",
    "    steps=[\n",
    "        steps.table_normalize(),\n",
    "        steps.table_melt(field_name=\"name\"),\n",
    "    ],\n",
    ")\n",
    "pprint(target.schema)\n",
    "pprint(target.read_rows())"
   ]
  },
  {
   "cell_type": "markdown",
   "metadata": {},
   "source": [
    "Let's break the transorming steps we applied down:\n",
    "1. `steps.table_normalize` - cast data types and shape the table according to the schema, inferred or provided\n",
    "2. `steps.table_melt` - melt the table as it's done in R-Language or in other scientific libraries like `pandas`\n",
    "\n",
    "Thare are dozens of other available steps that will be covered below.\n",
    "\n",
    "### Transforming Package\n",
    "\n",
    "Transforming a package is not much more difficult than a resource. Basically, a package is a set of resources so we will be transforming resources exactly the same way as we did above + we will be managing the resources list itself, adding or removing them:"
   ]
  },
  {
   "cell_type": "code",
   "execution_count": 5,
   "metadata": {
    "execution": {
     "iopub.execute_input": "2020-11-26T11:01:29.450746Z",
     "iopub.status.busy": "2020-11-26T11:01:29.449305Z",
     "iopub.status.idle": "2020-11-26T11:01:29.531110Z",
     "shell.execute_reply": "2020-11-26T11:01:29.532280Z"
    }
   },
   "outputs": [
    {
     "name": "stdout",
     "output_type": "stream",
     "text": [
      "['main']\n",
      "{'fields': [{'name': 'id', 'type': 'integer'},\n",
      "            {'name': 'name', 'type': 'string'},\n",
      "            {'name': 'population', 'type': 'integer'}]}\n",
      "[Row([('id', 1), ('name', 'germany'), ('population', 83)]),\n",
      " Row([('id', 1), ('name', 'germany'), ('population', 83)]),\n",
      " Row([('id', 2), ('name', 'france'), ('population', 66)]),\n",
      " Row([('id', 2), ('name', 'france'), ('population', 66)]),\n",
      " Row([('id', 3), ('name', 'spain'), ('population', 47)]),\n",
      " Row([('id', 3), ('name', 'spain'), ('population', 47)])]\n"
     ]
    }
   ],
   "source": [
    "from pprint import pprint\n",
    "from frictionless import Package, Resource, transform, steps\n",
    "\n",
    "source = Package(resources=[Resource(name='main', path=\"data/transform.csv\")])\n",
    "target = transform(\n",
    "    source,\n",
    "    steps=[\n",
    "        steps.resource_add(name='extra', path='data/transform.csv'),\n",
    "        steps.resource_transform(name='main', steps=[\n",
    "            steps.table_merge(resource='extra'),\n",
    "            steps.row_sort(field_names=['id'])\n",
    "        ]),\n",
    "        steps.resource_remove(name=\"extra\"),\n",
    "    ],\n",
    ")\n",
    "pprint(target.resource_names)\n",
    "pprint(target.get_resource('main').schema)\n",
    "pprint(target.get_resource('main').read_rows())"
   ]
  },
  {
   "cell_type": "markdown",
   "metadata": {},
   "source": [
    "The exact tranformation we have applied actually doesn't make any sense as we just duplicted every row of the `main` resource. But it must have provided basic undetstanding of how simple and at the same time flexible package transformations can be.\n",
    "\n",
    "### Transforming Pipeline\n",
    "\n",
    "A pipeline is a metadata object having one of these types:\n",
    "- resource\n",
    "- package\n",
    "- dataflows\n",
    "- others (depending on custom plugins you use)\n",
    "\n",
    "For resource and package types it's basically the same functionality as we have seen above but written declaratively. So let's just run the same resource transformation as we did in the `Tranforming Resource` section:"
   ]
  },
  {
   "cell_type": "code",
   "execution_count": 6,
   "metadata": {
    "execution": {
     "iopub.execute_input": "2020-11-26T11:01:29.545321Z",
     "iopub.status.busy": "2020-11-26T11:01:29.542466Z",
     "iopub.status.idle": "2020-11-26T11:01:29.566695Z",
     "shell.execute_reply": "2020-11-26T11:01:29.567722Z"
    }
   },
   "outputs": [
    {
     "name": "stdout",
     "output_type": "stream",
     "text": [
      "{'fields': [{'name': 'name', 'type': 'string'},\n",
      "            {'name': 'variable'},\n",
      "            {'name': 'value'}]}\n",
      "[Row([('name', 'germany'), ('variable', 'id'), ('value', 1)]),\n",
      " Row([('name', 'germany'), ('variable', 'population'), ('value', 83)]),\n",
      " Row([('name', 'france'), ('variable', 'id'), ('value', 2)]),\n",
      " Row([('name', 'france'), ('variable', 'population'), ('value', 66)]),\n",
      " Row([('name', 'spain'), ('variable', 'id'), ('value', 3)]),\n",
      " Row([('name', 'spain'), ('variable', 'population'), ('value', 47)])]\n"
     ]
    }
   ],
   "source": [
    "from pprint import pprint\n",
    "from frictionless import Pipeline, transform, steps\n",
    "\n",
    "pipeline = Pipeline({\n",
    "    'type': 'resource',\n",
    "    'source': {'path': 'data/transform.csv'},\n",
    "    'steps': [\n",
    "        {'type': 'tableNormalize', 'spec': {}},\n",
    "        {'type': 'tableMelt', 'spec': {'fieldName': 'name'}}\n",
    "    ]\n",
    "})\n",
    "target = transform(pipeline)\n",
    "pprint(target.schema)\n",
    "pprint(target.read_rows())"
   ]
  },
  {
   "cell_type": "markdown",
   "metadata": {},
   "source": [
    "And as we had expected we got the same result.\n",
    "\n",
    "## Transform Options\n",
    "\n",
    "The `transorm` function accepts the `source` argument which can be a resource, a package or a pipeline descriptor\n",
    "\n",
    "### Resource\n",
    "\n",
    "The `transform_resource` function also accepts:\n",
    "\n",
    "- `steps` argument to define which steps should be applied on the source resource.\n",
    "\n",
    "### Package\n",
    "\n",
    "The `transform_package` function also accepts:\n",
    "\n",
    "- `steps` argument to define which steps should be applied on the source package.\n",
    "\n",
    "### Pipeline\n",
    "\n",
    "The `transform_pipeline` function doesn't accept any additional arguments.\n",
    "\n",
    "## Transform Principles\n",
    "\n",
    "Frictionless Transforms bases on a few core principles which is shared with other parts of the framework:\n",
    "\n",
    "### Conceptual Simplicity\n",
    "\n",
    "Frictionless Transforms is not more than a list of functions that accept a source resource/package object and return a target resource/package object. Every function just updates the input's metadata and data and that's it. Thanks to this simplicity even a non-techical user can read the [source code](https://github.com/frictionlessdata/frictionless-py/blob/7ad8e692ad00131cdc9fa51258d8b860c62e77bc/frictionless/transform/resource.py#L7) of the transform function and understand how it works. And understanding the tools you use can be really important for mastering them.\n",
    "\n",
    "### Metadata Matters\n",
    "\n",
    "There is plenty of great ETL-frameworks written in Python and other languages. As said, we use one of them (PETL) under the hood. The core difference between Frictionless and others that we treat metadata as a first-class citizien. It means that you don't loose type and other important information during the pipeline evaluation.\n",
    "\n",
    "### Data Streaming\n",
    "\n",
    "Whenever it's possible Frictionless streams the data instead of reading it into memory. For example, for sorting big tables we use a memory usage threshold and it's met we use file system to unload the data. Ability to stream the data give users power to work with files of any size.\n",
    "\n",
    "### Lazy Evaluation\n",
    "\n",
    "Unlike to systems like `Data Package Pipelines` core Frictionless Transforms doesn't have a back-pressured flow as all data manupulation happen on-demand. For example, if you transform a data package containing 10 big csv files but you only need to reshape one table Frictionless will not even read other tables. Actually, when you call `target = transform(source)` it does almost nothing untill the data reading call like `target.read_rows()` is made.\n",
    "\n",
    "### Lean Processing\n",
    "\n",
    "Similiar to the section above, Frictionless tries to be as much explicit as possible regarding actions taken. For example, it will not use CPU resources to cast data unless a user adds a \"normalize\", \"validate\" or similiar steps. So it's possible to transform rather big file without even casting types, for example, if you just need to reshape it.\n",
    "\n",
    "## Transform Steps\n",
    "\n",
    "Frictionless includes more than 40+ builtin transform steps. They are groupped by the object so you can find them easily if you have code autocomplition. Start typing, for example, `steps.table...` and you will see all the available steps. The groups are listed below and you will find every group described in more detail in the next sections. It's also possible to write custom transform steps. Please read the section below to learn more about it.\n",
    "\n",
    "- resource\n",
    "- table\n",
    "- field\n",
    "- row\n",
    "- cell\n",
    "\n",
    "## Resource Steps\n",
    "\n",
    "### Add Resource"
   ]
  },
  {
   "cell_type": "code",
   "execution_count": 7,
   "metadata": {
    "execution": {
     "iopub.execute_input": "2020-11-26T11:01:29.580211Z",
     "iopub.status.busy": "2020-11-26T11:01:29.579195Z",
     "iopub.status.idle": "2020-11-26T11:01:29.605217Z",
     "shell.execute_reply": "2020-11-26T11:01:29.606461Z"
    }
   },
   "outputs": [
    {
     "name": "stdout",
     "output_type": "stream",
     "text": [
      "['main', 'extra']\n",
      "{'fields': [{'name': 'id', 'type': 'integer'},\n",
      "            {'name': 'name', 'type': 'string'},\n",
      "            {'name': 'population', 'type': 'integer'}]}\n",
      "[Row([('id', 1), ('name', 'germany'), ('population', 83)]),\n",
      " Row([('id', 2), ('name', 'france'), ('population', 66)]),\n",
      " Row([('id', 3), ('name', 'spain'), ('population', 47)])]\n"
     ]
    }
   ],
   "source": [
    "from pprint import pprint\n",
    "from frictionless import Package, Resource, transform, steps\n",
    "\n",
    "source = Package(resources=[Resource(name='main', path=\"data/transform.csv\")])\n",
    "target = transform(\n",
    "    source,\n",
    "    steps=[\n",
    "        steps.resource_add(name='extra', path='data/transform.csv'),\n",
    "    ],\n",
    ")\n",
    "pprint(target.resource_names)\n",
    "pprint(target.get_resource('extra').schema)\n",
    "pprint(target.get_resource('extra').read_rows())"
   ]
  },
  {
   "cell_type": "markdown",
   "metadata": {},
   "source": [
    "### Remove Resource"
   ]
  },
  {
   "cell_type": "code",
   "execution_count": 8,
   "metadata": {
    "execution": {
     "iopub.execute_input": "2020-11-26T11:01:29.626751Z",
     "iopub.status.busy": "2020-11-26T11:01:29.625171Z",
     "iopub.status.idle": "2020-11-26T11:01:29.633340Z",
     "shell.execute_reply": "2020-11-26T11:01:29.631772Z"
    }
   },
   "outputs": [
    {
     "name": "stdout",
     "output_type": "stream",
     "text": [
      "{'profile': 'data-package', 'resources': []}\n"
     ]
    }
   ],
   "source": [
    "from pprint import pprint\n",
    "from frictionless import Package, Resource, transform, steps\n",
    "\n",
    "source = Package(resources=[Resource(name='main', path=\"data/transform.csv\")])\n",
    "target = transform(\n",
    "    source,\n",
    "    steps=[\n",
    "        steps.resource_remove(name='main'),\n",
    "    ],\n",
    ")\n",
    "pprint(target)"
   ]
  },
  {
   "cell_type": "markdown",
   "metadata": {},
   "source": [
    "### Transform Resource"
   ]
  },
  {
   "cell_type": "code",
   "execution_count": 9,
   "metadata": {
    "execution": {
     "iopub.execute_input": "2020-11-26T11:01:29.646907Z",
     "iopub.status.busy": "2020-11-26T11:01:29.645961Z",
     "iopub.status.idle": "2020-11-26T11:01:29.681317Z",
     "shell.execute_reply": "2020-11-26T11:01:29.682089Z"
    }
   },
   "outputs": [
    {
     "name": "stdout",
     "output_type": "stream",
     "text": [
      "['main']\n",
      "{'fields': [{'name': 'id', 'type': 'integer'},\n",
      "            {'name': 'name', 'type': 'string'},\n",
      "            {'name': 'population', 'type': 'integer'}]}\n",
      "[Row([('id', 1), ('name', 'germany'), ('population', 83)]),\n",
      " Row([('id', 1), ('name', 'germany'), ('population', 83)]),\n",
      " Row([('id', 2), ('name', 'france'), ('population', 66)]),\n",
      " Row([('id', 2), ('name', 'france'), ('population', 66)]),\n",
      " Row([('id', 3), ('name', 'spain'), ('population', 47)]),\n",
      " Row([('id', 3), ('name', 'spain'), ('population', 47)])]\n"
     ]
    }
   ],
   "source": [
    "from pprint import pprint\n",
    "from frictionless import Package, Resource, transform, steps\n",
    "\n",
    "source = Package(resources=[Resource(name='main', path=\"data/transform.csv\")])\n",
    "target = transform(\n",
    "    source,\n",
    "    steps=[\n",
    "        steps.resource_add(name='extra', path='data/transform.csv'),\n",
    "        steps.resource_transform(name='main', steps=[\n",
    "            steps.table_merge(resource='extra'),\n",
    "            steps.row_sort(field_names=['id'])\n",
    "        ]),\n",
    "        steps.resource_remove(name=\"extra\"),\n",
    "    ],\n",
    ")\n",
    "pprint(target.resource_names)\n",
    "pprint(target.get_resource('main').schema)\n",
    "pprint(target.get_resource('main').read_rows())"
   ]
  },
  {
   "cell_type": "markdown",
   "metadata": {},
   "source": [
    "### Update Resource"
   ]
  },
  {
   "cell_type": "code",
   "execution_count": 10,
   "metadata": {
    "execution": {
     "iopub.execute_input": "2020-11-26T11:01:29.700787Z",
     "iopub.status.busy": "2020-11-26T11:01:29.693077Z",
     "iopub.status.idle": "2020-11-26T11:01:29.715238Z",
     "shell.execute_reply": "2020-11-26T11:01:29.714294Z"
    }
   },
   "outputs": [
    {
     "name": "stdout",
     "output_type": "stream",
     "text": [
      "{'compression': 'no',\n",
      " 'compressionPath': '',\n",
      " 'control': {'newline': ''},\n",
      " 'description': 'For the docs',\n",
      " 'dialect': {},\n",
      " 'encoding': 'utf-8',\n",
      " 'format': 'csv',\n",
      " 'hashing': 'md5',\n",
      " 'name': 'main',\n",
      " 'path': 'data/transform.csv',\n",
      " 'profile': 'tabular-data-resource',\n",
      " 'query': {},\n",
      " 'schema': {'fields': [{'name': 'id', 'type': 'integer'},\n",
      "                       {'name': 'name', 'type': 'string'},\n",
      "                       {'name': 'population', 'type': 'integer'}]},\n",
      " 'scheme': 'file',\n",
      " 'title': 'Main Resource'}\n"
     ]
    }
   ],
   "source": [
    "from pprint import pprint\n",
    "from frictionless import Package, Resource, transform, steps\n",
    "\n",
    "source = Package(resources=[Resource(name='main', path=\"data/transform.csv\")])\n",
    "target = transform(\n",
    "    source,\n",
    "    steps=[\n",
    "        steps.resource_update(name='main', title='Main Resource', description='For the docs'),\n",
    "    ],\n",
    ")\n",
    "pprint(target.get_resource('main'))"
   ]
  },
  {
   "cell_type": "markdown",
   "metadata": {},
   "source": [
    "## Table Steps\n",
    "\n",
    "### Aggregate Table"
   ]
  },
  {
   "cell_type": "code",
   "execution_count": 11,
   "metadata": {
    "execution": {
     "iopub.execute_input": "2020-11-26T11:01:29.723780Z",
     "iopub.status.busy": "2020-11-26T11:01:29.722957Z",
     "iopub.status.idle": "2020-11-26T11:01:29.744634Z",
     "shell.execute_reply": "2020-11-26T11:01:29.745830Z"
    }
   },
   "outputs": [
    {
     "name": "stdout",
     "output_type": "stream",
     "text": [
      "{'fields': [{'name': 'name', 'type': 'string'}, {'name': 'sum'}]}\n",
      "[Row([('name', 'france'), ('sum', 120)]),\n",
      " Row([('name', 'germany'), ('sum', 160)]),\n",
      " Row([('name', 'spain'), ('sum', 80)])]\n"
     ]
    }
   ],
   "source": [
    "from pprint import pprint\n",
    "from frictionless import Package, Resource, transform, steps\n",
    "\n",
    "source = Resource(path=\"data/transform-groups.csv\")\n",
    "target = transform(\n",
    "    source,\n",
    "    steps=[\n",
    "        steps.table_normalize(),\n",
    "        steps.table_aggregate(\n",
    "            group_name=\"name\", aggregation={\"sum\": (\"population\", sum)}\n",
    "        ),\n",
    "    ],\n",
    ")\n",
    "pprint(target.schema)\n",
    "pprint(target.read_rows())"
   ]
  },
  {
   "cell_type": "markdown",
   "metadata": {},
   "source": [
    "### Attach Tables"
   ]
  },
  {
   "cell_type": "code",
   "execution_count": 12,
   "metadata": {
    "execution": {
     "iopub.execute_input": "2020-11-26T11:01:29.772865Z",
     "iopub.status.busy": "2020-11-26T11:01:29.768598Z",
     "iopub.status.idle": "2020-11-26T11:01:29.783972Z",
     "shell.execute_reply": "2020-11-26T11:01:29.785355Z"
    }
   },
   "outputs": [
    {
     "name": "stdout",
     "output_type": "stream",
     "text": [
      "{'fields': [{'name': 'id', 'type': 'integer'},\n",
      "            {'name': 'name', 'type': 'string'},\n",
      "            {'name': 'population', 'type': 'integer'},\n",
      "            {'name': 'note', 'type': 'string'}]}\n",
      "[Row([('id', 1), ('name', 'germany'), ('population', 83), ('note', 'large')]),\n",
      " Row([('id', 2), ('name', 'france'), ('population', 66), ('note', 'mid')]),\n",
      " Row([('id', 3), ('name', 'spain'), ('population', 47), ('note', None)])]\n"
     ]
    }
   ],
   "source": [
    "from pprint import pprint\n",
    "from frictionless import Package, Resource, transform, steps\n",
    "\n",
    "source = Resource(path=\"data/transform.csv\")\n",
    "target = transform(\n",
    "    source,\n",
    "    steps=[\n",
    "      steps.table_attach(resource=Resource(data=[[\"note\"], [\"large\"], [\"mid\"]])),\n",
    "    ],\n",
    ")\n",
    "pprint(target.schema)\n",
    "pprint(target.read_rows())"
   ]
  },
  {
   "cell_type": "markdown",
   "metadata": {},
   "source": [
    "### Debug Table"
   ]
  },
  {
   "cell_type": "code",
   "execution_count": 13,
   "metadata": {
    "execution": {
     "iopub.execute_input": "2020-11-26T11:01:29.794226Z",
     "iopub.status.busy": "2020-11-26T11:01:29.792866Z",
     "iopub.status.idle": "2020-11-26T11:01:29.819540Z",
     "shell.execute_reply": "2020-11-26T11:01:29.820246Z"
    }
   },
   "outputs": [
    {
     "name": "stdout",
     "output_type": "stream",
     "text": [
      "['1', 'germany', '83']\n",
      "['2', 'france', '66']\n",
      "['3', 'spain', '47']\n",
      "[Row([('id', 1), ('name', 'germany'), ('population', 83)]),\n",
      " Row([('id', 2), ('name', 'france'), ('population', 66)]),\n",
      " Row([('id', 3), ('name', 'spain'), ('population', 47)])]\n"
     ]
    }
   ],
   "source": [
    "from pprint import pprint\n",
    "from frictionless import Package, Resource, transform, steps\n",
    "\n",
    "source = Resource(path=\"data/transform.csv\")\n",
    "target = transform(\n",
    "    source,\n",
    "    steps=[\n",
    "      steps.table_debug(function=print),\n",
    "    ],\n",
    ")\n",
    "pprint(target.read_rows())"
   ]
  },
  {
   "cell_type": "markdown",
   "metadata": {},
   "source": [
    "### Diff Tables"
   ]
  },
  {
   "cell_type": "code",
   "execution_count": 14,
   "metadata": {
    "execution": {
     "iopub.execute_input": "2020-11-26T11:01:29.835508Z",
     "iopub.status.busy": "2020-11-26T11:01:29.833974Z",
     "iopub.status.idle": "2020-11-26T11:01:29.857910Z",
     "shell.execute_reply": "2020-11-26T11:01:29.858792Z"
    }
   },
   "outputs": [
    {
     "name": "stdout",
     "output_type": "stream",
     "text": [
      "{'fields': [{'name': 'id', 'type': 'integer'},\n",
      "            {'name': 'name', 'type': 'string'},\n",
      "            {'name': 'population', 'type': 'integer'}]}\n",
      "[Row([('id', 2), ('name', 'france'), ('population', 66)])]\n"
     ]
    }
   ],
   "source": [
    "from pprint import pprint\n",
    "from frictionless import Package, Resource, transform, steps\n",
    "\n",
    "source = Resource(path=\"data/transform.csv\")\n",
    "target = transform(\n",
    "    source,\n",
    "    steps=[\n",
    "        steps.table_normalize(),\n",
    "        steps.table_diff(\n",
    "            resource=Resource(\n",
    "                data=[\n",
    "                    [\"id\", \"name\", \"population\"],\n",
    "                    [1, \"germany\", 83],\n",
    "                    [2, \"france\", 50],\n",
    "                    [3, \"spain\", 47],\n",
    "                ]\n",
    "            )\n",
    "        ),\n",
    "    ]\n",
    ")\n",
    "pprint(target.schema)\n",
    "pprint(target.read_rows())"
   ]
  },
  {
   "cell_type": "markdown",
   "metadata": {},
   "source": [
    "### Intersect Tables"
   ]
  },
  {
   "cell_type": "code",
   "execution_count": 15,
   "metadata": {
    "execution": {
     "iopub.execute_input": "2020-11-26T11:01:29.872829Z",
     "iopub.status.busy": "2020-11-26T11:01:29.870667Z",
     "iopub.status.idle": "2020-11-26T11:01:29.896373Z",
     "shell.execute_reply": "2020-11-26T11:01:29.897643Z"
    }
   },
   "outputs": [
    {
     "name": "stdout",
     "output_type": "stream",
     "text": [
      "{'fields': [{'name': 'id', 'type': 'integer'},\n",
      "            {'name': 'name', 'type': 'string'},\n",
      "            {'name': 'population', 'type': 'integer'}]}\n",
      "[Row([('id', 1), ('name', 'germany'), ('population', 83)]),\n",
      " Row([('id', 3), ('name', 'spain'), ('population', 47)])]\n"
     ]
    }
   ],
   "source": [
    "from pprint import pprint\n",
    "from frictionless import Package, Resource, transform, steps\n",
    "\n",
    "source = Resource(path=\"data/transform.csv\")\n",
    "target = transform(\n",
    "    source,\n",
    "    steps=[\n",
    "        steps.table_normalize(),\n",
    "        steps.table_intersect(\n",
    "            resource=Resource(\n",
    "                data=[\n",
    "                    [\"id\", \"name\", \"population\"],\n",
    "                    [1, \"germany\", 83],\n",
    "                    [2, \"france\", 50],\n",
    "                    [3, \"spain\", 47],\n",
    "                ]\n",
    "            ),\n",
    "        ),\n",
    "    ]\n",
    ")\n",
    "pprint(target.schema)\n",
    "pprint(target.read_rows())"
   ]
  },
  {
   "cell_type": "markdown",
   "metadata": {},
   "source": [
    "### Join Tables"
   ]
  },
  {
   "cell_type": "code",
   "execution_count": 16,
   "metadata": {
    "execution": {
     "iopub.execute_input": "2020-11-26T11:01:29.923352Z",
     "iopub.status.busy": "2020-11-26T11:01:29.922186Z",
     "iopub.status.idle": "2020-11-26T11:01:29.936074Z",
     "shell.execute_reply": "2020-11-26T11:01:29.937008Z"
    }
   },
   "outputs": [
    {
     "name": "stdout",
     "output_type": "stream",
     "text": [
      "{'fields': [{'name': 'id', 'type': 'integer'},\n",
      "            {'name': 'name', 'type': 'string'},\n",
      "            {'name': 'population', 'type': 'integer'},\n",
      "            {'name': 'note', 'type': 'string'}]}\n"
     ]
    },
    {
     "name": "stdout",
     "output_type": "stream",
     "text": [
      "[Row([('id', 1), ('name', 'germany'), ('population', 83), ('note', 'beer')]),\n",
      " Row([('id', 2), ('name', 'france'), ('population', 66), ('note', 'vine')])]\n"
     ]
    }
   ],
   "source": [
    "from pprint import pprint\n",
    "from frictionless import Package, Resource, transform, steps\n",
    "\n",
    "source = Resource(path=\"data/transform.csv\")\n",
    "target = transform(\n",
    "    source,\n",
    "    steps=[\n",
    "        steps.table_normalize(),\n",
    "        steps.table_join(\n",
    "            resource=Resource(data=[[\"id\", \"note\"], [1, \"beer\"], [2, \"vine\"]]),\n",
    "            field_name=\"id\",\n",
    "        ),\n",
    "    ]\n",
    ")\n",
    "pprint(target.schema)\n",
    "pprint(target.read_rows())"
   ]
  },
  {
   "cell_type": "markdown",
   "metadata": {},
   "source": [
    "### Melt Table"
   ]
  },
  {
   "cell_type": "code",
   "execution_count": 17,
   "metadata": {
    "execution": {
     "iopub.execute_input": "2020-11-26T11:01:29.953008Z",
     "iopub.status.busy": "2020-11-26T11:01:29.948386Z",
     "iopub.status.idle": "2020-11-26T11:01:29.968996Z",
     "shell.execute_reply": "2020-11-26T11:01:29.969539Z"
    }
   },
   "outputs": [
    {
     "name": "stdout",
     "output_type": "stream",
     "text": [
      "{'fields': [{'name': 'name', 'type': 'string'},\n",
      "            {'name': 'variable'},\n",
      "            {'name': 'value'}]}\n",
      "[Row([('name', 'germany'), ('variable', 'id'), ('value', 1)]),\n",
      " Row([('name', 'germany'), ('variable', 'population'), ('value', 83)]),\n",
      " Row([('name', 'france'), ('variable', 'id'), ('value', 2)]),\n",
      " Row([('name', 'france'), ('variable', 'population'), ('value', 66)]),\n",
      " Row([('name', 'spain'), ('variable', 'id'), ('value', 3)]),\n",
      " Row([('name', 'spain'), ('variable', 'population'), ('value', 47)])]\n"
     ]
    }
   ],
   "source": [
    "from pprint import pprint\n",
    "from frictionless import Package, Resource, transform, steps\n",
    "\n",
    "source = Resource(path=\"data/transform.csv\")\n",
    "target = transform(\n",
    "    source,\n",
    "    steps=[\n",
    "        steps.table_normalize(),\n",
    "        steps.table_melt(field_name=\"name\"),\n",
    "    ]\n",
    ")\n",
    "pprint(target.schema)\n",
    "pprint(target.read_rows())"
   ]
  },
  {
   "cell_type": "markdown",
   "metadata": {},
   "source": [
    "### Merge Tables"
   ]
  },
  {
   "cell_type": "code",
   "execution_count": 18,
   "metadata": {
    "execution": {
     "iopub.execute_input": "2020-11-26T11:01:29.980641Z",
     "iopub.status.busy": "2020-11-26T11:01:29.979918Z",
     "iopub.status.idle": "2020-11-26T11:01:30.009488Z",
     "shell.execute_reply": "2020-11-26T11:01:30.010379Z"
    }
   },
   "outputs": [
    {
     "name": "stdout",
     "output_type": "stream",
     "text": [
      "{'fields': [{'name': 'id', 'type': 'integer'},\n",
      "            {'name': 'name', 'type': 'string'},\n",
      "            {'name': 'population', 'type': 'integer'},\n",
      "            {'name': 'note', 'type': 'string'}]}\n",
      "[Row([('id', 1), ('name', 'germany'), ('population', 83), ('note', None)]),\n",
      " Row([('id', 2), ('name', 'france'), ('population', 66), ('note', None)]),\n",
      " Row([('id', 3), ('name', 'spain'), ('population', 47), ('note', None)]),\n",
      " Row([('id', 4), ('name', 'malta'), ('population', None), ('note', 'island')])]\n"
     ]
    }
   ],
   "source": [
    "from pprint import pprint\n",
    "from frictionless import Package, Resource, transform, steps\n",
    "\n",
    "source = Resource(path=\"data/transform.csv\")\n",
    "target = transform(\n",
    "    source,\n",
    "    steps=[\n",
    "        steps.table_merge(\n",
    "            resource=Resource(data=[[\"id\", \"name\", \"note\"], [4, \"malta\", \"island\"]])\n",
    "        ),\n",
    "    ]\n",
    ")\n",
    "pprint(target.schema)\n",
    "pprint(target.read_rows())"
   ]
  },
  {
   "cell_type": "markdown",
   "metadata": {},
   "source": [
    "### Pivot Table"
   ]
  },
  {
   "cell_type": "code",
   "execution_count": 19,
   "metadata": {
    "execution": {
     "iopub.execute_input": "2020-11-26T11:01:30.031333Z",
     "iopub.status.busy": "2020-11-26T11:01:30.030675Z",
     "iopub.status.idle": "2020-11-26T11:01:30.049199Z",
     "shell.execute_reply": "2020-11-26T11:01:30.050297Z"
    }
   },
   "outputs": [
    {
     "name": "stdout",
     "output_type": "stream",
     "text": [
      "{'fields': [{'name': 'region', 'type': 'string'},\n",
      "            {'name': 'boy', 'type': 'integer'},\n",
      "            {'name': 'girl', 'type': 'integer'}]}\n",
      "[Row([('region', 'east'), ('boy', 33), ('girl', 29)]),\n",
      " Row([('region', 'west'), ('boy', 35), ('girl', 23)])]\n"
     ]
    }
   ],
   "source": [
    "from pprint import pprint\n",
    "from frictionless import Package, Resource, transform, steps\n",
    "\n",
    "source = Resource(path=\"data/transform-pivot.csv\")\n",
    "target = transform(\n",
    "    source,\n",
    "    steps=[\n",
    "        steps.table_normalize(),\n",
    "        steps.table_pivot(f1=\"region\", f2=\"gender\", f3=\"units\", aggfun=sum),\n",
    "    ]\n",
    ")\n",
    "pprint(target.schema)\n",
    "pprint(target.read_rows())"
   ]
  },
  {
   "cell_type": "markdown",
   "metadata": {},
   "source": [
    "### Print Table"
   ]
  },
  {
   "cell_type": "code",
   "execution_count": 20,
   "metadata": {
    "execution": {
     "iopub.execute_input": "2020-11-26T11:01:30.061341Z",
     "iopub.status.busy": "2020-11-26T11:01:30.060355Z",
     "iopub.status.idle": "2020-11-26T11:01:30.077022Z",
     "shell.execute_reply": "2020-11-26T11:01:30.078102Z"
    }
   },
   "outputs": [
    {
     "name": "stdout",
     "output_type": "stream",
     "text": [
      "==  =======  ==========\n",
      "id  name     population\n",
      "==  =======  ==========\n",
      " 1  germany          83\n",
      " 2  france           66\n",
      " 3  spain            47\n",
      "==  =======  ==========\n",
      "\n"
     ]
    }
   ],
   "source": [
    "from pprint import pprint\n",
    "from frictionless import Package, Resource, transform, steps\n",
    "\n",
    "source = Resource(path=\"data/transform.csv\")\n",
    "target = transform(\n",
    "    source,\n",
    "    steps=[\n",
    "        steps.table_normalize(),\n",
    "        steps.table_print(),\n",
    "    ]\n",
    ")"
   ]
  },
  {
   "cell_type": "markdown",
   "metadata": {},
   "source": [
    "### Recast Table"
   ]
  },
  {
   "cell_type": "code",
   "execution_count": 21,
   "metadata": {
    "execution": {
     "iopub.execute_input": "2020-11-26T11:01:30.088990Z",
     "iopub.status.busy": "2020-11-26T11:01:30.087318Z",
     "iopub.status.idle": "2020-11-26T11:01:30.135668Z",
     "shell.execute_reply": "2020-11-26T11:01:30.136408Z"
    }
   },
   "outputs": [
    {
     "name": "stdout",
     "output_type": "stream",
     "text": [
      "{'fields': [{'name': 'id', 'type': 'integer'},\n",
      "            {'name': 'name', 'type': 'string'},\n",
      "            {'name': 'population', 'type': 'integer'}]}\n"
     ]
    },
    {
     "name": "stdout",
     "output_type": "stream",
     "text": [
      "[Row([('id', 1), ('name', 'germany'), ('population', 83)]),\n",
      " Row([('id', 2), ('name', 'france'), ('population', 66)]),\n",
      " Row([('id', 3), ('name', 'spain'), ('population', 47)])]\n"
     ]
    }
   ],
   "source": [
    "from pprint import pprint\n",
    "from frictionless import Package, Resource, transform, steps\n",
    "\n",
    "source = Resource(path=\"data/transform.csv\")\n",
    "target = transform(\n",
    "    source,\n",
    "    steps=[\n",
    "        steps.table_normalize(),\n",
    "        steps.table_melt(field_name=\"id\"),\n",
    "        steps.table_recast(field_name=\"id\"),\n",
    "    ]\n",
    ")\n",
    "pprint(target.schema)\n",
    "pprint(target.read_rows())"
   ]
  },
  {
   "cell_type": "markdown",
   "metadata": {},
   "source": [
    "### Transpose Table"
   ]
  },
  {
   "cell_type": "code",
   "execution_count": 22,
   "metadata": {
    "execution": {
     "iopub.execute_input": "2020-11-26T11:01:30.148798Z",
     "iopub.status.busy": "2020-11-26T11:01:30.147284Z",
     "iopub.status.idle": "2020-11-26T11:01:30.184325Z",
     "shell.execute_reply": "2020-11-26T11:01:30.183503Z"
    }
   },
   "outputs": [
    {
     "name": "stdout",
     "output_type": "stream",
     "text": [
      "{'fields': [{'name': 'name', 'type': 'string'},\n",
      "            {'name': 'germany', 'type': 'integer'},\n",
      "            {'name': 'france', 'type': 'integer'},\n",
      "            {'name': 'spain', 'type': 'integer'}]}\n",
      "[Row([('name', 'population'), ('germany', 83), ('france', 66), ('spain', 47)])]\n"
     ]
    }
   ],
   "source": [
    "from pprint import pprint\n",
    "from frictionless import Package, Resource, transform, steps\n",
    "\n",
    "source = Resource(path=\"data/transform.csv\")\n",
    "target = transform(\n",
    "    source,\n",
    "    steps=[\n",
    "        steps.table_normalize(),\n",
    "        steps.table_transpose(),\n",
    "    ]\n",
    ")\n",
    "pprint(target.schema)\n",
    "pprint(target.read_rows())"
   ]
  },
  {
   "cell_type": "markdown",
   "metadata": {},
   "source": [
    "### Validate Table"
   ]
  },
  {
   "cell_type": "code",
   "execution_count": 23,
   "metadata": {
    "execution": {
     "iopub.execute_input": "2020-11-26T11:01:30.204375Z",
     "iopub.status.busy": "2020-11-26T11:01:30.194343Z",
     "iopub.status.idle": "2020-11-26T11:01:30.217472Z",
     "shell.execute_reply": "2020-11-26T11:01:30.218413Z"
    }
   },
   "outputs": [
    {
     "name": "stdout",
     "output_type": "stream",
     "text": [
      "{'fields': [{'name': 'id', 'type': 'integer'},\n",
      "            {'name': 'name', 'type': 'string'},\n",
      "            {'name': 'population', 'type': 'integer'}]}\n"
     ]
    },
    {
     "name": "stdout",
     "output_type": "stream",
     "text": [
      "FrictionlessException('[step-error] The transfrom step has an error: \"table_validate\" raises \"[type-error] The cell \"bad\" in row at position \"2\" and field \"population\" at position \"3\" has incompatible type: type is \"integer/default\"\"')\n"
     ]
    }
   ],
   "source": [
    "from pprint import pprint\n",
    "from frictionless import Package, Resource, transform, steps\n",
    "\n",
    "source = Resource(path=\"data/transform.csv\")\n",
    "target = transform(\n",
    "    source,\n",
    "    steps=[\n",
    "        steps.cell_set(field_name=\"population\", value=\"bad\"),\n",
    "        steps.table_validate(),\n",
    "    ]\n",
    ")\n",
    "pprint(target.schema)\n",
    "try:\n",
    "  pprint(target.read_rows())\n",
    "except Exception as exception:\n",
    "  pprint(exception)"
   ]
  },
  {
   "cell_type": "markdown",
   "metadata": {},
   "source": [
    "### Write Table"
   ]
  },
  {
   "cell_type": "code",
   "execution_count": 24,
   "metadata": {
    "execution": {
     "iopub.execute_input": "2020-11-26T11:01:30.228968Z",
     "iopub.status.busy": "2020-11-26T11:01:30.227293Z",
     "iopub.status.idle": "2020-11-26T11:01:30.246164Z",
     "shell.execute_reply": "2020-11-26T11:01:30.244909Z"
    }
   },
   "outputs": [],
   "source": [
    "from pprint import pprint\n",
    "from frictionless import Package, Resource, transform, steps\n",
    "\n",
    "source = Resource(path=\"data/transform.csv\")\n",
    "target = transform(\n",
    "    source,\n",
    "    steps=[\n",
    "        steps.table_write(path='tmp/transform.json'),\n",
    "    ]\n",
    ")"
   ]
  },
  {
   "cell_type": "code",
   "execution_count": 25,
   "metadata": {
    "execution": {
     "iopub.execute_input": "2020-11-26T11:01:30.254362Z",
     "iopub.status.busy": "2020-11-26T11:01:30.251151Z",
     "iopub.status.idle": "2020-11-26T11:01:30.374975Z",
     "shell.execute_reply": "2020-11-26T11:01:30.375772Z"
    }
   },
   "outputs": [
    {
     "name": "stdout",
     "output_type": "stream",
     "text": [
      "[\r\n",
      "  [\r\n",
      "    \"id\",\r\n",
      "    \"name\",\r\n",
      "    \"population\"\r\n",
      "  ],\r\n",
      "  [\r\n",
      "    1,\r\n",
      "    \"germany\",\r\n",
      "    83\r\n",
      "  ],\r\n",
      "  [\r\n",
      "    2,\r\n",
      "    \"france\",\r\n",
      "    66\r\n",
      "  ],\r\n",
      "  [\r\n",
      "    3,\r\n",
      "    \"spain\",\r\n",
      "    47\r\n",
      "  ]\r\n",
      "]"
     ]
    }
   ],
   "source": [
    "! cat tmp/transform.json"
   ]
  },
  {
   "cell_type": "markdown",
   "metadata": {},
   "source": [
    "## Field Steps\n",
    "\n",
    "### Add Field"
   ]
  },
  {
   "cell_type": "code",
   "execution_count": 26,
   "metadata": {
    "execution": {
     "iopub.execute_input": "2020-11-26T11:01:30.397244Z",
     "iopub.status.busy": "2020-11-26T11:01:30.390717Z",
     "iopub.status.idle": "2020-11-26T11:01:30.406604Z",
     "shell.execute_reply": "2020-11-26T11:01:30.407134Z"
    }
   },
   "outputs": [
    {
     "name": "stdout",
     "output_type": "stream",
     "text": [
      "{'fields': [{'name': 'id', 'type': 'integer'},\n",
      "            {'name': 'name', 'type': 'string'},\n",
      "            {'name': 'population', 'type': 'integer'},\n",
      "            {'name': 'note', 'type': 'string'}]}\n",
      "[Row([('id', 1), ('name', 'germany'), ('population', 83), ('note', 'eu')]),\n",
      " Row([('id', 2), ('name', 'france'), ('population', 66), ('note', 'eu')]),\n",
      " Row([('id', 3), ('name', 'spain'), ('population', 47), ('note', 'eu')])]\n"
     ]
    }
   ],
   "source": [
    "from pprint import pprint\n",
    "from frictionless import Package, Resource, transform, steps\n",
    "\n",
    "source = Resource(path=\"data/transform.csv\")\n",
    "target = transform(\n",
    "    source,\n",
    "    steps=[\n",
    "        steps.field_add(name=\"note\", type=\"string\", value=\"eu\"),\n",
    "    ]\n",
    ")\n",
    "pprint(target.schema)\n",
    "pprint(target.read_rows())"
   ]
  },
  {
   "cell_type": "markdown",
   "metadata": {},
   "source": [
    "### Filter Fields"
   ]
  },
  {
   "cell_type": "code",
   "execution_count": 27,
   "metadata": {
    "execution": {
     "iopub.execute_input": "2020-11-26T11:01:30.427654Z",
     "iopub.status.busy": "2020-11-26T11:01:30.415885Z",
     "iopub.status.idle": "2020-11-26T11:01:30.437351Z",
     "shell.execute_reply": "2020-11-26T11:01:30.437975Z"
    }
   },
   "outputs": [
    {
     "name": "stdout",
     "output_type": "stream",
     "text": [
      "{'fields': [{'name': 'id', 'type': 'integer'},\n",
      "            {'name': 'name', 'type': 'string'}]}\n"
     ]
    },
    {
     "name": "stdout",
     "output_type": "stream",
     "text": [
      "[Row([('id', 1), ('name', 'germany')]),\n",
      " Row([('id', 2), ('name', 'france')]),\n",
      " Row([('id', 3), ('name', 'spain')])]\n"
     ]
    }
   ],
   "source": [
    "from pprint import pprint\n",
    "from frictionless import Package, Resource, transform, steps\n",
    "\n",
    "source = Resource(path=\"data/transform.csv\")\n",
    "target = transform(\n",
    "    source,\n",
    "    steps=[\n",
    "        steps.field_filter(names=[\"id\", \"name\"]),\n",
    "    ]\n",
    ")\n",
    "pprint(target.schema)\n",
    "pprint(target.read_rows())"
   ]
  },
  {
   "cell_type": "markdown",
   "metadata": {},
   "source": [
    "### Move Field"
   ]
  },
  {
   "cell_type": "code",
   "execution_count": 28,
   "metadata": {
    "execution": {
     "iopub.execute_input": "2020-11-26T11:01:30.457765Z",
     "iopub.status.busy": "2020-11-26T11:01:30.456999Z",
     "iopub.status.idle": "2020-11-26T11:01:30.466555Z",
     "shell.execute_reply": "2020-11-26T11:01:30.467573Z"
    }
   },
   "outputs": [
    {
     "name": "stdout",
     "output_type": "stream",
     "text": [
      "{'fields': [{'name': 'name', 'type': 'string'},\n",
      "            {'name': 'population', 'type': 'integer'},\n",
      "            {'name': 'id', 'type': 'integer'}]}\n",
      "[Row([('name', 'germany'), ('population', 83), ('id', 1)]),\n",
      " Row([('name', 'france'), ('population', 66), ('id', 2)]),\n",
      " Row([('name', 'spain'), ('population', 47), ('id', 3)])]\n"
     ]
    }
   ],
   "source": [
    "from pprint import pprint\n",
    "from frictionless import Package, Resource, transform, steps\n",
    "\n",
    "source = Resource(path=\"data/transform.csv\")\n",
    "target = transform(\n",
    "    source,\n",
    "    steps=[\n",
    "        steps.field_move(name=\"id\", position=3),\n",
    "    ]\n",
    ")\n",
    "pprint(target.schema)\n",
    "pprint(target.read_rows())"
   ]
  },
  {
   "cell_type": "markdown",
   "metadata": {},
   "source": [
    "### Remove Field"
   ]
  },
  {
   "cell_type": "code",
   "execution_count": 29,
   "metadata": {
    "execution": {
     "iopub.execute_input": "2020-11-26T11:01:30.476210Z",
     "iopub.status.busy": "2020-11-26T11:01:30.473798Z",
     "iopub.status.idle": "2020-11-26T11:01:30.494302Z",
     "shell.execute_reply": "2020-11-26T11:01:30.495339Z"
    }
   },
   "outputs": [
    {
     "name": "stdout",
     "output_type": "stream",
     "text": [
      "{'fields': [{'name': 'name', 'type': 'string'},\n",
      "            {'name': 'population', 'type': 'integer'}]}\n",
      "[Row([('name', 'germany'), ('population', 83)]),\n",
      " Row([('name', 'france'), ('population', 66)]),\n",
      " Row([('name', 'spain'), ('population', 47)])]\n"
     ]
    }
   ],
   "source": [
    "from pprint import pprint\n",
    "from frictionless import Package, Resource, transform, steps\n",
    "\n",
    "source = Resource(path=\"data/transform.csv\")\n",
    "target = transform(\n",
    "    source,\n",
    "    steps=[\n",
    "        steps.field_remove(names=[\"id\"]),\n",
    "    ]\n",
    ")\n",
    "pprint(target.schema)\n",
    "pprint(target.read_rows())"
   ]
  },
  {
   "cell_type": "markdown",
   "metadata": {},
   "source": [
    "### Split Field"
   ]
  },
  {
   "cell_type": "code",
   "execution_count": 30,
   "metadata": {
    "execution": {
     "iopub.execute_input": "2020-11-26T11:01:30.509382Z",
     "iopub.status.busy": "2020-11-26T11:01:30.508370Z",
     "iopub.status.idle": "2020-11-26T11:01:30.533548Z",
     "shell.execute_reply": "2020-11-26T11:01:30.534555Z"
    }
   },
   "outputs": [
    {
     "name": "stdout",
     "output_type": "stream",
     "text": [
      "{'fields': [{'name': 'id', 'type': 'integer'},\n",
      "            {'name': 'population', 'type': 'integer'},\n",
      "            {'name': 'name1', 'type': 'string'},\n",
      "            {'name': 'name2', 'type': 'string'}]}\n",
      "[Row([('id', 1), ('population', 83), ('name1', 'germ'), ('name2', 'ny')]),\n",
      " Row([('id', 2), ('population', 66), ('name1', 'fr'), ('name2', 'nce')]),\n",
      " Row([('id', 3), ('population', 47), ('name1', 'sp'), ('name2', 'in')])]\n"
     ]
    }
   ],
   "source": [
    "from pprint import pprint\n",
    "from frictionless import Package, Resource, transform, steps\n",
    "\n",
    "source = Resource(path=\"data/transform.csv\")\n",
    "target = transform(\n",
    "    source,\n",
    "    steps=[\n",
    "        steps.field_split(name=\"name\", to_names=[\"name1\", \"name2\"], pattern=\"a\"),\n",
    "    ]\n",
    ")\n",
    "pprint(target.schema)\n",
    "pprint(target.read_rows())"
   ]
  },
  {
   "cell_type": "markdown",
   "metadata": {},
   "source": [
    "### Unpack Field"
   ]
  },
  {
   "cell_type": "code",
   "execution_count": 31,
   "metadata": {
    "execution": {
     "iopub.execute_input": "2020-11-26T11:01:30.555869Z",
     "iopub.status.busy": "2020-11-26T11:01:30.543458Z",
     "iopub.status.idle": "2020-11-26T11:01:30.566920Z",
     "shell.execute_reply": "2020-11-26T11:01:30.567951Z"
    }
   },
   "outputs": [
    {
     "name": "stdout",
     "output_type": "stream",
     "text": [
      "{'fields': [{'name': 'name', 'type': 'string'},\n",
      "            {'name': 'population', 'type': 'integer'},\n",
      "            {'name': 'id2'},\n",
      "            {'name': 'id3'}]}\n",
      "[Row([('name', 'germany'), ('population', 83), ('id2', 1), ('id3', 1)]),\n",
      " Row([('name', 'france'), ('population', 66), ('id2', 1), ('id3', 1)]),\n",
      " Row([('name', 'spain'), ('population', 47), ('id2', 1), ('id3', 1)])]\n"
     ]
    }
   ],
   "source": [
    "from pprint import pprint\n",
    "from frictionless import Package, Resource, transform, steps\n",
    "\n",
    "source = Resource(path=\"data/transform.csv\")\n",
    "target = transform(\n",
    "    source,\n",
    "    steps=[\n",
    "        steps.field_update(name=\"id\", type=\"array\", value=[1, 1]),\n",
    "        steps.field_unpack(name=\"id\", to_names=[\"id2\", \"id3\"]),\n",
    "    ]\n",
    ")\n",
    "pprint(target.schema)\n",
    "pprint(target.read_rows())"
   ]
  },
  {
   "cell_type": "markdown",
   "metadata": {},
   "source": [
    "### Update Field"
   ]
  },
  {
   "cell_type": "code",
   "execution_count": 32,
   "metadata": {
    "execution": {
     "iopub.execute_input": "2020-11-26T11:01:30.589823Z",
     "iopub.status.busy": "2020-11-26T11:01:30.586434Z",
     "iopub.status.idle": "2020-11-26T11:01:30.597573Z",
     "shell.execute_reply": "2020-11-26T11:01:30.598752Z"
    }
   },
   "outputs": [
    {
     "name": "stdout",
     "output_type": "stream",
     "text": [
      "{'fields': [{'name': 'id', 'type': 'string'},\n",
      "            {'name': 'name', 'type': 'string'},\n",
      "            {'name': 'population', 'type': 'integer'}]}\n",
      "[Row([('id', '1'), ('name', 'germany'), ('population', 83)]),\n",
      " Row([('id', '2'), ('name', 'france'), ('population', 66)]),\n",
      " Row([('id', '3'), ('name', 'spain'), ('population', 47)])]\n"
     ]
    }
   ],
   "source": [
    "from pprint import pprint\n",
    "from frictionless import Package, Resource, transform, steps\n",
    "\n",
    "source = Resource(path=\"data/transform.csv\")\n",
    "target = transform(\n",
    "    source,\n",
    "    steps=[\n",
    "        steps.field_update(name=\"id\", type=\"string\", value=str),\n",
    "    ]\n",
    ")\n",
    "pprint(target.schema)\n",
    "pprint(target.read_rows())"
   ]
  },
  {
   "cell_type": "markdown",
   "metadata": {},
   "source": [
    "## Row Steps\n",
    "\n",
    "### Filter Rows"
   ]
  },
  {
   "cell_type": "code",
   "execution_count": 33,
   "metadata": {
    "execution": {
     "iopub.execute_input": "2020-11-26T11:01:30.616842Z",
     "iopub.status.busy": "2020-11-26T11:01:30.608460Z",
     "iopub.status.idle": "2020-11-26T11:01:30.631077Z",
     "shell.execute_reply": "2020-11-26T11:01:30.629751Z"
    }
   },
   "outputs": [
    {
     "name": "stdout",
     "output_type": "stream",
     "text": [
      "{'fields': [{'name': 'id', 'type': 'integer'},\n",
      "            {'name': 'name', 'type': 'string'},\n",
      "            {'name': 'population', 'type': 'integer'}]}\n",
      "[Row([('id', 2), ('name', 'france'), ('population', 66)]),\n",
      " Row([('id', 3), ('name', 'spain'), ('population', 47)])]\n"
     ]
    }
   ],
   "source": [
    "from pprint import pprint\n",
    "from frictionless import Package, Resource, transform, steps\n",
    "\n",
    "source = Resource(path=\"data/transform.csv\")\n",
    "target = transform(\n",
    "    source,\n",
    "    steps=[\n",
    "        steps.table_normalize(),\n",
    "        steps.row_filter(predicat=\"<formula>id > 1\"),\n",
    "    ]\n",
    ")\n",
    "pprint(target.schema)\n",
    "pprint(target.read_rows())"
   ]
  },
  {
   "cell_type": "markdown",
   "metadata": {},
   "source": [
    "### Search Rows"
   ]
  },
  {
   "cell_type": "code",
   "execution_count": 34,
   "metadata": {
    "execution": {
     "iopub.execute_input": "2020-11-26T11:01:30.650915Z",
     "iopub.status.busy": "2020-11-26T11:01:30.643347Z",
     "iopub.status.idle": "2020-11-26T11:01:30.662796Z",
     "shell.execute_reply": "2020-11-26T11:01:30.663733Z"
    }
   },
   "outputs": [
    {
     "name": "stdout",
     "output_type": "stream",
     "text": [
      "{'fields': [{'name': 'id', 'type': 'integer'},\n",
      "            {'name': 'name', 'type': 'string'},\n",
      "            {'name': 'population', 'type': 'integer'}]}\n"
     ]
    },
    {
     "name": "stdout",
     "output_type": "stream",
     "text": [
      "[Row([('id', 2), ('name', 'france'), ('population', 66)])]\n"
     ]
    }
   ],
   "source": [
    "from pprint import pprint\n",
    "from frictionless import Package, Resource, transform, steps\n",
    "\n",
    "source = Resource(path=\"data/transform.csv\")\n",
    "target = transform(\n",
    "    source,\n",
    "    steps=[\n",
    "        steps.row_search(regex=r\"^f.*\"),\n",
    "    ]\n",
    ")\n",
    "pprint(target.schema)\n",
    "pprint(target.read_rows())"
   ]
  },
  {
   "cell_type": "markdown",
   "metadata": {},
   "source": [
    "### Slice Rows"
   ]
  },
  {
   "cell_type": "code",
   "execution_count": 35,
   "metadata": {
    "execution": {
     "iopub.execute_input": "2020-11-26T11:01:30.676644Z",
     "iopub.status.busy": "2020-11-26T11:01:30.675371Z",
     "iopub.status.idle": "2020-11-26T11:01:30.701661Z",
     "shell.execute_reply": "2020-11-26T11:01:30.702310Z"
    }
   },
   "outputs": [
    {
     "name": "stdout",
     "output_type": "stream",
     "text": [
      "{"
     ]
    },
    {
     "name": "stdout",
     "output_type": "stream",
     "text": [
      "'fields': [{'name': 'id', 'type': 'integer'},\n",
      "            {'name': 'name', 'type': 'string'},\n",
      "            {'name': 'population', 'type': 'integer'}]}\n",
      "[Row([('id', 1), ('name', 'germany'), ('population', 83)]),\n",
      " Row([('id', 2), ('name', 'france'), ('population', 66)])]\n"
     ]
    }
   ],
   "source": [
    "from pprint import pprint\n",
    "from frictionless import Package, Resource, transform, steps\n",
    "\n",
    "source = Resource(path=\"data/transform.csv\")\n",
    "target = transform(\n",
    "    source,\n",
    "    steps=[\n",
    "        steps.row_slice(head=2),\n",
    "    ]\n",
    ")\n",
    "pprint(target.schema)\n",
    "pprint(target.read_rows())"
   ]
  },
  {
   "cell_type": "markdown",
   "metadata": {},
   "source": [
    "### Sort Rows"
   ]
  },
  {
   "cell_type": "code",
   "execution_count": 36,
   "metadata": {
    "execution": {
     "iopub.execute_input": "2020-11-26T11:01:30.711224Z",
     "iopub.status.busy": "2020-11-26T11:01:30.710388Z",
     "iopub.status.idle": "2020-11-26T11:01:30.727776Z",
     "shell.execute_reply": "2020-11-26T11:01:30.728861Z"
    }
   },
   "outputs": [
    {
     "name": "stdout",
     "output_type": "stream",
     "text": [
      "{'fields': [{'name': 'id', 'type': 'integer'},\n",
      "            {'name': 'name', 'type': 'string'},\n",
      "            {'name': 'population', 'type': 'integer'}]}\n"
     ]
    },
    {
     "name": "stdout",
     "output_type": "stream",
     "text": [
      "[Row([('id', 2), ('name', 'france'), ('population', 66)]),\n",
      " Row([('id', 1), ('name', 'germany'), ('population', 83)]),\n",
      " Row([('id', 3), ('name', 'spain'), ('population', 47)])]\n"
     ]
    }
   ],
   "source": [
    "from pprint import pprint\n",
    "from frictionless import Package, Resource, transform, steps\n",
    "\n",
    "source = Resource(path=\"data/transform.csv\")\n",
    "target = transform(\n",
    "    source,\n",
    "    steps=[\n",
    "        steps.row_sort(field_names=[\"name\"]),\n",
    "    ]\n",
    ")\n",
    "pprint(target.schema)\n",
    "pprint(target.read_rows())"
   ]
  },
  {
   "cell_type": "markdown",
   "metadata": {},
   "source": [
    "### Split Rows"
   ]
  },
  {
   "cell_type": "code",
   "execution_count": 37,
   "metadata": {
    "execution": {
     "iopub.execute_input": "2020-11-26T11:01:30.739257Z",
     "iopub.status.busy": "2020-11-26T11:01:30.738536Z",
     "iopub.status.idle": "2020-11-26T11:01:30.755260Z",
     "shell.execute_reply": "2020-11-26T11:01:30.755767Z"
    }
   },
   "outputs": [
    {
     "name": "stdout",
     "output_type": "stream",
     "text": [
      "{'fields': [{'name': 'id', 'type': 'integer'},\n",
      "            {'name': 'name', 'type': 'string'},\n",
      "            {'name': 'population', 'type': 'integer'}]}\n",
      "[Row([('id', 1), ('name', 'germ'), ('population', 83)]),\n",
      " Row([('id', 1), ('name', 'ny'), ('population', 83)]),\n",
      " Row([('id', 2), ('name', 'fr'), ('population', 66)]),\n",
      " Row([('id', 2), ('name', 'nce'), ('population', 66)]),\n",
      " Row([('id', 3), ('name', 'sp'), ('population', 47)]),\n",
      " Row([('id', 3), ('name', 'in'), ('population', 47)])]\n"
     ]
    }
   ],
   "source": [
    "from pprint import pprint\n",
    "from frictionless import Package, Resource, transform, steps\n",
    "\n",
    "source = Resource(path=\"data/transform.csv\")\n",
    "target = transform(\n",
    "    source,\n",
    "    steps=[\n",
    "        steps.row_split(field_name=\"name\", pattern=\"a\"),\n",
    "    ]\n",
    ")\n",
    "pprint(target.schema)\n",
    "pprint(target.read_rows())"
   ]
  },
  {
   "cell_type": "markdown",
   "metadata": {},
   "source": [
    "### Subset Rows"
   ]
  },
  {
   "cell_type": "code",
   "execution_count": 38,
   "metadata": {
    "execution": {
     "iopub.execute_input": "2020-11-26T11:01:30.774484Z",
     "iopub.status.busy": "2020-11-26T11:01:30.773105Z",
     "iopub.status.idle": "2020-11-26T11:01:30.783917Z",
     "shell.execute_reply": "2020-11-26T11:01:30.784919Z"
    }
   },
   "outputs": [
    {
     "name": "stdout",
     "output_type": "stream",
     "text": [
      "{'fields': [{'name': 'id', 'type': 'integer'},\n",
      "            {'name': 'name', 'type': 'string'},\n",
      "            {'name': 'population', 'type': 'integer'}]}\n",
      "[Row([('id', 1), ('name', 'germany'), ('population', 83)]),\n",
      " Row([('id', 1), ('name', 'france'), ('population', 66)]),\n",
      " Row([('id', 1), ('name', 'spain'), ('population', 47)])]\n"
     ]
    }
   ],
   "source": [
    "from pprint import pprint\n",
    "from frictionless import Package, Resource, transform, steps\n",
    "\n",
    "source = Resource(path=\"data/transform.csv\")\n",
    "target = transform(\n",
    "    source,\n",
    "    steps=[\n",
    "        steps.field_update(name=\"id\", value=1),\n",
    "        steps.row_subset(subset=\"conflicts\", field_name=\"id\"),\n",
    "    ]\n",
    ")\n",
    "pprint(target.schema)\n",
    "pprint(target.read_rows())"
   ]
  },
  {
   "cell_type": "markdown",
   "metadata": {},
   "source": [
    "### Ungroup Rows"
   ]
  },
  {
   "cell_type": "code",
   "execution_count": 39,
   "metadata": {
    "execution": {
     "iopub.execute_input": "2020-11-26T11:01:30.803540Z",
     "iopub.status.busy": "2020-11-26T11:01:30.801418Z",
     "iopub.status.idle": "2020-11-26T11:01:30.815431Z",
     "shell.execute_reply": "2020-11-26T11:01:30.816456Z"
    }
   },
   "outputs": [
    {
     "name": "stdout",
     "output_type": "stream",
     "text": [
      "{'fields': [{'name': 'id', 'type': 'integer'},\n",
      "            {'name': 'name', 'type': 'string'},\n",
      "            {'name': 'population', 'type': 'integer'},\n",
      "            {'name': 'year', 'type': 'integer'}]}\n",
      "[Row([('id', 3), ('name', 'france'), ('population', 66), ('year', 2020)]),\n",
      " Row([('id', 1), ('name', 'germany'), ('population', 83), ('year', 2020)]),\n",
      " Row([('id', 5), ('name', 'spain'), ('population', 47), ('year', 2020)])]\n"
     ]
    }
   ],
   "source": [
    "from pprint import pprint\n",
    "from frictionless import Package, Resource, transform, steps\n",
    "\n",
    "source = Resource(path=\"data/transform-groups.csv\")\n",
    "target = transform(\n",
    "    source,\n",
    "    steps=[\n",
    "        steps.row_ungroup(group_name=\"name\", selection=\"first\"),\n",
    "    ]\n",
    ")\n",
    "pprint(target.schema)\n",
    "pprint(target.read_rows())"
   ]
  },
  {
   "cell_type": "markdown",
   "metadata": {},
   "source": [
    "## Cell Steps\n",
    "\n",
    "### Convert Cells"
   ]
  },
  {
   "cell_type": "code",
   "execution_count": 40,
   "metadata": {
    "execution": {
     "iopub.execute_input": "2020-11-26T11:01:30.835234Z",
     "iopub.status.busy": "2020-11-26T11:01:30.825457Z",
     "iopub.status.idle": "2020-11-26T11:01:30.845328Z",
     "shell.execute_reply": "2020-11-26T11:01:30.846397Z"
    }
   },
   "outputs": [
    {
     "name": "stdout",
     "output_type": "stream",
     "text": [
      "{'fields': [{'name': 'id', 'type': 'integer'},\n",
      "            {'name': 'name', 'type': 'string'},\n",
      "            {'name': 'population', 'type': 'integer'}]}\n",
      "[Row([('id', 1), ('name', 'n/a'), ('population', 83)]),\n",
      " Row([('id', 2), ('name', 'n/a'), ('population', 66)]),\n",
      " Row([('id', 3), ('name', 'n/a'), ('population', 47)])]\n"
     ]
    }
   ],
   "source": [
    "from pprint import pprint\n",
    "from frictionless import Package, Resource, transform, steps\n",
    "\n",
    "source = Resource(path=\"data/transform.csv\")\n",
    "target = transform(\n",
    "    source,\n",
    "    steps=[\n",
    "        steps.cell_convert(value=\"n/a\", field_name=\"name\"),\n",
    "    ]\n",
    ")\n",
    "pprint(target.schema)\n",
    "pprint(target.read_rows())"
   ]
  },
  {
   "cell_type": "markdown",
   "metadata": {},
   "source": [
    "### Fill Cells"
   ]
  },
  {
   "cell_type": "code",
   "execution_count": 41,
   "metadata": {
    "execution": {
     "iopub.execute_input": "2020-11-26T11:01:30.868719Z",
     "iopub.status.busy": "2020-11-26T11:01:30.866621Z",
     "iopub.status.idle": "2020-11-26T11:01:30.876196Z",
     "shell.execute_reply": "2020-11-26T11:01:30.877204Z"
    }
   },
   "outputs": [
    {
     "name": "stdout",
     "output_type": "stream",
     "text": [
      "{'fields': [{'name': 'id', 'type': 'integer'},\n",
      "            {'name': 'name', 'type': 'string'},\n",
      "            {'name': 'population', 'type': 'integer'}]}\n",
      "["
     ]
    },
    {
     "name": "stdout",
     "output_type": "stream",
     "text": [
      "Row([('id', 1), ('name', 'germany'), ('population', 83)]),\n",
      " Row([('id', 2), ('name', 'FRANCE'), ('population', 66)]),\n",
      " Row([('id', 3), ('name', 'spain'), ('population', 47)])]\n"
     ]
    }
   ],
   "source": [
    "from pprint import pprint\n",
    "from frictionless import Package, Resource, transform, steps\n",
    "\n",
    "source = Resource(path=\"data/transform.csv\")\n",
    "target = transform(\n",
    "    source,\n",
    "    steps=[\n",
    "        steps.cell_replace(pattern=\"france\", replace=None),\n",
    "        steps.cell_fill(field_name=\"name\", value=\"FRANCE\"),\n",
    "    ]\n",
    ")\n",
    "pprint(target.schema)\n",
    "pprint(target.read_rows())"
   ]
  },
  {
   "cell_type": "markdown",
   "metadata": {},
   "source": [
    "### Format Cells"
   ]
  },
  {
   "cell_type": "code",
   "execution_count": 42,
   "metadata": {
    "execution": {
     "iopub.execute_input": "2020-11-26T11:01:30.890698Z",
     "iopub.status.busy": "2020-11-26T11:01:30.889782Z",
     "iopub.status.idle": "2020-11-26T11:01:30.911446Z",
     "shell.execute_reply": "2020-11-26T11:01:30.912334Z"
    }
   },
   "outputs": [
    {
     "name": "stdout",
     "output_type": "stream",
     "text": [
      "{'fields': [{'name': 'id', 'type': 'integer'},\n",
      "            {'name': 'name', 'type': 'string'},\n",
      "            {'name': 'population', 'type': 'integer'}]}\n",
      "[Row([('id', 1), ('name', 'Prefix: germany'), ('population', 83)]),\n",
      " Row([('id', 2), ('name', 'Prefix: france'), ('population', 66)]),\n",
      " Row([('id', 3), ('name', 'Prefix: spain'), ('population', 47)])]\n"
     ]
    }
   ],
   "source": [
    "from pprint import pprint\n",
    "from frictionless import Package, Resource, transform, steps\n",
    "\n",
    "source = Resource(path=\"data/transform.csv\")\n",
    "target = transform(\n",
    "    source,\n",
    "    steps=[\n",
    "        steps.cell_format(template=\"Prefix: {0}\", field_name=\"name\"),\n",
    "    ]\n",
    ")\n",
    "pprint(target.schema)\n",
    "pprint(target.read_rows())"
   ]
  },
  {
   "cell_type": "markdown",
   "metadata": {},
   "source": [
    "### Interpolate Cells"
   ]
  },
  {
   "cell_type": "code",
   "execution_count": 43,
   "metadata": {
    "execution": {
     "iopub.execute_input": "2020-11-26T11:01:30.922928Z",
     "iopub.status.busy": "2020-11-26T11:01:30.920142Z",
     "iopub.status.idle": "2020-11-26T11:01:30.945377Z",
     "shell.execute_reply": "2020-11-26T11:01:30.946557Z"
    }
   },
   "outputs": [
    {
     "name": "stdout",
     "output_type": "stream",
     "text": [
      "{'fields': [{'name': 'id', 'type': 'integer'},\n",
      "            {'name': 'name', 'type': 'string'},\n",
      "            {'name': 'population', 'type': 'integer'}]}\n",
      "[Row([('id', 1), ('name', 'Prefix: germany'), ('population', 83)]),\n",
      " Row([('id', 2), ('name', 'Prefix: france'), ('population', 66)]),\n",
      " Row([('id', 3), ('name', 'Prefix: spain'), ('population', 47)])]\n"
     ]
    }
   ],
   "source": [
    "from pprint import pprint\n",
    "from frictionless import Package, Resource, transform, steps\n",
    "\n",
    "source = Resource(path=\"data/transform.csv\")\n",
    "target = transform(\n",
    "    source,\n",
    "    steps=[\n",
    "        steps.cell_interpolate(template=\"Prefix: %s\", field_name=\"name\"),\n",
    "    ]\n",
    ")\n",
    "pprint(target.schema)\n",
    "pprint(target.read_rows())"
   ]
  },
  {
   "cell_type": "markdown",
   "metadata": {},
   "source": [
    "### Replace Cells"
   ]
  },
  {
   "cell_type": "code",
   "execution_count": 44,
   "metadata": {
    "execution": {
     "iopub.execute_input": "2020-11-26T11:01:30.967257Z",
     "iopub.status.busy": "2020-11-26T11:01:30.960897Z",
     "iopub.status.idle": "2020-11-26T11:01:30.977787Z",
     "shell.execute_reply": "2020-11-26T11:01:30.978910Z"
    }
   },
   "outputs": [
    {
     "name": "stdout",
     "output_type": "stream",
     "text": [
      "{'fields': [{'name': 'id', 'type': 'integer'},\n",
      "            {'name': 'name', 'type': 'string'},\n",
      "            {'name': 'population', 'type': 'integer'}]}\n",
      "[Row([('id', 1), ('name', 'germany'), ('population', 83)]),\n",
      " Row([('id', 2), ('name', 'FRANCE'), ('population', 66)]),\n",
      " Row([('id', 3), ('name', 'spain'), ('population', 47)])]\n"
     ]
    }
   ],
   "source": [
    "from pprint import pprint\n",
    "from frictionless import Package, Resource, transform, steps\n",
    "\n",
    "source = Resource(path=\"data/transform.csv\")\n",
    "target = transform(\n",
    "    source,\n",
    "    steps=[\n",
    "        steps.cell_replace(pattern=\"france\", replace=\"FRANCE\"),\n",
    "    ]\n",
    ")\n",
    "pprint(target.schema)\n",
    "pprint(target.read_rows())"
   ]
  },
  {
   "cell_type": "markdown",
   "metadata": {},
   "source": [
    "### Set Cells"
   ]
  },
  {
   "cell_type": "code",
   "execution_count": 45,
   "metadata": {
    "execution": {
     "iopub.execute_input": "2020-11-26T11:01:30.997440Z",
     "iopub.status.busy": "2020-11-26T11:01:30.995635Z",
     "iopub.status.idle": "2020-11-26T11:01:31.007334Z",
     "shell.execute_reply": "2020-11-26T11:01:31.008112Z"
    }
   },
   "outputs": [
    {
     "name": "stdout",
     "output_type": "stream",
     "text": [
      "{'fields': [{'name': 'id', 'type': 'integer'},\n",
      "            {'name': 'name', 'type': 'string'},\n",
      "            {'name': 'population', 'type': 'integer'}]}\n",
      "[Row([('id', 1), ('name', 'germany'), ('population', 100)]),\n",
      " Row([('id', 2), ('name', 'france'), ('population', 100)]),\n",
      " Row([('id', 3), ('name', 'spain'), ('population', 100)])]\n"
     ]
    }
   ],
   "source": [
    "from pprint import pprint\n",
    "from frictionless import Package, Resource, transform, steps\n",
    "\n",
    "source = Resource(path=\"data/transform.csv\")\n",
    "target = transform(\n",
    "    source,\n",
    "    steps=[\n",
    "          steps.cell_set(field_name=\"population\", value=100),\n",
    "    ]\n",
    ")\n",
    "pprint(target.schema)\n",
    "pprint(target.read_rows())"
   ]
  },
  {
   "cell_type": "markdown",
   "metadata": {},
   "source": [
    "## Custom Steps\n",
    "\n",
    "Here is an example of a custom step written as a python function:"
   ]
  },
  {
   "cell_type": "code",
   "execution_count": 46,
   "metadata": {
    "execution": {
     "iopub.execute_input": "2020-11-26T11:01:31.017506Z",
     "iopub.status.busy": "2020-11-26T11:01:31.015645Z",
     "iopub.status.idle": "2020-11-26T11:01:31.036615Z",
     "shell.execute_reply": "2020-11-26T11:01:31.037502Z"
    }
   },
   "outputs": [
    {
     "name": "stdout",
     "output_type": "stream",
     "text": [
      "{'fields': [{'name': 'name', 'type': 'string'},\n",
      "            {'name': 'population', 'type': 'integer'}]}\n",
      "[Row([('name', 'germany'), ('population', 83)]),\n",
      " Row([('name', 'france'), ('population', 66)]),\n",
      " Row([('name', 'spain'), ('population', 47)])]\n"
     ]
    }
   ],
   "source": [
    "from pprint import pprint\n",
    "from frictionless import Package, Resource, transform, steps\n",
    "\n",
    "def step(source, target):\n",
    "\n",
    "    # Data\n",
    "    def data():\n",
    "        for row in source.read_row_stream():\n",
    "            del row[\"id\"]\n",
    "            yield row\n",
    "\n",
    "    # Meta\n",
    "    target.data = data\n",
    "    target.schema.remove_field(\"id\")\n",
    "\n",
    "\n",
    "source = Resource(path=\"data/transform.csv\")\n",
    "target = transform(source, steps=[step])\n",
    "pprint(target.schema)\n",
    "pprint(target.read_rows())"
   ]
  },
  {
   "cell_type": "markdown",
   "metadata": {},
   "source": [
    "## Transform Utils\n",
    "\n",
    "> Transform Utils is under construction\n",
    "\n",
    "## Working with PETL\n",
    "\n",
    "In some cases, it's better to use a lower-level API to achieve some goal. A resource can be exported as a PETL table. For more information please visit PETL's [documentation portal](https://petl.readthedocs.io/en/stable/)."
   ]
  },
  {
   "cell_type": "code",
   "execution_count": 47,
   "metadata": {
    "execution": {
     "iopub.execute_input": "2020-11-26T11:01:31.052081Z",
     "iopub.status.busy": "2020-11-26T11:01:31.045714Z",
     "iopub.status.idle": "2020-11-26T11:01:31.057405Z",
     "shell.execute_reply": "2020-11-26T11:01:31.056442Z"
    }
   },
   "outputs": [
    {
     "name": "stdout",
     "output_type": "stream",
     "text": [
      "+---+---------+----+\n",
      "|   |         |    |\n",
      "+===+=========+====+\n",
      "| 1 | germany | 83 |\n",
      "+---+---------+----+\n",
      "| 2 | france  | 66 |\n",
      "+---+---------+----+\n",
      "| 3 | spain   | 47 |\n",
      "+---+---------+----+\n",
      "\n"
     ]
    }
   ],
   "source": [
    "from frictionless import Resource\n",
    "\n",
    "resource = Resource(path='data/transform.csv')\n",
    "petl_table = resource.to_petl()\n",
    "# Use it with PETL framework\n",
    "print(petl_table)"
   ]
  },
  {
   "cell_type": "markdown",
   "metadata": {},
   "source": [
    "## Working with DataFlows\n",
    "\n",
    "DataFlows is a powerful framework you can also use for transforms. Please read more about it:\n",
    "- [DataFlows Tutorial](https://github.com/datahq/dataflows/blob/master/TUTORIAL.md)\n",
    "- [DataFlows Processors](https://github.com/datahq/dataflows/blob/master/PROCESSORS.md)"
   ]
  }
 ],
 "metadata": {
  "language_info": {
   "codemirror_mode": {
    "name": "ipython",
    "version": 3
   },
   "file_extension": ".py",
   "mimetype": "text/x-python",
   "name": "python",
   "nbconvert_exporter": "python",
   "pygments_lexer": "ipython3",
   "version": "3.8.0"
  }
 },
 "nbformat": 4,
 "nbformat_minor": 4
}
