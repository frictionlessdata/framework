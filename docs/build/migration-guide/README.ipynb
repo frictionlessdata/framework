{
 "cells": [
  {
   "cell_type": "markdown",
   "metadata": {},
   "source": [
    "# Migration Guide\n",
    "\n",
    "> Frictionless Framework requires Python3.6+\n",
    "\n",
    "Frictionless is a logical continuation of many currently existing packages:\n",
    "- goodtables\n",
    "- datapackage\n",
    "- tableschema\n",
    "- tableschema-drivers\n",
    "- tabulator\n",
    "\n",
    "Although, most of these packages will be supported going forward, you can migrate to Frictionless as it improves many aspects of working with data and metadata.\n",
    "\n",
    "## From goodtables\n",
    "\n",
    "Frictionless provides the `frictionless validate` function which is in high-level exactly the same as `goodtables validate`. Also `frictionless describe` is an improved version of `goodtables init`. You instead need to use the `frictionless` command instead of the `goodtables` command:"
   ]
  },
  {
   "cell_type": "markdown",
   "metadata": {},
   "source": [
    "```sh\n",
    "# Before\n",
    "$ goodtables validate table.csv\n",
    "# After\n",
    "$ frictionless validate table.csv\n",
    "```\n"
   ]
  },
  {
   "cell_type": "markdown",
   "metadata": {},
   "source": [
    "The Python interface is also mostly identical:"
   ]
  },
  {
   "cell_type": "markdown",
   "metadata": {},
   "source": [
    "```py\n",
    "# Before\n",
    "report = goodtables.validate('table.csv')\n",
    "# After\n",
    "report = frictionless.validate('table.csv')\n",
    "```\n"
   ]
  },
  {
   "cell_type": "markdown",
   "metadata": {},
   "source": [
    "Please read the following sections and use `frictionless validate --help` to learn what is the difference in the options and in report's properties.\n",
    "\n",
    "### Validate\n",
    "\n",
    "- a schema is inferred by default (use \"Infer Options\" and \"Schema Options\" to manage)\n",
    "- `order_fields` was replaced by `sync_schema` (see \"Schema Options\")\n",
    "- `checks` was replaced by `pick/skip_errors` and `extra_checks`\n",
    "- `error_limit` was replaced by `limit_errors` (see \"Errors Options\")\n",
    "- `row_limit` was replaced by `query` (see \"Table Query)\n",
    "- `preset` was replaced by `source_type`\n",
    "\n",
    "### Report\n",
    "\n",
    "- all the properties now are camelCased instead of being lower-cased\n",
    "- various error code changes (see \"Errors Reference\")\n",
    "- errors now have both row position and row number\n",
    "- `row-number` was replaced by `rowPosition`\n",
    "- high-level `warnings` was replaced by `errors`\n",
    "\n",
    "## From datapackage\n",
    "\n",
    "Frictionless has `Resource` and `Package` classes which is almost the same as `datapackage` has. There are a lot of improvements for working with metadata described in the \"Describing Data\" guide."
   ]
  },
  {
   "cell_type": "markdown",
   "metadata": {},
   "source": [
    "```py\n",
    "# Before\n",
    "resource = datapackage.Resource('resource.json')\n",
    "package = datapackage.Package('package.json')\n",
    "# After\n",
    "resource = frictionless.Resource('resource.json')\n",
    "package = frictionless.Package('package.json')\n",
    "```\n"
   ]
  },
  {
   "cell_type": "markdown",
   "metadata": {},
   "source": [
    "### Package\n",
    "\n",
    "- added YAML support\n",
    "- the Package object is now a dict\n",
    "- there is no `package.descriptor` anymore\n",
    "- it's now possible to use keyword arguments in the constructor\n",
    "- it's now possible to use attribute setters to update a package\n",
    "- `package.save` is replaced by `package.to_json`\n",
    "\n",
    "### Resource\n",
    "\n",
    "- added YAML support\n",
    "- the Resource object is now a dict\n",
    "- there is no `resource.descriptor` anymore\n",
    "- it's now possible to use keyword arguments in the constructor\n",
    "- it's now possible to use attribute setters to update a resource\n",
    "- `resource.save` is replaced by `**resource**.to_json`\n",
    "- `resource.read` was replaced by `resource.read_data/rows`\n",
    "- `resource.iter` was replaced by `resource.stream_data/rows`\n",
    "- `resource.raw_read` was replaced by `resource.read_bytes`\n",
    "- `resource.raw_iter` was replaced by `resource.stream_bytes`\n",
    "\n",
    "## From tableschema\n",
    "\n",
    "Frictionless has `Schema` and `Fields` classes which is almost the same as `tableschema` has. There are a lot of improvements for working with metadata described in the \"Describing Data\" guide."
   ]
  },
  {
   "cell_type": "markdown",
   "metadata": {},
   "source": [
    "```py\n",
    "# Before\n",
    "schema = tableschema.Schema('schema.json')\n",
    "field = tableschema.Field('field.json')\n",
    "# After\n",
    "schema = frictionless.Schema('schema.json')\n",
    "field = frictionless.Field('field.json')\n",
    "```\n"
   ]
  },
  {
   "cell_type": "markdown",
   "metadata": {},
   "source": [
    "### Schema\n",
    "\n",
    "- added YAML support\n",
    "- the Package object is now a dict\n",
    "- there is no `schema.descriptor` anymore\n",
    "- it's now possible to use keyword arguments in the constructor\n",
    "- it's now possible to use attribute setters to update a schema\n",
    "- `schema.save` is replaced by `schema.to_json`\n",
    "- `schema.cast_row` is replaced by `schema.read_data`\n",
    "\n",
    "### Field\n",
    "\n",
    "- added YAML support\n",
    "- the Resource object is now a dict\n",
    "- there is no `resource.descriptor` anymore\n",
    "- it's now possible to use keyword arguments in the constructor\n",
    "- it's now possible to use attribute setters to update a resource\n",
    "- `field.save` is replaced by `field.to_json`\n",
    "- `field.cast_value` is replaced by `field.read_cell`\n",
    "\n",
    "## From tabulator\n",
    "\n",
    "\n",
    "Frictionless has `Table` class which is an equivalent of the tabulator's `Stream` class."
   ]
  },
  {
   "cell_type": "markdown",
   "metadata": {},
   "source": [
    "```py\n",
    "# Before\n",
    "with tabulator.Stream('table.csv') as stream:\n",
    "  print(stream.read())\n",
    "# After\n",
    "with frictionless.Table('table.csv') as table:\n",
    "  print(table.read_rows())\n",
    "```\n"
   ]
  },
  {
   "cell_type": "markdown",
   "metadata": {},
   "source": [
    "### Table\n",
    "\n",
    "- the Table class now always infers `table.schema`\n",
    "- `table.read` was replace by `table.read_data/rows`\n",
    "- `table.iter` was replaced by `table.data/row_stream`\n",
    "- `table.hash/size` was replaced by the `table.stats` property\n",
    "- various changes in the constructor options (see \"Extracting Data\")"
   ]
  }
 ],
 "metadata": {
  "language_info": {
   "codemirror_mode": {
    "name": "ipython",
    "version": 3
   },
   "file_extension": ".py",
   "mimetype": "text/x-python",
   "name": "python",
   "nbconvert_exporter": "python",
   "pygments_lexer": "ipython3",
   "version": "3.8.0"
  }
 },
 "nbformat": 4,
 "nbformat_minor": 4
}
