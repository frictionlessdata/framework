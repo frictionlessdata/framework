{
 "cells": [
  {
   "cell_type": "markdown",
   "metadata": {},
   "source": [
    "# Working with CSV\n",
    "\n",
    "> Status: **STABLE**\n",
    "\n",
    "CSV is a file format which you can you in Frictionless for reading and writing. Arguable it's the main Open Data format so it's supported very well in Frictionless."
   ]
  },
  {
   "cell_type": "code",
   "execution_count": 1,
   "metadata": {
    "execution": {
     "iopub.execute_input": "2020-11-26T11:42:59.006887Z",
     "iopub.status.busy": "2020-11-26T11:42:59.003105Z",
     "iopub.status.idle": "2020-11-26T11:42:59.128590Z",
     "shell.execute_reply": "2020-11-26T11:42:59.130393Z"
    }
   },
   "outputs": [
    {
     "name": "stdout",
     "output_type": "stream",
     "text": [
      "id,name\r\n",
      "1,english\r\n",
      "2,中国人\r\n"
     ]
    }
   ],
   "source": [
    "! cat data/table.csv"
   ]
  },
  {
   "cell_type": "markdown",
   "metadata": {},
   "source": [
    "## Reading CSV\n",
    "\n",
    "You can read this format using `Package/Resource` or `Table` API, for example:"
   ]
  },
  {
   "cell_type": "code",
   "execution_count": 2,
   "metadata": {
    "execution": {
     "iopub.execute_input": "2020-11-26T11:42:59.140787Z",
     "iopub.status.busy": "2020-11-26T11:42:59.139699Z",
     "iopub.status.idle": "2020-11-26T11:42:59.714313Z",
     "shell.execute_reply": "2020-11-26T11:42:59.715130Z"
    }
   },
   "outputs": [
    {
     "name": "stdout",
     "output_type": "stream",
     "text": [
      "[Row([('id', 1), ('name', 'english')]), Row([('id', 2), ('name', '中国人')])]\n"
     ]
    }
   ],
   "source": [
    "from frictionless import Resource\n",
    "\n",
    "resource = Resource(path='data/table.csv')\n",
    "print(resource.read_rows())"
   ]
  },
  {
   "cell_type": "markdown",
   "metadata": {},
   "source": [
    "## Writing CSV\n",
    "\n",
    "The same is actual for writing:"
   ]
  },
  {
   "cell_type": "code",
   "execution_count": 3,
   "metadata": {
    "execution": {
     "iopub.execute_input": "2020-11-26T11:42:59.729993Z",
     "iopub.status.busy": "2020-11-26T11:42:59.729322Z",
     "iopub.status.idle": "2020-11-26T11:42:59.742650Z",
     "shell.execute_reply": "2020-11-26T11:42:59.743534Z"
    }
   },
   "outputs": [
    {
     "data": {
      "text/plain": [
       "'tmp/table.csv'"
      ]
     },
     "execution_count": 1,
     "metadata": {},
     "output_type": "execute_result"
    }
   ],
   "source": [
    "from frictionless import Resource\n",
    "\n",
    "resource = Resource(data=[['id', 'name'], [1, 'english'], [2, 'german']])\n",
    "resource.write('tmp/table.csv')"
   ]
  },
  {
   "cell_type": "code",
   "execution_count": 4,
   "metadata": {
    "execution": {
     "iopub.execute_input": "2020-11-26T11:42:59.749706Z",
     "iopub.status.busy": "2020-11-26T11:42:59.748725Z",
     "iopub.status.idle": "2020-11-26T11:42:59.875716Z",
     "shell.execute_reply": "2020-11-26T11:42:59.877177Z"
    }
   },
   "outputs": [
    {
     "name": "stdout",
     "output_type": "stream",
     "text": [
      "id,name\r",
      "\r\n",
      "1,english\r",
      "\r\n",
      "2,german\r",
      "\r\n"
     ]
    }
   ],
   "source": [
    "!cat tmp/table.csv"
   ]
  },
  {
   "cell_type": "markdown",
   "metadata": {},
   "source": [
    "## Configuring CSV\n",
    "\n",
    "There is a dialect to configure how Frictionless read and write files in this format. For example:"
   ]
  },
  {
   "cell_type": "code",
   "execution_count": 5,
   "metadata": {
    "execution": {
     "iopub.execute_input": "2020-11-26T11:42:59.890784Z",
     "iopub.status.busy": "2020-11-26T11:42:59.884583Z",
     "iopub.status.idle": "2020-11-26T11:42:59.899340Z",
     "shell.execute_reply": "2020-11-26T11:42:59.897635Z"
    }
   },
   "outputs": [
    {
     "data": {
      "text/plain": [
       "'tmp/table.csv'"
      ]
     },
     "execution_count": 1,
     "metadata": {},
     "output_type": "execute_result"
    }
   ],
   "source": [
    "from frictionless import Resource\n",
    "from frictionless.plugins.csv import CsvDialect\n",
    "\n",
    "resource = Resource(data=[['id', 'name'], [1, 'english'], [2, 'german']])\n",
    "resource.write('tmp/table.csv', dialect=CsvDialect(delimiter=';'))"
   ]
  },
  {
   "cell_type": "code",
   "execution_count": 6,
   "metadata": {
    "execution": {
     "iopub.execute_input": "2020-11-26T11:42:59.908832Z",
     "iopub.status.busy": "2020-11-26T11:42:59.905181Z",
     "iopub.status.idle": "2020-11-26T11:43:00.030905Z",
     "shell.execute_reply": "2020-11-26T11:43:00.032409Z"
    }
   },
   "outputs": [
    {
     "name": "stdout",
     "output_type": "stream",
     "text": [
      "id;name\r",
      "\r\n",
      "1;english\r",
      "\r\n",
      "2;german\r",
      "\r\n"
     ]
    }
   ],
   "source": [
    "!cat tmp/table.csv"
   ]
  },
  {
   "cell_type": "markdown",
   "metadata": {},
   "source": [
    "References:\n",
    "- [CSV Dialect](https://frictionlessdata.io/tooling/python/formats-reference/#csv)"
   ]
  }
 ],
 "metadata": {
  "language_info": {
   "codemirror_mode": {
    "name": "ipython",
    "version": 3
   },
   "file_extension": ".py",
   "mimetype": "text/x-python",
   "name": "python",
   "nbconvert_exporter": "python",
   "pygments_lexer": "ipython3",
   "version": "3.8.0"
  }
 },
 "nbformat": 4,
 "nbformat_minor": 4
}
