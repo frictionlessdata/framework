{
 "cells": [
  {
   "cell_type": "markdown",
   "metadata": {},
   "source": [
    "# Working with SQL\n",
    "\n",
    "> Status: **EXPERIMENTAL**\n",
    "\n",
    "Frictionless supports reading and writing SQL databases."
   ]
  },
  {
   "cell_type": "markdown",
   "metadata": {},
   "source": [
    "```sh\n",
    "! pip install frictionless[sql]\n",
    "```\n"
   ]
  },
  {
   "cell_type": "markdown",
   "metadata": {},
   "source": [
    "## Reading from SQL\n",
    "\n",
    "You can read SQL database:"
   ]
  },
  {
   "cell_type": "markdown",
   "metadata": {},
   "source": [
    "```py\n",
    "from frictionless import Package\n",
    "\n",
    "package = Package.from_pandas(url='postgresql://mydatabase')\n",
    "print(package)\n",
    "for resource in package.resources:\n",
    "  print(resource.read_rows())\n",
    "```\n"
   ]
  },
  {
   "cell_type": "markdown",
   "metadata": {},
   "source": [
    "## Wriring to SQL\n",
    "\n",
    "> **[NOTE]** Timezone information is ignored for `datetime` and `time` types.\n",
    "\n",
    "You can write SQL databases:"
   ]
  },
  {
   "cell_type": "markdown",
   "metadata": {},
   "source": [
    "```py\n",
    "from frictionless import Package\n",
    "\n",
    "package = Package('path/to/datapackage.json')\n",
    "package.to_spss(utl='postgresql://mydatabase')\n",
    "```\n"
   ]
  },
  {
   "cell_type": "markdown",
   "metadata": {},
   "source": [
    "## Configuring SQL\n",
    "\n",
    "There is a dialect to configure how Frictionless read and write files in this format. For example:"
   ]
  },
  {
   "cell_type": "markdown",
   "metadata": {},
   "source": [
    "```py\n",
    "from frictionless import Resource\n",
    "from frictionless.plugins.sql import SqlDialect\n",
    "\n",
    "dialect = SqlDialect(table='table', order_by='field')\n",
    "resource = Resource('postgresql://database', dialect=dialect)\n",
    "```\n"
   ]
  },
  {
   "cell_type": "markdown",
   "metadata": {},
   "source": [
    "References:\n",
    "- [SQL Dialect](https://frictionlessdata.io/tooling/python/dialects-reference/#sql)"
   ]
  }
 ],
 "metadata": {
  "language_info": {
   "codemirror_mode": {
    "name": "ipython",
    "version": 3
   },
   "file_extension": ".py",
   "mimetype": "text/x-python",
   "name": "python",
   "nbconvert_exporter": "python",
   "pygments_lexer": "ipython3",
   "version": "3.8.0"
  }
 },
 "nbformat": 4,
 "nbformat_minor": 4
}
