{
 "cells": [
  {
   "cell_type": "markdown",
   "metadata": {},
   "source": [
    "# Working with AWS\n",
    "\n",
    "> Status: **EXPERIMENTAL**\n",
    "\n",
    "Frictionless supports reading data from S3 cloud source. You can read file in any format that is available in your bucket."
   ]
  },
  {
   "cell_type": "markdown",
   "metadata": {},
   "source": [
    "```sh\n",
    "! pip install frictionless[aws]\n",
    "```\n"
   ]
  },
  {
   "cell_type": "markdown",
   "metadata": {},
   "source": [
    "## Reading from AWS\n",
    "\n",
    "You can read from this source using `Package/Resource` or `Table` API, for example:"
   ]
  },
  {
   "cell_type": "markdown",
   "metadata": {},
   "source": [
    "```py\n",
    "from frictionless import Resource\n",
    "\n",
    "resource = Resource(path='s3://bucket/table.csv')\n",
    "print(resource.read_rows())\n",
    "```\n"
   ]
  },
  {
   "cell_type": "markdown",
   "metadata": {},
   "source": [
    "For reading from a private bucket you need to setup AWS creadentials as it's described in [Boto3 documentation](https://boto3.amazonaws.com/v1/documentation/api/latest/guide/credentials.html#environment-variables).\n",
    "\n",
    "## Writing to AWS\n",
    "\n",
    "> it's not yet supported\n",
    "\n",
    "## Configuring AWS\n",
    "\n",
    "There is a control to configure how Frictionless read files in this storage. For example:"
   ]
  },
  {
   "cell_type": "markdown",
   "metadata": {},
   "source": [
    "```py\n",
    "from frictionless import Resource\n",
    "from frictionless.plugins.aws import S3Control\n",
    "\n",
    "resource = Resource(data=[['id', 'name'], [1, 'english'], [2, 'german']])\n",
    "resource.write('table.new.csv', control=controls.S3Control(endpoint_url='<url>'))\n",
    "```\n"
   ]
  },
  {
   "cell_type": "markdown",
   "metadata": {},
   "source": [
    "References:\n",
    "- [S3 Control](https://frictionlessdata.io/tooling/python/schemes-reference/#s3)"
   ]
  }
 ],
 "metadata": {
  "language_info": {
   "codemirror_mode": {
    "name": "ipython",
    "version": 3
   },
   "file_extension": ".py",
   "mimetype": "text/x-python",
   "name": "python",
   "nbconvert_exporter": "python",
   "pygments_lexer": "ipython3",
   "version": "3.8.0"
  }
 },
 "nbformat": 4,
 "nbformat_minor": 4
}
