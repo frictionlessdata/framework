{
 "cells": [
  {
   "cell_type": "markdown",
   "metadata": {},
   "source": [
    "# Working with HTML\n",
    "\n",
    "> Status: **STABLE**\n",
    "\n",
    "Frictionless supports parsing HTML format"
   ]
  },
  {
   "cell_type": "markdown",
   "metadata": {},
   "source": [
    "```sh\n",
    "!pip install frictionless[html]\n",
    "```\n"
   ]
  },
  {
   "cell_type": "code",
   "execution_count": 1,
   "metadata": {
    "execution": {
     "iopub.execute_input": "2020-11-26T11:45:47.252438Z",
     "iopub.status.busy": "2020-11-26T11:45:47.248621Z",
     "iopub.status.idle": "2020-11-26T11:45:47.372968Z",
     "shell.execute_reply": "2020-11-26T11:45:47.370837Z"
    }
   },
   "outputs": [
    {
     "name": "stdout",
     "output_type": "stream",
     "text": [
      "<!DOCTYPE html>\r\n",
      "<html>\r\n",
      "<head>\r\n",
      "    <meta charset=\"UTF-8\">\r\n",
      "</head>\r\n",
      "<body>\r\n",
      "    <table>\r\n",
      "        <tr>\r\n",
      "            <td>id</td>\r\n",
      "            <td>name</td>\r\n",
      "        </tr>\r\n",
      "        <tr>\r\n",
      "            <td>1</td>\r\n",
      "            <td>english</td>\r\n",
      "        </tr>\r\n",
      "        <tr>\r\n",
      "            <td>2</td>\r\n",
      "            <td>中国人</td>\r\n",
      "        </tr>\r\n",
      "    </table>\r\n",
      "</body>\r\n",
      "</html"
     ]
    }
   ],
   "source": [
    "! cat data/table1.html"
   ]
  },
  {
   "cell_type": "markdown",
   "metadata": {},
   "source": [
    "## Reading HTML\n",
    "\n",
    "You can this file format using `Package/Resource` or `Table` API, for example:"
   ]
  },
  {
   "cell_type": "code",
   "execution_count": 2,
   "metadata": {
    "execution": {
     "iopub.execute_input": "2020-11-26T11:45:47.381954Z",
     "iopub.status.busy": "2020-11-26T11:45:47.380652Z",
     "iopub.status.idle": "2020-11-26T11:45:47.972416Z",
     "shell.execute_reply": "2020-11-26T11:45:47.973419Z"
    }
   },
   "outputs": [
    {
     "name": "stdout",
     "output_type": "stream",
     "text": [
      "[Row([('id', 1), ('name', 'english')]), Row([('id', 2), ('name', '中国人')])]\n"
     ]
    }
   ],
   "source": [
    "from frictionless import Resource\n",
    "\n",
    "resource = Resource(path='data/table1.html')\n",
    "print(resource.read_rows())"
   ]
  },
  {
   "cell_type": "markdown",
   "metadata": {},
   "source": [
    "## Writing HTML\n",
    "\n",
    "The same is actual for writing:"
   ]
  },
  {
   "cell_type": "code",
   "execution_count": 3,
   "metadata": {
    "execution": {
     "iopub.execute_input": "2020-11-26T11:45:48.018460Z",
     "iopub.status.busy": "2020-11-26T11:45:48.017390Z",
     "iopub.status.idle": "2020-11-26T11:45:48.032831Z",
     "shell.execute_reply": "2020-11-26T11:45:48.031935Z"
    }
   },
   "outputs": [
    {
     "data": {
      "text/plain": [
       "'tmp/table.html'"
      ]
     },
     "execution_count": 1,
     "metadata": {},
     "output_type": "execute_result"
    }
   ],
   "source": [
    "from frictionless import Resource\n",
    "\n",
    "resource = Resource(data=[['id', 'name'], [1, 'english'], [2, 'german']])\n",
    "resource.write('tmp/table.html')"
   ]
  },
  {
   "cell_type": "code",
   "execution_count": 4,
   "metadata": {
    "execution": {
     "iopub.execute_input": "2020-11-26T11:45:48.038841Z",
     "iopub.status.busy": "2020-11-26T11:45:48.037755Z",
     "iopub.status.idle": "2020-11-26T11:45:48.163299Z",
     "shell.execute_reply": "2020-11-26T11:45:48.160954Z"
    }
   },
   "outputs": [
    {
     "name": "stdout",
     "output_type": "stream",
     "text": [
      "<html><body><table>\r\n",
      "<tr><td>id</td><td>name</td></tr>\r\n",
      "<tr><td>1</td><td>english</td></tr>\r\n",
      "<tr><td>2</td><td>german</td></tr>\r\n",
      "</table></body></html>"
     ]
    }
   ],
   "source": [
    "!cat tmp/table.html"
   ]
  },
  {
   "cell_type": "markdown",
   "metadata": {},
   "source": [
    "## Configuring HTML\n",
    "\n",
    "There is a dialect to configure HTML, for example:"
   ]
  },
  {
   "cell_type": "markdown",
   "metadata": {},
   "source": [
    "```py\n",
    "from frictionless import Resource\n",
    "from frictionless.plugins.html import HtmlDialect\n",
    "\n",
    "resource = Resource(path='data/table1.html', dialect=HtmlDialect(selector='#id'))\n",
    "print(resource.read_rows())\n",
    "```\n"
   ]
  },
  {
   "cell_type": "markdown",
   "metadata": {},
   "source": [
    "References:\n",
    "- [HTML Dialect](https://frictionlessdata.io/tooling/python/formats-reference/#html)"
   ]
  }
 ],
 "metadata": {
  "language_info": {
   "codemirror_mode": {
    "name": "ipython",
    "version": 3
   },
   "file_extension": ".py",
   "mimetype": "text/x-python",
   "name": "python",
   "nbconvert_exporter": "python",
   "pygments_lexer": "ipython3",
   "version": "3.8.0"
  }
 },
 "nbformat": 4,
 "nbformat_minor": 4
}
