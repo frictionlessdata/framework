{
 "cells": [
  {
   "cell_type": "markdown",
   "metadata": {},
   "source": [
    "# Working with Filelike Data\n",
    "\n",
    "> Status: **STABLE**\n",
    "\n",
    "Frictionless supports loading Filelike data.\n",
    "\n",
    "## Reading Filelike Data\n",
    "\n",
    "You can read Filelike using `Package/Resource` or `Table` API, for example:"
   ]
  },
  {
   "cell_type": "code",
   "execution_count": 1,
   "metadata": {
    "execution": {
     "iopub.execute_input": "2020-11-26T11:44:29.502270Z",
     "iopub.status.busy": "2020-11-26T11:44:29.500730Z",
     "iopub.status.idle": "2020-11-26T11:44:30.071599Z",
     "shell.execute_reply": "2020-11-26T11:44:30.070025Z"
    }
   },
   "outputs": [
    {
     "name": "stdout",
     "output_type": "stream",
     "text": [
      "[Row([('id', 1), ('name', 'english')]), Row([('id', 2), ('name', '中国人')])]\n"
     ]
    }
   ],
   "source": [
    "from frictionless import Resource\n",
    "\n",
    "with open('data/table.csv', 'rb') as file:\n",
    "  resource = Resource(path=file, format='csv')\n",
    "  print(resource.read_rows())"
   ]
  },
  {
   "cell_type": "markdown",
   "metadata": {},
   "source": [
    "## Writing Filelike Data\n",
    "\n",
    "The same is actual for writing CSV:"
   ]
  },
  {
   "cell_type": "markdown",
   "metadata": {},
   "source": [
    "```py\n",
    "from frictionless import Resource\n",
    "\n",
    "resource = Resource(data=[['id', 'name'], [1, 'english'], [2, 'german']])\n",
    "resource.write(scheme='stream')\n",
    "```\n"
   ]
  },
  {
   "cell_type": "markdown",
   "metadata": {},
   "source": [
    "## Configuring Filelike Data\n",
    "\n",
    "> Not supported"
   ]
  }
 ],
 "metadata": {
  "language_info": {
   "codemirror_mode": {
    "name": "ipython",
    "version": 3
   },
   "file_extension": ".py",
   "mimetype": "text/x-python",
   "name": "python",
   "nbconvert_exporter": "python",
   "pygments_lexer": "ipython3",
   "version": "3.8.0"
  }
 },
 "nbformat": 4,
 "nbformat_minor": 4
}
