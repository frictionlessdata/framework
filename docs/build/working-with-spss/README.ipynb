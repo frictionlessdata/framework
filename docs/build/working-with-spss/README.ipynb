{
 "cells": [
  {
   "cell_type": "markdown",
   "metadata": {},
   "source": [
    "# Working with SPSS\n",
    "\n",
    "> Status: **EXPERIMENTAL**\n",
    "\n",
    "Frictionless supports reading and writing SPSS files."
   ]
  },
  {
   "cell_type": "markdown",
   "metadata": {},
   "source": [
    "```sh\n",
    "! pip install frictionless[spss]\n",
    "```\n"
   ]
  },
  {
   "cell_type": "markdown",
   "metadata": {},
   "source": [
    "## Reading from SPSS\n",
    "\n",
    "You can read SPSS files:"
   ]
  },
  {
   "cell_type": "markdown",
   "metadata": {},
   "source": [
    "```py\n",
    "from frictionless import Package\n",
    "\n",
    "package = Package.from_pandas(basepath='<dir with your .SAV files>')\n",
    "print(package)\n",
    "for resource in package.resources:\n",
    "  print(resource.read_rows())\n",
    "```\n"
   ]
  },
  {
   "cell_type": "markdown",
   "metadata": {},
   "source": [
    "## Wriring to SPSS\n",
    "\n",
    "> **[NOTE]** Timezone information is ignored for `datetime` and `time` types.\n",
    "\n",
    "You can write SPSS files:"
   ]
  },
  {
   "cell_type": "markdown",
   "metadata": {},
   "source": [
    "```py\n",
    "from frictionless import Package\n",
    "\n",
    "package = Package('path/to/datapackage.json')\n",
    "package.to_spss(basepath='target')\n",
    "```\n"
   ]
  },
  {
   "cell_type": "markdown",
   "metadata": {},
   "source": [
    "## Configuring SPSS\n",
    "\n",
    "There are no options available in `SpssDialect`.\n",
    "\n",
    "References:\n",
    "- [SPSS Dialect](https://frictionlessdata.io/tooling/python/dialects-reference/#spss)"
   ]
  }
 ],
 "metadata": {
  "language_info": {
   "codemirror_mode": {
    "name": "ipython",
    "version": 3
   },
   "file_extension": ".py",
   "mimetype": "text/x-python",
   "name": "python",
   "nbconvert_exporter": "python",
   "pygments_lexer": "ipython3",
   "version": "3.8.0"
  }
 },
 "nbformat": 4,
 "nbformat_minor": 4
}
