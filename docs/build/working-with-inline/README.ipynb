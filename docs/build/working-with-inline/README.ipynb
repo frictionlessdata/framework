{
 "cells": [
  {
   "cell_type": "markdown",
   "metadata": {},
   "source": [
    "# Working with Inline Data\n",
    "\n",
    "> Status: **STABLE**\n",
    "\n",
    "Frictionless supports parsing Inline Data."
   ]
  },
  {
   "cell_type": "markdown",
   "metadata": {},
   "source": [
    "```bash\n",
    "! cat data/table.csv\n",
    "```\n"
   ]
  },
  {
   "cell_type": "markdown",
   "metadata": {},
   "source": [
    "## Reading Inline Data\n",
    "\n",
    "You can read data in this format using `Package/Resource` or `Table` API, for example:"
   ]
  },
  {
   "cell_type": "code",
   "execution_count": 1,
   "metadata": {
    "execution": {
     "iopub.execute_input": "2020-12-02T10:43:45.135832Z",
     "iopub.status.busy": "2020-12-02T10:43:45.133871Z",
     "iopub.status.idle": "2020-12-02T10:43:45.940987Z",
     "shell.execute_reply": "2020-12-02T10:43:45.939841Z"
    }
   },
   "outputs": [
    {
     "name": "stdout",
     "output_type": "stream",
     "text": [
      "[Row([('id', 1), ('name', 'english')]), Row([('id', 2), ('name', 'german')])]\n"
     ]
    }
   ],
   "source": [
    "from frictionless import Resource\n",
    "\n",
    "resource = Resource(data=[['id', 'name'], [1, 'english'], [2, 'german']])\n",
    "print(resource.read_rows())"
   ]
  },
  {
   "cell_type": "markdown",
   "metadata": {},
   "source": [
    "## Writing Inline Data\n",
    "\n",
    "The same is actual for writing:"
   ]
  },
  {
   "cell_type": "code",
   "execution_count": 2,
   "metadata": {
    "execution": {
     "iopub.execute_input": "2020-12-02T10:43:45.968386Z",
     "iopub.status.busy": "2020-12-02T10:43:45.955611Z",
     "iopub.status.idle": "2020-12-02T10:43:45.976246Z",
     "shell.execute_reply": "2020-12-02T10:43:45.975608Z"
    }
   },
   "outputs": [
    {
     "data": {
      "text/plain": [
       "[['id', 'name'], [1, 'english'], [2, '中国人']]"
      ]
     },
     "execution_count": 1,
     "metadata": {},
     "output_type": "execute_result"
    }
   ],
   "source": [
    "from frictionless import Resource\n",
    "\n",
    "resource = Resource(path='data/table.csv')\n",
    "resource.write(format='inline')"
   ]
  },
  {
   "cell_type": "markdown",
   "metadata": {},
   "source": [
    "## Configuring Inline Data\n",
    "\n",
    "There is a dialect to configure this format, for example:"
   ]
  },
  {
   "cell_type": "code",
   "execution_count": 3,
   "metadata": {
    "execution": {
     "iopub.execute_input": "2020-12-02T10:43:45.987961Z",
     "iopub.status.busy": "2020-12-02T10:43:45.986440Z",
     "iopub.status.idle": "2020-12-02T10:43:45.992878Z",
     "shell.execute_reply": "2020-12-02T10:43:45.993693Z"
    }
   },
   "outputs": [
    {
     "name": "stdout",
     "output_type": "stream",
     "text": [
      "[Row([('name', 'english'), ('id', 1)]), Row([('name', 'german'), ('id', 2)])]\n"
     ]
    }
   ],
   "source": [
    "from frictionless import Resource\n",
    "from frictionless.plugins.inline import InlineDialect\n",
    "\n",
    "dialect = InlineDialect(keyed=True, keys=['name', 'id'])\n",
    "resource = Resource(data=[{'id': 1, 'name': 'english'}, {'id': 2, 'name': 'german'}], dialect=dialect)\n",
    "print(resource.read_rows())"
   ]
  },
  {
   "cell_type": "markdown",
   "metadata": {},
   "source": [
    "References:\n",
    "- [Inline Dialect](https://frictionlessdata.io/tooling/python/formats-reference/#inline)"
   ]
  }
 ],
 "metadata": {
  "language_info": {
   "codemirror_mode": {
    "name": "ipython",
    "version": 3
   },
   "file_extension": ".py",
   "mimetype": "text/x-python",
   "name": "python",
   "nbconvert_exporter": "python",
   "pygments_lexer": "ipython3",
   "version": "3.8.0"
  }
 },
 "nbformat": 4,
 "nbformat_minor": 4
}
