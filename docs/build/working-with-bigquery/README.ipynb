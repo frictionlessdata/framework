{
 "cells": [
  {
   "cell_type": "markdown",
   "metadata": {},
   "source": [
    "# Working with BigQuery\n",
    "\n",
    "> Status: **EXPERIMENTAL**\n",
    "\n",
    "Frictionless supports both reading tables from BigQuery source and treating a BigQuery dataset as a tabular data storage."
   ]
  },
  {
   "cell_type": "markdown",
   "metadata": {},
   "source": [
    "```sh\n",
    "! pip install frictionless[bigquery]\n",
    "```\n"
   ]
  },
  {
   "cell_type": "markdown",
   "metadata": {},
   "source": [
    "## Reading from BigQuery\n",
    "\n",
    "You can read from this source using `Package/Resource` or `Table` API, for example:"
   ]
  },
  {
   "cell_type": "markdown",
   "metadata": {},
   "source": [
    "```py\n",
    "import os\n",
    "import json\n",
    "from apiclient.discovery import build\n",
    "from oauth2client.client import GoogleCredentials\n",
    "from frictionless import Resource\n",
    "from frictionless.plugins.bigquery import BigqueryDialect\n",
    "\n",
    "# Prepare BigQuery\n",
    "# This file can be received from Google Console\n",
    "os.environ[\"GOOGLE_APPLICATION_CREDENTIALS\"] = \".google.json\"\n",
    "credentials = GoogleCredentials.get_application_default()\n",
    "service = build(\"bigquery\", \"v2\", credentials=credentials),\n",
    "project = json.load(open(\".google.json\"))[\"project_id\"],\n",
    "\n",
    "# Read from BigQuery\n",
    "dialect = BigqueryDialect(project=project, dataset='<dataset>', table='<table>'\n",
    "resource = Resource(path=service, dialect=dialect)\n",
    "print(resource.read_rows())\n",
    "```\n"
   ]
  },
  {
   "cell_type": "markdown",
   "metadata": {},
   "source": [
    "If you'd like to treat BigQuery dataset as a tabular storage:"
   ]
  },
  {
   "cell_type": "markdown",
   "metadata": {},
   "source": [
    "```py\n",
    "package = Package.from_bigquery(service=service, project=project, dataset='<dataset>')\n",
    "print(package)\n",
    "for resource in package.resources:\n",
    "  print(resource.read_rows())\n",
    "```\n"
   ]
  },
  {
   "cell_type": "markdown",
   "metadata": {},
   "source": [
    "## Writing to BigQuery\n",
    "\n",
    "> **[NOTE]** Timezone information is ignored for `datetime` and `time` types.\n",
    "\n",
    "We can export a package to a BigQuery dataset:"
   ]
  },
  {
   "cell_type": "markdown",
   "metadata": {},
   "source": [
    "```py\n",
    "package = Package('path/to/datapackage.json')\n",
    "package.to_bigquery(service=service, project=project, dataset='<dataset>')\n",
    "```\n"
   ]
  },
  {
   "cell_type": "markdown",
   "metadata": {},
   "source": [
    "## Configuring BigQuery\n",
    "\n",
    "There are two options to configure BigQuery interactions. First of all, there are different options for these functions:"
   ]
  },
  {
   "cell_type": "markdown",
   "metadata": {},
   "source": [
    "```\n",
    "Resource/Package.from_bigquery\n",
    "resource/package.to_bigquery\n",
    "```\n"
   ]
  },
  {
   "cell_type": "markdown",
   "metadata": {},
   "source": [
    "Secondly, there a dialect:"
   ]
  },
  {
   "cell_type": "markdown",
   "metadata": {},
   "source": [
    "```py\n",
    "dialect = BigqueryDialect(project=project, dataset='<dataset>', table='<table>'\n",
    "resource = Resource(path=service, dialect=dialect)\n",
    "print(resource.read_rows())\n",
    "```\n"
   ]
  },
  {
   "cell_type": "markdown",
   "metadata": {},
   "source": [
    "References:\n",
    "- [BigQuery Dialect](https://frictionlessdata.io/tooling/python/formats-reference/#bigquery)"
   ]
  }
 ],
 "metadata": {
  "language_info": {
   "codemirror_mode": {
    "name": "ipython",
    "version": 3
   },
   "file_extension": ".py",
   "mimetype": "text/x-python",
   "name": "python",
   "nbconvert_exporter": "python",
   "pygments_lexer": "ipython3",
   "version": "3.8.0"
  }
 },
 "nbformat": 4,
 "nbformat_minor": 4
}
