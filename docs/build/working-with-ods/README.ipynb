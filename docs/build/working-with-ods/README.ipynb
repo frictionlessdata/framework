{
 "cells": [
  {
   "cell_type": "markdown",
   "metadata": {},
   "source": [
    "# Working with ODS\n",
    "\n",
    "> Status: **STABLE**\n",
    "\n",
    "Frictionless supports ODS parsing."
   ]
  },
  {
   "cell_type": "markdown",
   "metadata": {},
   "source": [
    "```sh\n",
    "!pip install frictionless[ods]\n",
    "```\n"
   ]
  },
  {
   "cell_type": "markdown",
   "metadata": {},
   "source": [
    "## Reading ODS\n",
    "\n",
    "You can read this format using `Package/Resource` or `Table` API, for example:"
   ]
  },
  {
   "cell_type": "code",
   "execution_count": 1,
   "metadata": {
    "execution": {
     "iopub.execute_input": "2020-11-26T11:46:18.110235Z",
     "iopub.status.busy": "2020-11-26T11:46:18.109350Z",
     "iopub.status.idle": "2020-11-26T11:46:18.688100Z",
     "shell.execute_reply": "2020-11-26T11:46:18.687391Z"
    }
   },
   "outputs": [
    {
     "name": "stdout",
     "output_type": "stream",
     "text": [
      "[Row([('id', 1), ('name', 'english')]), Row([('id', 2), ('name', '中国人')])]\n"
     ]
    }
   ],
   "source": [
    "from frictionless import Resource\n",
    "\n",
    "resource = Resource(path='data/table.ods')\n",
    "print(resource.read_rows())"
   ]
  },
  {
   "cell_type": "markdown",
   "metadata": {},
   "source": [
    "## Writing ODS\n",
    "\n",
    "The same is actual for writing:"
   ]
  },
  {
   "cell_type": "code",
   "execution_count": 2,
   "metadata": {
    "execution": {
     "iopub.execute_input": "2020-11-26T11:46:18.704653Z",
     "iopub.status.busy": "2020-11-26T11:46:18.703623Z",
     "iopub.status.idle": "2020-11-26T11:46:18.721208Z",
     "shell.execute_reply": "2020-11-26T11:46:18.722199Z"
    }
   },
   "outputs": [
    {
     "data": {
      "text/plain": [
       "'tmp/table.ods'"
      ]
     },
     "execution_count": 1,
     "metadata": {},
     "output_type": "execute_result"
    }
   ],
   "source": [
    "from frictionless import Resource\n",
    "\n",
    "resource = Resource(data=[['id', 'name'], [1, 'english'], [2, 'german']])\n",
    "resource.write('tmp/table.ods')"
   ]
  },
  {
   "cell_type": "markdown",
   "metadata": {},
   "source": [
    "## Configuring ODS\n",
    "\n",
    "There is a dialect to configure how Frictionless read and write files in this format. For example:"
   ]
  },
  {
   "cell_type": "code",
   "execution_count": 3,
   "metadata": {
    "execution": {
     "iopub.execute_input": "2020-11-26T11:46:18.738981Z",
     "iopub.status.busy": "2020-11-26T11:46:18.738094Z",
     "iopub.status.idle": "2020-11-26T11:46:18.745715Z",
     "shell.execute_reply": "2020-11-26T11:46:18.746277Z"
    }
   },
   "outputs": [
    {
     "data": {
      "text/plain": [
       "'tmp/table.ods'"
      ]
     },
     "execution_count": 1,
     "metadata": {},
     "output_type": "execute_result"
    }
   ],
   "source": [
    "from frictionless import Resource\n",
    "from frictionless.plugins.ods import OdsDialect\n",
    "\n",
    "resource = Resource(data=[['id', 'name'], [1, 'english'], [2, 'german']])\n",
    "resource.write('tmp/table.ods', dialect=OdsDialect(sheet='My Table'))"
   ]
  },
  {
   "cell_type": "markdown",
   "metadata": {},
   "source": [
    "References:\n",
    "- [ODS Dialect](https://frictionlessdata.io/tooling/python/formats-reference/#ods)"
   ]
  }
 ],
 "metadata": {
  "language_info": {
   "codemirror_mode": {
    "name": "ipython",
    "version": 3
   },
   "file_extension": ".py",
   "mimetype": "text/x-python",
   "name": "python",
   "nbconvert_exporter": "python",
   "pygments_lexer": "ipython3",
   "version": "3.8.0"
  }
 },
 "nbformat": 4,
 "nbformat_minor": 4
}
