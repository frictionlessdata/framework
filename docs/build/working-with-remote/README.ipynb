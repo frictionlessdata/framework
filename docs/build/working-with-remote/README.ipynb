{
 "cells": [
  {
   "cell_type": "markdown",
   "metadata": {},
   "source": [
    "# Working with Remote Data\n",
    "\n",
    "> Status: **STABLE**\n",
    "\n",
    "You can read files remotely with Frictionless. It's basic functionality.\n",
    "\n",
    "## Reading Remote Data\n",
    "\n",
    "You can read using `Package/Resource` or `Table` API, for example:"
   ]
  },
  {
   "cell_type": "code",
   "execution_count": 1,
   "metadata": {
    "execution": {
     "iopub.execute_input": "2020-12-06T07:50:08.400425Z",
     "iopub.status.busy": "2020-12-06T07:50:08.399674Z",
     "iopub.status.idle": "2020-12-06T07:50:09.606383Z",
     "shell.execute_reply": "2020-12-06T07:50:09.603981Z"
    }
   },
   "outputs": [
    {
     "name": "stdout",
     "output_type": "stream",
     "text": [
      "[Row([('id', 1), ('name', 'english')]), Row([('id', 2), ('name', '中国人')])]\n"
     ]
    }
   ],
   "source": [
    "from frictionless import Resource\n",
    "\n",
    "resource = Resource(path='https://raw.githubusercontent.com/frictionlessdata/frictionless-py/master/data/table.csv')\n",
    "print(resource.read_rows())"
   ]
  },
  {
   "cell_type": "markdown",
   "metadata": {},
   "source": [
    "## Writing Remote Data\n",
    "\n",
    "The save is actual for writing:"
   ]
  },
  {
   "cell_type": "markdown",
   "metadata": {},
   "source": [
    "```py\n",
    "from frictionless import Resource\n",
    "\n",
    "resource = Resource(path='data/table.csv')\n",
    "resource.write('https://example.com/data/table.csv') # will POST the file to the server\n",
    "```\n"
   ]
  },
  {
   "cell_type": "markdown",
   "metadata": {},
   "source": [
    "## Configuring Remote Data\n",
    "\n",
    "There is a control to configure remote data, for example:"
   ]
  },
  {
   "cell_type": "code",
   "execution_count": 2,
   "metadata": {
    "execution": {
     "iopub.execute_input": "2020-12-06T07:50:09.619204Z",
     "iopub.status.busy": "2020-12-06T07:50:09.616599Z",
     "iopub.status.idle": "2020-12-06T07:50:09.837617Z",
     "shell.execute_reply": "2020-12-06T07:50:09.838138Z"
    }
   },
   "outputs": [
    {
     "name": "stdout",
     "output_type": "stream",
     "text": [
      "[Row([('id', 1), ('name', 'english')]), Row([('id', 2), ('name', '中国人')])]\n"
     ]
    }
   ],
   "source": [
    "from frictionless import Resource\n",
    "from frictionless.plugins.remote import RemoteControl\n",
    "\n",
    "control = RemoteControl(http_timeout=10)\n",
    "resource = Resource(path='https://raw.githubusercontent.com/frictionlessdata/frictionless-py/master/data/table.csv', control=control)\n",
    "print(resource.read_rows())"
   ]
  },
  {
   "cell_type": "markdown",
   "metadata": {},
   "source": [
    "References:\n",
    "- [Remote Control](https://frictionlessdata.io/tooling/python/schemes-reference/#remote)"
   ]
  }
 ],
 "metadata": {
  "language_info": {
   "codemirror_mode": {
    "name": "ipython",
    "version": 3
   },
   "file_extension": ".py",
   "mimetype": "text/x-python",
   "name": "python",
   "nbconvert_exporter": "python",
   "pygments_lexer": "ipython3",
   "version": "3.8.0"
  }
 },
 "nbformat": 4,
 "nbformat_minor": 4
}
