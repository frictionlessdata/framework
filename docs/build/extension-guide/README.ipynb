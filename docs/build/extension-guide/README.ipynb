{
 "cells": [
  {
   "cell_type": "markdown",
   "metadata": {},
   "source": [
    "# Extension Guide\n",
    "\n",
    "Frictionless is built on top of a powerful plugins system which is used internally and allows to extend the framework.\n",
    "\n",
    "## Plugin Interface\n",
    "\n",
    "Here is a list of available hooks that you can implement in your plugin:\n",
    "- `create_check`\n",
    "- `create_control`\n",
    "- `create_dialect`\n",
    "- `create_loader`\n",
    "- `create_parser`\n",
    "- `create_server`\n",
    "\n",
    "To create a plugin you need:\n",
    "- create a module called `frictionless_<name>` available in PYTHONPATH\n",
    "- subclass the Plugin class and override one of the methods above\n",
    "\n",
    "Please consult with \"API Reference\" for in-detail information about the Plugin interface and how these methods can be implemented.\n",
    "\n",
    "## Plugin Example\n",
    "\n",
    "Let's say we're interested in supporting the `csv2k` format that we have just invented. For simplicity, let's use a format that is exactly the same with CSV.\n",
    "\n",
    "First of all, we need to create a `frictionless_csv2k` module containing a Plugin implementation and a Parser implementation but we're going to re-use the CsvParser as our new format is the same:\n",
    "\n",
    "> frictionless_csv2k.py"
   ]
  },
  {
   "cell_type": "markdown",
   "metadata": {},
   "source": [
    "```py\n",
    "from frictionless import Plugin\n",
    "from frictionless.plugins.csv import CsvParser\n",
    "\n",
    "class Csv2kPlugin(Plugin):\n",
    "    def create_parser(self, file):\n",
    "        if file.format == \"csv2k\":\n",
    "            return Csv2kParser(file)\n",
    "\n",
    "class Csv2kParser(CsvParser):\n",
    "    pass\n",
    "```\n"
   ]
  },
  {
   "cell_type": "markdown",
   "metadata": {},
   "source": [
    "Now, we can use our new format in any of the Frictionless functions that accept a table source, for example, `extract` or `Table`:"
   ]
  },
  {
   "cell_type": "markdown",
   "metadata": {},
   "source": [
    "```py\n",
    "from frictionless import extract\n",
    "\n",
    "rows = extract('data/table.csv2k')\n",
    "print(rows)\n",
    "```\n"
   ]
  },
  {
   "cell_type": "markdown",
   "metadata": {},
   "source": [
    "This example is over-simplified to show the high-level mechanics but writing Frictionless Plugins is designed to be easy. For inspiration, you can checks the `frictionless/plugins` directory and learn from real-life examples. Also, in the Frictionless codebase there are many `Check`, `Control`, `Dialect`, `Loader`, `Parser`, and `Server` implementations - you can read their code for better understanding of how to write your own subclass or reach out to us for support."
   ]
  }
 ],
 "metadata": {
  "language_info": {
   "codemirror_mode": {
    "name": "ipython",
    "version": 3
   },
   "file_extension": ".py",
   "mimetype": "text/x-python",
   "name": "python",
   "nbconvert_exporter": "python",
   "pygments_lexer": "ipython3",
   "version": "3.8.0"
  }
 },
 "nbformat": 4,
 "nbformat_minor": 4
}
