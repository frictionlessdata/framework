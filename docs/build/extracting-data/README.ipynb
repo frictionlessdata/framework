{
 "cells": [
  {
   "cell_type": "markdown",
   "metadata": {},
   "source": [
    "# Extracting Data\n",
    "\n",
    "Extracting data means reading tabular data from some source. We can use various customizations for this process such as providing a file format, table schema, limiting fields or rows amount, and much more. Let's see this with real files:"
   ]
  },
  {
   "cell_type": "code",
   "execution_count": 1,
   "metadata": {
    "execution": {
     "iopub.execute_input": "2020-12-02T10:41:56.652142Z",
     "iopub.status.busy": "2020-12-02T10:41:56.651019Z",
     "iopub.status.idle": "2020-12-02T10:41:56.776121Z",
     "shell.execute_reply": "2020-12-02T10:41:56.773762Z"
    }
   },
   "outputs": [
    {
     "name": "stdout",
     "output_type": "stream",
     "text": [
      "id,capital_id,name,population\r\n",
      "1,1,Britain,67\r\n",
      "2,3,France,67\r\n",
      "3,2,Germany,83\r\n",
      "4,5,Italy,60\r\n",
      "5,4,Spain,47\r\n"
     ]
    }
   ],
   "source": [
    "! cat data/country-3.csv"
   ]
  },
  {
   "cell_type": "code",
   "execution_count": 2,
   "metadata": {
    "execution": {
     "iopub.execute_input": "2020-12-02T10:41:56.788440Z",
     "iopub.status.busy": "2020-12-02T10:41:56.786320Z",
     "iopub.status.idle": "2020-12-02T10:41:56.912400Z",
     "shell.execute_reply": "2020-12-02T10:41:56.911571Z"
    }
   },
   "outputs": [
    {
     "name": "stdout",
     "output_type": "stream",
     "text": [
      "id,name\r\n",
      "1,London\r\n",
      "2,Berlin\r\n",
      "3,Paris\r\n",
      "4,Madrid\r\n",
      "5,Rome\r\n"
     ]
    }
   ],
   "source": [
    "! cat data/capital-3.csv"
   ]
  },
  {
   "cell_type": "markdown",
   "metadata": {},
   "source": [
    "For a starter, we will use the command-line interface:"
   ]
  },
  {
   "cell_type": "code",
   "execution_count": 3,
   "metadata": {
    "execution": {
     "iopub.execute_input": "2020-12-02T10:41:56.925608Z",
     "iopub.status.busy": "2020-12-02T10:41:56.923545Z",
     "iopub.status.idle": "2020-12-02T10:41:58.102330Z",
     "shell.execute_reply": "2020-12-02T10:41:58.104327Z"
    }
   },
   "outputs": [
    {
     "name": "stdout",
     "output_type": "stream",
     "text": [
      "---\u001b[0m\r\n",
      "\u001b[1mdata: data/country-3.csv\u001b[0m\r\n",
      "---\u001b[0m\r\n",
      "\u001b[0m\r\n",
      "==  ==========  =======  ==========\r\n",
      "id  capital_id  name     population\r\n",
      "==  ==========  =======  ==========\r\n",
      " 1           1  Britain          67\r\n",
      " 2           3  France           67\r\n",
      " 3           2  Germany          83\r\n",
      " 4           5  Italy            60\r\n",
      " 5           4  Spain            47\r\n",
      "==  ==========  =======  ==========\r\n",
      "\u001b[0m\r\n"
     ]
    }
   ],
   "source": [
    "! frictionless extract data/country-3.csv"
   ]
  },
  {
   "cell_type": "markdown",
   "metadata": {},
   "source": [
    "The same can be done in Python:"
   ]
  },
  {
   "cell_type": "code",
   "execution_count": 4,
   "metadata": {
    "execution": {
     "iopub.execute_input": "2020-12-02T10:41:58.116833Z",
     "iopub.status.busy": "2020-12-02T10:41:58.114934Z",
     "iopub.status.idle": "2020-12-02T10:41:58.675091Z",
     "shell.execute_reply": "2020-12-02T10:41:58.676118Z"
    }
   },
   "outputs": [
    {
     "name": "stdout",
     "output_type": "stream",
     "text": [
      "[Row([('id', 1), ('capital_id', 1), ('name', 'Britain'), ('population', 67)]),\n",
      " Row([('id', 2), ('capital_id', 3), ('name', 'France'), ('population', 67)]),\n",
      " Row([('id', 3), ('capital_id', 2), ('name', 'Germany'), ('population', 83)]),\n",
      " Row([('id', 4), ('capital_id', 5), ('name', 'Italy'), ('population', 60)]),\n",
      " Row([('id', 5), ('capital_id', 4), ('name', 'Spain'), ('population', 47)])]\n"
     ]
    }
   ],
   "source": [
    "from pprint import pprint\n",
    "from frictionless import extract\n",
    "\n",
    "rows = extract('data/country-3.csv')\n",
    "pprint(rows)"
   ]
  },
  {
   "cell_type": "markdown",
   "metadata": {},
   "source": [
    "## Extract Functions\n",
    "\n",
    "The high-level interface for extracting data provided by Frictionless is a set of `extract` functions:\n",
    "- `extract`: it will detect the source type and extract data accordingly\n",
    "- `extract_package`: it accepts a package descriptor and returns a map of the package's tables\n",
    "- `extract_resource`: it accepts a resource descriptor and returns a table data\n",
    "- `extract_table`: it accepts various tabular options and returns a table data\n",
    "\n",
    "In command-line, there is only 1 command but there is a flag to adjust the behavior:"
   ]
  },
  {
   "cell_type": "markdown",
   "metadata": {},
   "source": [
    "```sh\n",
    "$ frictionless extract\n",
    "$ frictionless extract --source-type package\n",
    "$ frictionless extract --source-type resource\n",
    "$ frictionless extract --source-type table\n",
    "```\n"
   ]
  },
  {
   "cell_type": "markdown",
   "metadata": {},
   "source": [
    "The `extract` functions always read data in a form of rows (see the object description below) into memory. The lower-level interfaces will allow you to stream data and various output forms.\n",
    "\n",
    "\n",
    "### Extracting Package\n",
    "\n",
    "Let's start by using the command line-interface. We're going to provide two files to the `extract` command which will be enough to detect that it's a dataset:"
   ]
  },
  {
   "cell_type": "code",
   "execution_count": 5,
   "metadata": {
    "execution": {
     "iopub.execute_input": "2020-12-02T10:41:58.684985Z",
     "iopub.status.busy": "2020-12-02T10:41:58.683550Z",
     "iopub.status.idle": "2020-12-02T10:41:59.885693Z",
     "shell.execute_reply": "2020-12-02T10:41:59.884301Z"
    }
   },
   "outputs": [
    {
     "name": "stdout",
     "output_type": "stream",
     "text": [
      "---\u001b[0m\r\n",
      "\u001b[1mdata: data/capital-3.csv\u001b[0m\r\n",
      "---\u001b[0m\r\n",
      "\u001b[0m\r\n",
      "==  ======\r\n",
      "id  name  \r\n",
      "==  ======\r\n",
      " 1  London\r\n",
      " 2  Berlin\r\n",
      " 3  Paris \r\n",
      " 4  Madrid\r\n",
      " 5  Rome  \r\n",
      "==  ======\r\n",
      "\u001b[0m\r\n",
      "\u001b[0m\r\n",
      "---\u001b[0m\r\n",
      "\u001b[1mdata: data/country-3.csv\u001b[0m\r\n",
      "---\u001b[0m\r\n",
      "\u001b[0m\r\n",
      "==  ==========  =======  ==========\r\n",
      "id  capital_id  name     population\r\n",
      "==  ==========  =======  ==========\r\n",
      " 1           1  Britain          67\r\n",
      " 2           3  France           67\r\n",
      " 3           2  Germany          83\r\n",
      " 4           5  Italy            60\r\n",
      " 5           4  Spain            47\r\n",
      "==  ==========  =======  ==========\r\n",
      "\u001b[0m\r\n"
     ]
    }
   ],
   "source": [
    "! frictionless extract data/*-3.csv"
   ]
  },
  {
   "cell_type": "markdown",
   "metadata": {},
   "source": [
    "In Python we can do the same by providing a glob for the `extract` function, but instead we will use `extract_package` by providing a package descriptor:"
   ]
  },
  {
   "cell_type": "code",
   "execution_count": 6,
   "metadata": {
    "execution": {
     "iopub.execute_input": "2020-12-02T10:41:59.896881Z",
     "iopub.status.busy": "2020-12-02T10:41:59.895957Z",
     "iopub.status.idle": "2020-12-02T10:41:59.925814Z",
     "shell.execute_reply": "2020-12-02T10:41:59.926327Z"
    }
   },
   "outputs": [
    {
     "name": "stdout",
     "output_type": "stream",
     "text": [
      "'data/country-3.csv'\n",
      "[Row([('id', 1), ('capital_id', 1), ('name', 'Britain'), ('population', 67)]),\n",
      " Row([('id', 2), ('capital_id', 3), ('name', 'France'), ('population', 67)]),\n",
      " Row([('id', 3), ('capital_id', 2), ('name', 'Germany'), ('population', 83)]),\n",
      " Row([('id', 4), ('capital_id', 5), ('name', 'Italy'), ('population', 60)]),\n",
      " Row([('id', 5), ('capital_id', 4), ('name', 'Spain'), ('population', 47)])]\n",
      "'data/capital-3.csv'\n",
      "[Row([('id', 1), ('name', 'London')]),\n",
      " Row([('id', 2), ('name', 'Berlin')]),\n",
      " Row([('id', 3), ('name', 'Paris')]),\n",
      " Row([('id', 4), ('name', 'Madrid')]),\n",
      " Row([('id', 5), ('name', 'Rome')])]\n"
     ]
    }
   ],
   "source": [
    "from frictionless import extract_package\n",
    "\n",
    "data = extract_package({'resources':[{'path': 'data/country-3.csv'}, {'path': 'data/capital-3.csv'}]})\n",
    "for path, rows in data.items():\n",
    "  pprint(path)\n",
    "  pprint(rows)"
   ]
  },
  {
   "cell_type": "markdown",
   "metadata": {},
   "source": [
    "### Extracting Resource\n",
    "\n",
    "A resource contains only one file and for extracting a resource we can use the same approach we used above but providing only one file. We will extract data using a metadata descriptor:"
   ]
  },
  {
   "cell_type": "code",
   "execution_count": 7,
   "metadata": {
    "execution": {
     "iopub.execute_input": "2020-12-02T10:41:59.935821Z",
     "iopub.status.busy": "2020-12-02T10:41:59.934653Z",
     "iopub.status.idle": "2020-12-02T10:41:59.950695Z",
     "shell.execute_reply": "2020-12-02T10:41:59.951462Z"
    }
   },
   "outputs": [
    {
     "name": "stdout",
     "output_type": "stream",
     "text": [
      "[Row([('id', 1), ('name', 'London')]),\n",
      " Row([('id', 2), ('name', 'Berlin')]),\n",
      " Row([('id', 3), ('name', 'Paris')]),\n",
      " Row([('id', 4), ('name', 'Madrid')]),\n",
      " Row([('id', 5), ('name', 'Rome')])]\n"
     ]
    }
   ],
   "source": [
    "from frictionless import extract_resource\n",
    "\n",
    "rows = extract_resource({'path': 'data/capital-3.csv'})\n",
    "pprint(rows)"
   ]
  },
  {
   "cell_type": "markdown",
   "metadata": {},
   "source": [
    "Usually, the code above doesn't really make sense as we can just provide a path to the high-level `extract` function instead of a descriptor to the `extract_resource` function but the power of the descriptor is that it can contain different metadata and be stored on the disc. Let's extend our example:"
   ]
  },
  {
   "cell_type": "code",
   "execution_count": 8,
   "metadata": {
    "execution": {
     "iopub.execute_input": "2020-12-02T10:41:59.958178Z",
     "iopub.status.busy": "2020-12-02T10:41:59.957398Z",
     "iopub.status.idle": "2020-12-02T10:41:59.965365Z",
     "shell.execute_reply": "2020-12-02T10:41:59.964305Z"
    }
   },
   "outputs": [],
   "source": [
    "from frictionless import Resource\n",
    "\n",
    "resource = Resource(path='data/capital-3.csv')\n",
    "resource.schema.missing_values.append('3')\n",
    "resource.to_yaml('tmp/capital.resource.yaml')"
   ]
  },
  {
   "cell_type": "code",
   "execution_count": 9,
   "metadata": {
    "execution": {
     "iopub.execute_input": "2020-12-02T10:41:59.975084Z",
     "iopub.status.busy": "2020-12-02T10:41:59.974229Z",
     "iopub.status.idle": "2020-12-02T10:42:01.056467Z",
     "shell.execute_reply": "2020-12-02T10:42:01.055472Z"
    }
   },
   "outputs": [
    {
     "name": "stdout",
     "output_type": "stream",
     "text": [
      "---\u001b[0m\r\n",
      "\u001b[1mdata: tmp/capital.resource.yaml\u001b[0m\r\n",
      "---\u001b[0m\r\n",
      "\u001b[0m\r\n",
      "====  ======\r\n",
      "id    name  \r\n",
      "====  ======\r\n",
      "   1  London\r\n",
      "   2  Berlin\r\n",
      "None  Paris \r\n",
      "   4  Madrid\r\n",
      "   5  Rome  \r\n",
      "====  ======\r\n",
      "\u001b[0m\r\n"
     ]
    }
   ],
   "source": [
    "! frictionless extract tmp/capital.resource.yaml --basepath ."
   ]
  },
  {
   "cell_type": "markdown",
   "metadata": {},
   "source": [
    "So what's happened? We set textual representation of the number \"3\" to be a missing value. It was done only for the presentational purpose because it's definitely not a missing value. On the other hand, it demonstrated how metadata can be used.\n",
    "\n",
    "### Extracting Table\n",
    "\n",
    "While the package and resource concepts contain both data and metadata, a table is solely data. Because of this fact we can provide many more options to the `extract_table` function. Most of these options are encapsulated into the resource descriptor as we saw with the `missingValues` example above. We will reproduce it:"
   ]
  },
  {
   "cell_type": "code",
   "execution_count": 10,
   "metadata": {
    "execution": {
     "iopub.execute_input": "2020-12-02T10:42:01.078767Z",
     "iopub.status.busy": "2020-12-02T10:42:01.077410Z",
     "iopub.status.idle": "2020-12-02T10:42:01.082967Z",
     "shell.execute_reply": "2020-12-02T10:42:01.083474Z"
    }
   },
   "outputs": [
    {
     "name": "stdout",
     "output_type": "stream",
     "text": [
      "[Row([('id', 1), ('name', 'London')]),\n",
      " Row([('id', 2), ('name', 'Berlin')]),\n",
      " Row([('id', None), ('name', 'Paris')]),\n",
      " Row([('id', 4), ('name', 'Madrid')]),\n",
      " Row([('id', 5), ('name', 'Rome')])]\n"
     ]
    }
   ],
   "source": [
    "from frictionless import extract_table\n",
    "\n",
    "rows = extract_table('data/capital-3.csv', patch_schema={'missingValues': ['', '3']})\n",
    "pprint(rows)"
   ]
  },
  {
   "cell_type": "markdown",
   "metadata": {},
   "source": [
    "We got an identical result but it's important to understand that on the table level we need to provide all the metadata options separately while a resource encapsulate all these metadata. Please check the `extract_table` API Reference as it has a lot of options. We're going to discuss some of them below.\n",
    "\n",
    "## Extraction Options\n",
    "\n",
    "All the `extract` fuctions accept those common argument:\n",
    "- `process`: it's a function getting a row object and returning whatever is needed as an ouput of the data extraction e.g. `lambda row: row.to_dict()`\n",
    "- `stream`: instead of reading all the data into memory it will return row stream(s)\n",
    "\n",
    "### Package/Resource\n",
    "\n",
    "These `extract` functions doesn't accept any additional arguments.\n",
    "\n",
    "### Table\n",
    "\n",
    "We will take a look at all the `extract_table` options in the sections below. As an overview, it accepts:\n",
    "- File Details\n",
    "- File Control\n",
    "- Table Dialect\n",
    "- Table Query\n",
    "- Header Options\n",
    "- Schema Options\n",
    "- Integrity Options\n",
    "- Infer Options (see \"Describing Data\")\n",
    "\n",
    "## Using Package\n",
    "\n",
    "The Package class is a metadata class which provides an ability to read its contents. First of all, let's create a package descriptor:"
   ]
  },
  {
   "cell_type": "code",
   "execution_count": 11,
   "metadata": {
    "execution": {
     "iopub.execute_input": "2020-12-02T10:42:01.092910Z",
     "iopub.status.busy": "2020-12-02T10:42:01.091510Z",
     "iopub.status.idle": "2020-12-02T10:42:02.235795Z",
     "shell.execute_reply": "2020-12-02T10:42:02.234131Z"
    }
   },
   "outputs": [],
   "source": [
    "! frictionless describe data/*-3.csv --json > tmp/country.package.json"
   ]
  },
  {
   "cell_type": "markdown",
   "metadata": {},
   "source": [
    "Now, we can open the created descriptor and read the package's resources:"
   ]
  },
  {
   "cell_type": "code",
   "execution_count": 12,
   "metadata": {
    "execution": {
     "iopub.execute_input": "2020-12-02T10:42:02.253766Z",
     "iopub.status.busy": "2020-12-02T10:42:02.245800Z",
     "iopub.status.idle": "2020-12-02T10:42:02.266129Z",
     "shell.execute_reply": "2020-12-02T10:42:02.267414Z"
    }
   },
   "outputs": [
    {
     "name": "stdout",
     "output_type": "stream",
     "text": [
      "[Row([('id', 1), ('capital_id', 1), ('name', 'Britain'), ('population', 67)]),\n",
      " Row([('id', 2), ('capital_id', 3), ('name', 'France'), ('population', 67)]),\n",
      " Row([('id', 3), ('capital_id', 2), ('name', 'Germany'), ('population', 83)]),\n",
      " Row([('id', 4), ('capital_id', 5), ('name', 'Italy'), ('population', 60)]),\n",
      " Row([('id', 5), ('capital_id', 4), ('name', 'Spain'), ('population', 47)])]\n",
      "[Row([('id', 1), ('name', 'London')]),\n",
      " Row([('id', 2), ('name', 'Berlin')]),\n",
      " Row([('id', 3), ('name', 'Paris')]),\n",
      " Row([('id', 4), ('name', 'Madrid')]),\n",
      " Row([('id', 5), ('name', 'Rome')])]\n"
     ]
    }
   ],
   "source": [
    "from frictionless import Package\n",
    "\n",
    "package = Package('tmp/country.package.json', basepath='.')\n",
    "pprint(package.get_resource('country-3').read_rows())\n",
    "pprint(package.get_resource('capital-3').read_rows())"
   ]
  },
  {
   "cell_type": "markdown",
   "metadata": {},
   "source": [
    "The package by itself doesn't provide any read functions directly as it's a role of its resources. So everything written below for the Resource class can be used within a package.\n",
    "\n",
    "## Using Resource\n",
    "\n",
    "The Resource class is also a metadata class which provides various read and stream functions. Let's create a resource descriptor:"
   ]
  },
  {
   "cell_type": "code",
   "execution_count": 13,
   "metadata": {
    "execution": {
     "iopub.execute_input": "2020-12-02T10:42:02.276679Z",
     "iopub.status.busy": "2020-12-02T10:42:02.275927Z",
     "iopub.status.idle": "2020-12-02T10:42:03.390452Z",
     "shell.execute_reply": "2020-12-02T10:42:03.392674Z"
    }
   },
   "outputs": [],
   "source": [
    "! frictionless describe data/country-3.csv --json > tmp/country.resource.json"
   ]
  },
  {
   "cell_type": "markdown",
   "metadata": {},
   "source": [
    "### Exploring Data\n",
    "\n",
    "There are various functions to help explore your resource, such as checking a header or other attributes like stats:"
   ]
  },
  {
   "cell_type": "code",
   "execution_count": 14,
   "metadata": {
    "execution": {
     "iopub.execute_input": "2020-12-02T10:42:03.401600Z",
     "iopub.status.busy": "2020-12-02T10:42:03.400773Z",
     "iopub.status.idle": "2020-12-02T10:42:03.470317Z",
     "shell.execute_reply": "2020-12-02T10:42:03.471106Z"
    }
   },
   "outputs": [
    {
     "name": "stdout",
     "output_type": "stream",
     "text": [
      "['id', 'capital_id', 'name', 'population']\n",
      "[['1', '1', 'Britain', '67'],\n",
      " ['2', '3', 'France', '67'],\n",
      " ['3', '2', 'Germany', '83'],\n",
      " ['4', '5', 'Italy', '60'],\n",
      " ['5', '4', 'Spain', '47']]\n",
      "{'bytes': 100,\n",
      " 'fields': 4,\n",
      " 'hash': 'c0558b91523683483f86f63346d06d81',\n",
      " 'rows': 5}\n"
     ]
    }
   ],
   "source": [
    "from frictionless import Resource\n",
    "\n",
    "resource = Resource('tmp/country.resource.json', basepath='.')\n",
    "pprint(resource.read_header())\n",
    "pprint(resource.read_sample())\n",
    "pprint(resource.read_stats())"
   ]
  },
  {
   "cell_type": "markdown",
   "metadata": {},
   "source": [
    "### Reading Data\n",
    "\n",
    "The `extract` functions always read rows into memory; Resource can do the same but it also gives a choice regarding ouput data. It can be `rows`, `data`, `text`, or `bytes`. Let's try reading all of them:"
   ]
  },
  {
   "cell_type": "code",
   "execution_count": 15,
   "metadata": {
    "execution": {
     "iopub.execute_input": "2020-12-02T10:42:03.481578Z",
     "iopub.status.busy": "2020-12-02T10:42:03.480290Z",
     "iopub.status.idle": "2020-12-02T10:42:03.503758Z",
     "shell.execute_reply": "2020-12-02T10:42:03.504853Z"
    }
   },
   "outputs": [
    {
     "name": "stdout",
     "output_type": "stream",
     "text": [
      "(b'id,capital_id,name,population\\n1,1,Britain,67\\n2,3,France,67\\n3,2,Germany,8'\n",
      " b'3\\n4,5,Italy,60\\n5,4,Spain,47\\n')\n"
     ]
    },
    {
     "name": "stdout",
     "output_type": "stream",
     "text": [
      "('id,capital_id,name,population\\n'\n",
      " '1,1,Britain,67\\n'\n",
      " '2,3,France,67\\n'\n",
      " '3,2,Germany,83\\n'\n",
      " '4,5,Italy,60\\n'\n",
      " '5,4,Spain,47\\n')\n",
      "[['1', '1', 'Britain', '67'],\n",
      " ['2', '3', 'France', '67'],\n",
      " ['3', '2', 'Germany', '83'],\n",
      " ['4', '5', 'Italy', '60'],\n",
      " ['5', '4', 'Spain', '47']]\n",
      "[Row([('id', 1), ('capital_id', 1), ('name', 'Britain'), ('population', 67)]),\n",
      " Row([('id', 2), ('capital_id', 3), ('name', 'France'), ('population', 67)]),\n",
      " Row([('id', 3), ('capital_id', 2), ('name', 'Germany'), ('population', 83)]),\n",
      " Row([('id', 4), ('capital_id', 5), ('name', 'Italy'), ('population', 60)]),\n",
      " Row([('id', 5), ('capital_id', 4), ('name', 'Spain'), ('population', 47)])]\n"
     ]
    }
   ],
   "source": [
    "from frictionless import Resource\n",
    "\n",
    "resource = Resource('tmp/country.resource.json', basepath='.')\n",
    "pprint(resource.read_bytes())\n",
    "pprint(resource.read_text())\n",
    "pprint(resource.read_data())\n",
    "pprint(resource.read_rows())"
   ]
  },
  {
   "cell_type": "markdown",
   "metadata": {},
   "source": [
    "### Streaming Data\n",
    "\n",
    "It's really handy to read all your data into memory but it's not always possible as a file can be really big. For such cases, Frictionless provides streaming functions:"
   ]
  },
  {
   "cell_type": "code",
   "execution_count": 16,
   "metadata": {
    "execution": {
     "iopub.execute_input": "2020-12-02T10:42:03.513592Z",
     "iopub.status.busy": "2020-12-02T10:42:03.512326Z",
     "iopub.status.idle": "2020-12-02T10:42:03.525867Z",
     "shell.execute_reply": "2020-12-02T10:42:03.526932Z"
    }
   },
   "outputs": [
    {
     "name": "stdout",
     "output_type": "stream",
     "text": [
      "<frictionless.loader.ByteStreamWithStatsHandling object at 0x7fe7e3664910>\n",
      "<_io.TextIOWrapper name='./data/country-3.csv' encoding='utf-8'>\n",
      "<generator object Resource.read_data_stream at 0x7fe7e3c93a50>\n",
      "<generator object Resource.read_row_stream at 0x7fe7e3c93a50>\n",
      "Row([('id', 1), ('capital_id', 1), ('name', 'Britain'), ('population', 67)])\n",
      "Row([('id', 2), ('capital_id', 3), ('name', 'France'), ('population', 67)])\n",
      "Row([('id', 3), ('capital_id', 2), ('name', 'Germany'), ('population', 83)])\n",
      "Row([('id', 4), ('capital_id', 5), ('name', 'Italy'), ('population', 60)])\n",
      "Row([('id', 5), ('capital_id', 4), ('name', 'Spain'), ('population', 47)])\n"
     ]
    }
   ],
   "source": [
    "from frictionless import Resource\n",
    "\n",
    "resource = Resource('tmp/country.resource.json', basepath='.')\n",
    "pprint(resource.read_byte_stream())\n",
    "pprint(resource.read_text_stream())\n",
    "pprint(resource.read_data_stream())\n",
    "pprint(resource.read_row_stream())\n",
    "for row in resource.read_row_stream():\n",
    "  print(row)"
   ]
  },
  {
   "cell_type": "markdown",
   "metadata": {},
   "source": [
    "## Using Table\n",
    "\n",
    "The Table class is at the heart of all the tabular capabilities of Frictionless. It's used by all the higher-level classes and provides a comprehensive user interface by itself. The main difference with, for example, Resource class is that Table has a state of a lower-level file descriptor and needs to be opened and closed. Usually we use a context manager (the `with` keyword) to work with Table. In-general, Table is a streaming interface that needs to be re-opened if data is already read.\n",
    "\n",
    "### Exploring Data\n",
    "\n",
    "First of all, let's take a look at the file details information:"
   ]
  },
  {
   "cell_type": "code",
   "execution_count": 17,
   "metadata": {
    "execution": {
     "iopub.execute_input": "2020-12-02T10:42:03.535019Z",
     "iopub.status.busy": "2020-12-02T10:42:03.533787Z",
     "iopub.status.idle": "2020-12-02T10:42:03.549386Z",
     "shell.execute_reply": "2020-12-02T10:42:03.550527Z"
    }
   },
   "outputs": [
    {
     "name": "stdout",
     "output_type": "stream",
     "text": [
      "Source: \"data/capital-3.csv\"\n",
      "Scheme: \"file\"\n",
      "Format: \"csv\"\n",
      "Hashing: \"md5\"\n",
      "Encoding: \"utf-8\"\n",
      "Compression: \"no\"\n",
      "Compression Path: \"\"\n"
     ]
    }
   ],
   "source": [
    "from frictionless import Table\n",
    "\n",
    "with Table('data/capital-3.csv') as table:\n",
    "  print(f'Source: \"{table.source}\"')\n",
    "  print(f'Scheme: \"{table.scheme}\"')\n",
    "  print(f'Format: \"{table.format}\"')\n",
    "  print(f'Hashing: \"{table.hashing}\"')\n",
    "  print(f'Encoding: \"{table.encoding}\"')\n",
    "  print(f'Compression: \"{table.compression}\"')\n",
    "  print(f'Compression Path: \"{table.compression_path}\"')"
   ]
  },
  {
   "cell_type": "markdown",
   "metadata": {},
   "source": [
    "There is much more information available; we will explain some of it later in the sections below:"
   ]
  },
  {
   "cell_type": "code",
   "execution_count": 18,
   "metadata": {
    "execution": {
     "iopub.execute_input": "2020-12-02T10:42:03.556785Z",
     "iopub.status.busy": "2020-12-02T10:42:03.556121Z",
     "iopub.status.idle": "2020-12-02T10:42:03.571777Z",
     "shell.execute_reply": "2020-12-02T10:42:03.572642Z"
    }
   },
   "outputs": [
    {
     "name": "stdout",
     "output_type": "stream",
     "text": [
      "Control: \"{'newline': ''}\"\n",
      "Dialect: \"{}\"\n",
      "Query: \"{}\"\n",
      "Header: \"['id', 'name']\"\n",
      "Schema: \"{'fields': [{'name': 'id', 'type': 'integer'}, {'name': 'name', 'type': 'string'}]}\"\n",
      "Sample: \"[['1', 'London'], ['2', 'Berlin'], ['3', 'Paris'], ['4', 'Madrid'], ['5', 'Rome']]\"\n",
      "Stats: \"{'hash': 'e7b6592a0a4356ba834e4bf1c8e8c7f8', 'bytes': 50, 'fields': 2, 'rows': 0}\"\n"
     ]
    }
   ],
   "source": [
    "from frictionless import Table\n",
    "\n",
    "with Table('data/capital-3.csv') as table:\n",
    "  print(f'Control: \"{table.control}\"')\n",
    "  print(f'Dialect: \"{table.dialect}\"')\n",
    "  print(f'Query: \"{table.query}\"')\n",
    "  print(f'Header: \"{table.header}\"')\n",
    "  print(f'Schema: \"{table.schema}\"')\n",
    "  print(f'Sample: \"{table.sample}\"')\n",
    "  print(f'Stats: \"{table.stats}\"')"
   ]
  },
  {
   "cell_type": "markdown",
   "metadata": {},
   "source": [
    "Many of the properties above not only can be read from the existent Table but also can be provided as an option to alter the Table behaviour, for example:"
   ]
  },
  {
   "cell_type": "code",
   "execution_count": 19,
   "metadata": {
    "execution": {
     "iopub.execute_input": "2020-12-02T10:42:03.592170Z",
     "iopub.status.busy": "2020-12-02T10:42:03.591008Z",
     "iopub.status.idle": "2020-12-02T10:42:03.598339Z",
     "shell.execute_reply": "2020-12-02T10:42:03.597167Z"
    }
   },
   "outputs": [
    {
     "name": "stdout",
     "output_type": "stream",
     "text": [
      "data/capital-3.csv\n",
      "file\n",
      "csv\n"
     ]
    }
   ],
   "source": [
    "from frictionless import Table\n",
    "\n",
    "with Table('data/capital-3.csv', scheme='file', format='csv') as table:\n",
    "  print(table.source)\n",
    "  print(table.scheme)\n",
    "  print(table.format)"
   ]
  },
  {
   "cell_type": "markdown",
   "metadata": {},
   "source": [
    "### Reading Data\n",
    "\n",
    "There are 2 different types of ouput that Table can produce:"
   ]
  },
  {
   "cell_type": "code",
   "execution_count": 20,
   "metadata": {
    "execution": {
     "iopub.execute_input": "2020-12-02T10:42:03.608726Z",
     "iopub.status.busy": "2020-12-02T10:42:03.606918Z",
     "iopub.status.idle": "2020-12-02T10:42:03.631024Z",
     "shell.execute_reply": "2020-12-02T10:42:03.632011Z"
    }
   },
   "outputs": [
    {
     "name": "stdout",
     "output_type": "stream",
     "text": [
      "[['1', 'London'],\n",
      " ['2', 'Berlin'],\n",
      " ['3', 'Paris'],\n",
      " ['4', 'Madrid'],\n",
      " ['5', 'Rome']]\n",
      "[Row([('id', 1), ('name', 'London')]),\n",
      " Row([('id', 2), ('name', 'Berlin')]),\n",
      " Row([('id', 3), ('name', 'Paris')]),\n",
      " Row([('id', 4), ('name', 'Madrid')]),\n",
      " Row([('id', 5), ('name', 'Rome')])]\n"
     ]
    }
   ],
   "source": [
    "from frictionless import Table\n",
    "\n",
    "with Table('data/capital-3.csv') as table:\n",
    "  pprint(table.read_data())\n",
    "with Table('data/capital-3.csv') as table:\n",
    "  pprint(table.read_rows())"
   ]
  },
  {
   "cell_type": "markdown",
   "metadata": {},
   "source": [
    "The `data` format is just a raw array of arrays similiar to JSON while the `row` format is a rich object with all the cells normalized and converted to proper types. We will explore the Row class later.\n",
    "\n",
    "### Streaming Data\n",
    "\n",
    "It was mentioned for Resource and it's the same for Table, we can stream our tabular data. The core difference is that Table is stateful so we use properties instead of the read functions:"
   ]
  },
  {
   "cell_type": "code",
   "execution_count": 21,
   "metadata": {
    "execution": {
     "iopub.execute_input": "2020-12-02T10:42:03.644486Z",
     "iopub.status.busy": "2020-12-02T10:42:03.642024Z",
     "iopub.status.idle": "2020-12-02T10:42:03.672101Z",
     "shell.execute_reply": "2020-12-02T10:42:03.673015Z"
    }
   },
   "outputs": [
    {
     "name": "stdout",
     "output_type": "stream",
     "text": [
      "<generator object Table.__read_data_stream_create at 0x7fe7fd726c10>\n",
      "['1', 'London']\n",
      "['2', 'Berlin']\n",
      "['3', 'Paris']\n",
      "['4', 'Madrid']\n",
      "['5', 'Rome']\n"
     ]
    },
    {
     "name": "stdout",
     "output_type": "stream",
     "text": [
      "<generator object Table.__read_row_stream_create at 0x7fe7fd726900>\n",
      "Row([('id', 1), ('name', 'London')])\n",
      "Row([('id', 2), ('name', 'Berlin')])\n",
      "Row([('id', 3), ('name', 'Paris')])\n",
      "Row([('id', 4), ('name', 'Madrid')])\n",
      "Row([('id', 5), ('name', 'Rome')])\n"
     ]
    }
   ],
   "source": [
    "from frictionless import Table\n",
    "\n",
    "with Table('data/capital-3.csv') as table:\n",
    "  pprint(table.data_stream)\n",
    "  for cells in table.data_stream:\n",
    "    print(cells)\n",
    "with Table('data/capital-3.csv') as table:\n",
    "  pprint(table.row_stream)\n",
    "  for row in table.row_stream:\n",
    "    print(row)"
   ]
  },
  {
   "cell_type": "markdown",
   "metadata": {},
   "source": [
    "### Table's Lifecycle\n",
    "\n",
    "You might have noticed that we had to duplicate the `with Table(...)` statement in some examples. The reason is that Table is a streaming interface. Once it's read you need to open it again. Let's show it in an example:"
   ]
  },
  {
   "cell_type": "code",
   "execution_count": 22,
   "metadata": {
    "execution": {
     "iopub.execute_input": "2020-12-02T10:42:03.686506Z",
     "iopub.status.busy": "2020-12-02T10:42:03.684010Z",
     "iopub.status.idle": "2020-12-02T10:42:03.702522Z",
     "shell.execute_reply": "2020-12-02T10:42:03.703802Z"
    }
   },
   "outputs": [
    {
     "name": "stdout",
     "output_type": "stream",
     "text": [
      "[Row([('id', 1), ('name', 'London')]),\n",
      " Row([('id', 2), ('name', 'Berlin')]),\n",
      " Row([('id', 3), ('name', 'Paris')]),\n",
      " Row([('id', 4), ('name', 'Madrid')]),\n",
      " Row([('id', 5), ('name', 'Rome')])]\n",
      "[]\n",
      "[Row([('id', 1), ('name', 'London')]),\n",
      " Row([('id', 2), ('name', 'Berlin')]),\n",
      " Row([('id', 3), ('name', 'Paris')]),\n",
      " Row([('id', 4), ('name', 'Madrid')]),\n",
      " Row([('id', 5), ('name', 'Rome')])]\n"
     ]
    }
   ],
   "source": [
    "from frictionless import Table\n",
    "\n",
    "table = Table('data/capital-3.csv')\n",
    "table.open()\n",
    "pprint(table.read_rows())\n",
    "pprint(table.read_rows())\n",
    "# We need to re-open: there is no data left\n",
    "table.open()\n",
    "pprint(table.read_rows())\n",
    "# We need to close manually: not context manager is used\n",
    "table.close()"
   ]
  },
  {
   "cell_type": "markdown",
   "metadata": {},
   "source": [
    "## File Details\n",
    "\n",
    "Let's overview the details we can specify for a file. Usually you don't need to provide those details as Frictionless is capable to infer it on its own. Although, there are situation when you need to specify it manually. The following example will use the `Table` class but the same options can be used for the `extract` and `extract_table` functions.\n",
    "\n",
    "### Scheme\n",
    "\n",
    "The scheme also know as protocol indicates which loader Frictionless should use to read or write data. It can be `file` (default), `text`, `http`, `https`, `s3`, and others."
   ]
  },
  {
   "cell_type": "code",
   "execution_count": 23,
   "metadata": {
    "execution": {
     "iopub.execute_input": "2020-12-02T10:42:03.720249Z",
     "iopub.status.busy": "2020-12-02T10:42:03.719062Z",
     "iopub.status.idle": "2020-12-02T10:42:03.726542Z",
     "shell.execute_reply": "2020-12-02T10:42:03.725685Z"
    }
   },
   "outputs": [
    {
     "name": "stdout",
     "output_type": "stream",
     "text": [
      "text\n",
      "[Row([('header1', 'value1'), ('header2', 'value2.csv')])]\n"
     ]
    }
   ],
   "source": [
    "from frictionless import Table\n",
    "\n",
    "with Table('header1,header2\\nvalue1,value2.csv', scheme='text') as table:\n",
    "  print(table.scheme)\n",
    "  print(table.read_rows())"
   ]
  },
  {
   "cell_type": "markdown",
   "metadata": {},
   "source": [
    "### Format\n",
    "\n",
    "The format or as it's also called extension helps Frictionless to choose a proper parser to handle the file. Popular formats are `csv`, `xlsx`, `json` and others"
   ]
  },
  {
   "cell_type": "code",
   "execution_count": 24,
   "metadata": {
    "execution": {
     "iopub.execute_input": "2020-12-02T10:42:03.742403Z",
     "iopub.status.busy": "2020-12-02T10:42:03.741154Z",
     "iopub.status.idle": "2020-12-02T10:42:03.746729Z",
     "shell.execute_reply": "2020-12-02T10:42:03.745808Z"
    }
   },
   "outputs": [
    {
     "name": "stdout",
     "output_type": "stream",
     "text": [
      "csv\n",
      "[Row([('header1', 'value1'), ('header2', 'value2')])]\n"
     ]
    }
   ],
   "source": [
    "from frictionless import Table\n",
    "\n",
    "with Table('text://header1,header2\\nvalue1,value2.csv', format='csv') as table:\n",
    "  print(table.format)\n",
    "  print(table.read_rows())"
   ]
  },
  {
   "cell_type": "markdown",
   "metadata": {},
   "source": [
    "### Hashing\n",
    "\n",
    "The hashing option controls which hashing algorithm should be used for generating the `hash` property. It doesn't affect the `extract` function but can be used with the `Table` class:"
   ]
  },
  {
   "cell_type": "code",
   "execution_count": 25,
   "metadata": {
    "execution": {
     "iopub.execute_input": "2020-12-02T10:42:03.754207Z",
     "iopub.status.busy": "2020-12-02T10:42:03.752887Z",
     "iopub.status.idle": "2020-12-02T10:42:03.771518Z",
     "shell.execute_reply": "2020-12-02T10:42:03.770241Z"
    }
   },
   "outputs": [
    {
     "name": "stdout",
     "output_type": "stream",
     "text": [
      "sha256\n",
      "408b5058f961915c1e1f3bc318ab01d7d094a4daccdf03ad6022cfc7b8ea4e3e\n"
     ]
    }
   ],
   "source": [
    "from frictionless import Table\n",
    "\n",
    "with Table('data/country-3.csv', hashing='sha256') as table:\n",
    "  table.read_rows()\n",
    "  print(table.hashing)\n",
    "  print(table.stats['hash'])"
   ]
  },
  {
   "cell_type": "markdown",
   "metadata": {},
   "source": [
    "### Encoding\n",
    "\n",
    "Frictionless automatically detects encoding of files but sometimes it can be innacurate. It's possible to provide an encoding manually:"
   ]
  },
  {
   "cell_type": "code",
   "execution_count": 26,
   "metadata": {
    "execution": {
     "iopub.execute_input": "2020-12-02T10:42:03.787266Z",
     "iopub.status.busy": "2020-12-02T10:42:03.780943Z",
     "iopub.status.idle": "2020-12-02T10:42:03.796695Z",
     "shell.execute_reply": "2020-12-02T10:42:03.797374Z"
    }
   },
   "outputs": [
    {
     "name": "stdout",
     "output_type": "stream",
     "text": [
      "utf-8\n",
      "data/country-3.csv\n"
     ]
    }
   ],
   "source": [
    "from frictionless import Table\n",
    "\n",
    "with Table('data/country-3.csv', encoding='utf-8') as table:\n",
    "  print(table.encoding)\n",
    "  print(table.source)"
   ]
  },
  {
   "cell_type": "markdown",
   "metadata": {},
   "source": [
    "### Compression\n",
    "\n",
    "It's possible to adjust compression detection by providing the algorithm explicitly. For the example below it's not required as it would be detected anyway:"
   ]
  },
  {
   "cell_type": "code",
   "execution_count": 27,
   "metadata": {
    "execution": {
     "iopub.execute_input": "2020-12-02T10:42:03.806386Z",
     "iopub.status.busy": "2020-12-02T10:42:03.805224Z",
     "iopub.status.idle": "2020-12-02T10:42:03.821730Z",
     "shell.execute_reply": "2020-12-02T10:42:03.822617Z"
    }
   },
   "outputs": [
    {
     "name": "stdout",
     "output_type": "stream",
     "text": [
      "zip\n",
      "[Row([('id', 1), ('name', 'english')]), Row([('id', 2), ('name', '中国人')])]\n"
     ]
    }
   ],
   "source": [
    "from frictionless import Table\n",
    "\n",
    "with Table('data/table.csv.zip', compression='zip') as table:\n",
    "  print(table.compression)\n",
    "  print(table.read_rows())"
   ]
  },
  {
   "cell_type": "markdown",
   "metadata": {},
   "source": [
    "### Compression Path\n",
    "\n",
    "By default, Frictionless uses the first file found in a zip archive. It's possible to adjust this behaviour:"
   ]
  },
  {
   "cell_type": "code",
   "execution_count": 28,
   "metadata": {
    "execution": {
     "iopub.execute_input": "2020-12-02T10:42:03.832258Z",
     "iopub.status.busy": "2020-12-02T10:42:03.830207Z",
     "iopub.status.idle": "2020-12-02T10:42:03.853624Z",
     "shell.execute_reply": "2020-12-02T10:42:03.852222Z"
    }
   },
   "outputs": [
    {
     "name": "stdout",
     "output_type": "stream",
     "text": [
      "zip\n",
      "table-reverse.csv\n",
      "[Row([('id', 1), ('name', '中国人')]), Row([('id', 2), ('name', 'english')])]\n"
     ]
    }
   ],
   "source": [
    "from frictionless import Table\n",
    "\n",
    "with Table('data/table-multiple-files.zip', compression_path='table-reverse.csv') as table:\n",
    "  print(table.compression)\n",
    "  print(table.compression_path)\n",
    "  print(table.read_rows())"
   ]
  },
  {
   "cell_type": "markdown",
   "metadata": {},
   "source": [
    "Further reading:\n",
    "- Schemes Reference\n",
    "- Formats Reference\n",
    "\n",
    "## File Control\n",
    "\n",
    "The Control object allows you to manage the loader used by the Table class. In most cases, you don't need to provide any Control settings but sometimes it can be useful:"
   ]
  },
  {
   "cell_type": "code",
   "execution_count": 29,
   "metadata": {
    "execution": {
     "iopub.execute_input": "2020-12-02T10:42:03.878329Z",
     "iopub.status.busy": "2020-12-02T10:42:03.876961Z",
     "iopub.status.idle": "2020-12-02T10:42:04.292969Z",
     "shell.execute_reply": "2020-12-02T10:42:04.293955Z"
    }
   },
   "outputs": [
    {
     "name": "stdout",
     "output_type": "stream",
     "text": [
      "{'httpTimeout': 10, 'newline': ''}\n",
      "[Row([('id', 1), ('name', 'english')]), Row([('id', 2), ('name', '中国人')])]\n"
     ]
    }
   ],
   "source": [
    "from frictionless import Table\n",
    "from frictionless.plugins.remote import RemoteControl\n",
    "\n",
    "source = 'https://raw.githubusercontent.com/frictionlessdata/frictionless-py/master/data/table.csv'\n",
    "control = RemoteControl(http_timeout=10)\n",
    "with Table(source, control=control) as table:\n",
    "  print(table.control)\n",
    "  print(table.read_rows())"
   ]
  },
  {
   "cell_type": "markdown",
   "metadata": {},
   "source": [
    "Exact parameters depend on schemes and can be found in the \"Schemes Reference\". For example, the Remote Control provides `http_timeout`, `http_session`, and others but there is only one option available for all controls:\n",
    "\n",
    "### Detect Encoding\n",
    "\n",
    "It's a function that can be provided to adjust the encoding detection. This function accepts a data sample and returns a detected encoding:"
   ]
  },
  {
   "cell_type": "code",
   "execution_count": 30,
   "metadata": {
    "execution": {
     "iopub.execute_input": "2020-12-02T10:42:04.307277Z",
     "iopub.status.busy": "2020-12-02T10:42:04.305569Z",
     "iopub.status.idle": "2020-12-02T10:42:04.317068Z",
     "shell.execute_reply": "2020-12-02T10:42:04.316322Z"
    }
   },
   "outputs": [
    {
     "name": "stdout",
     "output_type": "stream",
     "text": [
      "data/capital-3.csv\n",
      "utf-8\n"
     ]
    }
   ],
   "source": [
    "from frictionless import Table, Control\n",
    "\n",
    "control = Control(detect_encoding=lambda sample: \"utf-8\")\n",
    "with Table(\"data/capital-3.csv\", control=control) as table:\n",
    "  print(table.source)\n",
    "  print(table.encoding)"
   ]
  },
  {
   "cell_type": "markdown",
   "metadata": {},
   "source": [
    "Further reading:\n",
    "- Schemes Reference\n",
    "\n",
    "## Table Dialect\n",
    "\n",
    "The Dialect adjusts the way tabular parsers work. The concept is similiar to the Control above. Let's use the CSV Dialect to adjust the delimiter configuration:"
   ]
  },
  {
   "cell_type": "code",
   "execution_count": 31,
   "metadata": {
    "execution": {
     "iopub.execute_input": "2020-12-02T10:42:04.332943Z",
     "iopub.status.busy": "2020-12-02T10:42:04.331540Z",
     "iopub.status.idle": "2020-12-02T10:42:04.336694Z",
     "shell.execute_reply": "2020-12-02T10:42:04.337597Z"
    }
   },
   "outputs": [
    {
     "name": "stdout",
     "output_type": "stream",
     "text": [
      "{'delimiter': ';'}\n",
      "[Row([('header1', 'value1'), ('header2', 'value2')])]\n"
     ]
    }
   ],
   "source": [
    "from frictionless import Table\n",
    "from frictionless.plugins.csv import CsvDialect\n",
    "\n",
    "source = 'header1;header2\\nvalue1;value2'\n",
    "dialect = CsvDialect(delimiter=';')\n",
    "with Table(source, scheme='text', format='csv', dialect=dialect) as table:\n",
    "  print(table.dialect)\n",
    "  print(table.read_rows())"
   ]
  },
  {
   "cell_type": "markdown",
   "metadata": {},
   "source": [
    "There are a great deal of options available for different dialects that can be found in \"Formats Reference\". We will list the properties that can be used with every dialect:\n",
    "\n",
    "### Header\n",
    "\n",
    "It's a boolean flag wich deaults to `True` indicating whether the data has a header row or not. In the following example the header row will be treated as a data row:"
   ]
  },
  {
   "cell_type": "code",
   "execution_count": 32,
   "metadata": {
    "execution": {
     "iopub.execute_input": "2020-12-02T10:42:04.346260Z",
     "iopub.status.busy": "2020-12-02T10:42:04.344941Z",
     "iopub.status.idle": "2020-12-02T10:42:04.355988Z",
     "shell.execute_reply": "2020-12-02T10:42:04.357023Z"
    }
   },
   "outputs": [
    {
     "name": "stdout",
     "output_type": "stream",
     "text": [
      "[]\n",
      "[Row([('field1', 'id'), ('field2', 'name')]),\n",
      " Row([('field1', '1'), ('field2', 'London')]),\n",
      " Row([('field1', '2'), ('field2', 'Berlin')]),\n",
      " Row([('field1', '3'), ('field2', 'Paris')]),\n",
      " Row([('field1', '4'), ('field2', 'Madrid')]),\n",
      " Row([('field1', '5'), ('field2', 'Rome')])]\n"
     ]
    }
   ],
   "source": [
    "from frictionless import Table, Dialect\n",
    "\n",
    "dialect = Dialect(header=False)\n",
    "with Table('data/capital-3.csv', dialect=dialect) as table:\n",
    "  pprint(table.header)\n",
    "  pprint(table.read_rows())"
   ]
  },
  {
   "cell_type": "markdown",
   "metadata": {},
   "source": [
    "### Header Rows\n",
    "\n",
    "If header is `True` which is default, this parameters indicates where to find the header row or header rows for a multiline header. Let's see on example how the first two data rows can be treated as a part of a header:"
   ]
  },
  {
   "cell_type": "code",
   "execution_count": 33,
   "metadata": {
    "execution": {
     "iopub.execute_input": "2020-12-02T10:42:04.369035Z",
     "iopub.status.busy": "2020-12-02T10:42:04.366562Z",
     "iopub.status.idle": "2020-12-02T10:42:04.380461Z",
     "shell.execute_reply": "2020-12-02T10:42:04.379751Z"
    }
   },
   "outputs": [
    {
     "name": "stdout",
     "output_type": "stream",
     "text": [
      "['id 1 2', 'name London Berlin']\n",
      "[Row([('id 1 2', 3), ('name London Berlin', 'Paris')]),\n",
      " Row([('id 1 2', 4), ('name London Berlin', 'Madrid')]),\n",
      " Row([('id 1 2', 5), ('name London Berlin', 'Rome')])]\n"
     ]
    }
   ],
   "source": [
    "from frictionless import Table, Dialect\n",
    "\n",
    "dialect = Dialect(header_rows=[1, 2, 3])\n",
    "with Table('data/capital-3.csv', dialect=dialect) as table:\n",
    "  pprint(table.header)\n",
    "  pprint(table.read_rows())"
   ]
  },
  {
   "cell_type": "markdown",
   "metadata": {},
   "source": [
    "### Header Join\n",
    "\n",
    "If there are multiple header rows which is managed by `header_rows` parameter, we can set a string to be a separator for a header's cell join operation. Usually it's very handy for some \"fancy\" Excel files. For the sake of simplicity, we will show on a CSV file:"
   ]
  },
  {
   "cell_type": "code",
   "execution_count": 34,
   "metadata": {
    "execution": {
     "iopub.execute_input": "2020-12-02T10:42:04.396429Z",
     "iopub.status.busy": "2020-12-02T10:42:04.394991Z",
     "iopub.status.idle": "2020-12-02T10:42:04.401425Z",
     "shell.execute_reply": "2020-12-02T10:42:04.400171Z"
    }
   },
   "outputs": [
    {
     "name": "stdout",
     "output_type": "stream",
     "text": [
      "['id/1/2', 'name/London/Berlin']\n",
      "[Row([('id/1/2', 3), ('name/London/Berlin', 'Paris')]),\n",
      " Row([('id/1/2', 4), ('name/London/Berlin', 'Madrid')]),\n",
      " Row([('id/1/2', 5), ('name/London/Berlin', 'Rome')])]\n"
     ]
    }
   ],
   "source": [
    "from frictionless import Table, Dialect\n",
    "\n",
    "dialect = Dialect(header_rows=[1, 2, 3], header_join='/')\n",
    "with Table('data/capital-3.csv', dialect=dialect) as table:\n",
    "  pprint(table.header)\n",
    "  pprint(table.read_rows())"
   ]
  },
  {
   "cell_type": "markdown",
   "metadata": {},
   "source": [
    "### Header Case\n",
    "\n",
    "> *New in version 3.23*\n",
    "\n",
    "By default a header is validated in a case sensitive mode. To disable this behaviour we can set the `header_case` parameter to `False`. This option is accepted by any Dialect and a dialect can be passed to `extract`, `validate` and other functions. Please note that it doesn't affect a resulting header it only affects how it's validated:"
   ]
  },
  {
   "cell_type": "code",
   "execution_count": 35,
   "metadata": {
    "execution": {
     "iopub.execute_input": "2020-12-02T10:42:04.409750Z",
     "iopub.status.busy": "2020-12-02T10:42:04.408904Z",
     "iopub.status.idle": "2020-12-02T10:42:04.418055Z",
     "shell.execute_reply": "2020-12-02T10:42:04.418886Z"
    }
   },
   "outputs": [
    {
     "name": "stdout",
     "output_type": "stream",
     "text": [
      "Header: ['id', 'name']\n",
      "Valid: True\n"
     ]
    }
   ],
   "source": [
    "from frictionless import Table, Schema, Field, Dialect\n",
    "\n",
    "dialect = Dialect(header_case=False)\n",
    "schema = Schema(fields=[Field(name=\"ID\"), Field(name=\"NAME\")])\n",
    "with Table('data/capital-3.csv', dialect=dialect, schema=schema) as table:\n",
    "  print(f'Header: {table.header}')\n",
    "  print(f'Valid: {table.header.valid}')  # without \"header_case\" it will have 2 errors"
   ]
  },
  {
   "cell_type": "markdown",
   "metadata": {},
   "source": [
    "Further reading:\n",
    "- Formats Reference\n",
    "\n",
    "## Table Query\n",
    "\n",
    "Using header management described in the \"Table Dialect\" section we can have a basic skipping rows ability e.g. if we set `dialect.header_rows=[2]` we will skip the first row but it's very limited. There is a much more powerful interface called Table Queries to indicate where exactly to get tabular data from a file. We will use a simple file looking like a matrix:"
   ]
  },
  {
   "cell_type": "code",
   "execution_count": 36,
   "metadata": {
    "execution": {
     "iopub.execute_input": "2020-12-02T10:42:04.428796Z",
     "iopub.status.busy": "2020-12-02T10:42:04.426920Z",
     "iopub.status.idle": "2020-12-02T10:42:04.552992Z",
     "shell.execute_reply": "2020-12-02T10:42:04.554384Z"
    }
   },
   "outputs": [
    {
     "name": "stdout",
     "output_type": "stream",
     "text": [
      "f1,f2,f3,f4\r\n",
      "11,12,13,14\r\n",
      "21,22,23,24\r\n",
      "31,32,33,34\r\n",
      "41,42,43,44\r\n"
     ]
    }
   ],
   "source": [
    "! cat data/matrix.csv"
   ]
  },
  {
   "cell_type": "markdown",
   "metadata": {},
   "source": [
    "### Pick/Skip Fields\n",
    "\n",
    "We can pick and skip arbitrary fields based on a header row. These options accept a list of field numbers, a list of strings or a regex to match. All the queries below do the same thing for this file:"
   ]
  },
  {
   "cell_type": "code",
   "execution_count": 37,
   "metadata": {
    "execution": {
     "iopub.execute_input": "2020-12-02T10:42:04.566632Z",
     "iopub.status.busy": "2020-12-02T10:42:04.565994Z",
     "iopub.status.idle": "2020-12-02T10:42:04.625541Z",
     "shell.execute_reply": "2020-12-02T10:42:04.624404Z"
    }
   },
   "outputs": [
    {
     "name": "stdout",
     "output_type": "stream",
     "text": [
      "[Row([('f2', 12), ('f3', 13)]), Row([('f2', 22), ('f3', 23)]), Row([('f2', 32), ('f3', 33)]), Row([('f2', 42), ('f3', 43)])]\n"
     ]
    },
    {
     "name": "stdout",
     "output_type": "stream",
     "text": [
      "[Row([('f2', 12), ('f3', 13)]), Row([('f2', 22), ('f3', 23)]), Row([('f2', 32), ('f3', 33)]), Row([('f2', 42), ('f3', 43)])]\n",
      "[Row([('f2', 12), ('f3', 13)]), Row([('f2', 22), ('f3', 23)]), Row([('f2', 32), ('f3', 33)]), Row([('f2', 42), ('f3', 43)])]\n"
     ]
    },
    {
     "name": "stdout",
     "output_type": "stream",
     "text": [
      "[Row([('f2', 12), ('f3', 13)]), Row([('f2', 22), ('f3', 23)]), Row([('f2', 32), ('f3', 33)]), Row([('f2', 42), ('f3', 43)])]\n",
      "[Row([('f2', 12), ('f3', 13)]), Row([('f2', 22), ('f3', 23)]), Row([('f2', 32), ('f3', 33)]), Row([('f2', 42), ('f3', 43)])]\n"
     ]
    },
    {
     "name": "stdout",
     "output_type": "stream",
     "text": [
      "[Row([('f2', 12), ('f3', 13)]), Row([('f2', 22), ('f3', 23)]), Row([('f2', 32), ('f3', 33)]), Row([('f2', 42), ('f3', 43)])]\n"
     ]
    }
   ],
   "source": [
    "from frictionless import extract, Query\n",
    "\n",
    "print(extract('data/matrix.csv', query=Query(pick_fields=[2, 3])))\n",
    "print(extract('data/matrix.csv', query=Query(skip_fields=[1, 4])))\n",
    "print(extract('data/matrix.csv', query=Query(pick_fields=['f2', 'f3'])))\n",
    "print(extract('data/matrix.csv', query=Query(skip_fields=['f1', 'f4'])))\n",
    "print(extract('data/matrix.csv', query=Query(pick_fields=['<regex>f[23]'])))\n",
    "print(extract('data/matrix.csv', query=Query(skip_fields=['<regex>f[14]'])))"
   ]
  },
  {
   "cell_type": "markdown",
   "metadata": {},
   "source": [
    "### Limit/Offset Fields\n",
    "\n",
    "There are two options that provide an ability to limit amount of fields similiar to SQL's directives:"
   ]
  },
  {
   "cell_type": "code",
   "execution_count": 38,
   "metadata": {
    "execution": {
     "iopub.execute_input": "2020-12-02T10:42:04.634809Z",
     "iopub.status.busy": "2020-12-02T10:42:04.633239Z",
     "iopub.status.idle": "2020-12-02T10:42:04.653987Z",
     "shell.execute_reply": "2020-12-02T10:42:04.654870Z"
    }
   },
   "outputs": [
    {
     "name": "stdout",
     "output_type": "stream",
     "text": [
      "[Row([('f1', 11), ('f2', 12)]), Row([('f1', 21), ('f2', 22)]), Row([('f1', 31), ('f2', 32)]), Row([('f1', 41), ('f2', 42)])]\n",
      "[Row([('f3', 13), ('f4', 14)]), Row([('f3', 23), ('f4', 24)]), Row([('f3', 33), ('f4', 34)]), Row([('f3', 43), ('f4', 44)])]\n"
     ]
    }
   ],
   "source": [
    "from frictionless import extract, Query\n",
    "\n",
    "print(extract('data/matrix.csv', query=Query(limit_fields=2)))\n",
    "print(extract('data/matrix.csv', query=Query(offset_fields=2)))"
   ]
  },
  {
   "cell_type": "markdown",
   "metadata": {},
   "source": [
    "### Pick/Skip Rows\n",
    "\n",
    "It's alike the field counterparts but it will be compared to the first cell of a row. All the queries below do the same thing for this file but take into account that when picking we need to also pick a header row. In addition, there is special value `<blank>` that matches a row if it's competely blank:"
   ]
  },
  {
   "cell_type": "code",
   "execution_count": 39,
   "metadata": {
    "execution": {
     "iopub.execute_input": "2020-12-02T10:42:04.667731Z",
     "iopub.status.busy": "2020-12-02T10:42:04.665919Z",
     "iopub.status.idle": "2020-12-02T10:42:04.731883Z",
     "shell.execute_reply": "2020-12-02T10:42:04.731052Z"
    }
   },
   "outputs": [
    {
     "name": "stdout",
     "output_type": "stream",
     "text": [
      "[Row([('f1', 21), ('f2', 22), ('f3', 23), ('f4', 24)]), Row([('f1', 31), ('f2', 32), ('f3', 33), ('f4', 34)])]\n",
      "[Row([('f1', 21), ('f2', 22), ('f3', 23), ('f4', 24)]), Row([('f1', 31), ('f2', 32), ('f3', 33), ('f4', 34)])]\n",
      "[Row([('f1', 21), ('f2', 22), ('f3', 23), ('f4', 24)]), Row([('f1', 31), ('f2', 32), ('f3', 33), ('f4', 34)])]\n",
      "[Row([('f1', 21), ('f2', 22), ('f3', 23), ('f4', 24)]), Row([('f1', 31), ('f2', 32), ('f3', 33), ('f4', 34)])]\n",
      "[Row([('f1', 21), ('f2', 22), ('f3', 23), ('f4', 24)]), Row([('f1', 31), ('f2', 32), ('f3', 33), ('f4', 34)])]\n",
      "[Row([('f1', 21), ('f2', 22), ('f3', 23), ('f4', 24)]), Row([('f1', 31), ('f2', 32), ('f3', 33), ('f4', 34)])]\n",
      "[]\n"
     ]
    }
   ],
   "source": [
    "from frictionless import extract, Query\n",
    "\n",
    "print(extract('data/matrix.csv', query=Query(pick_rows=[1, 3, 4])))\n",
    "print(extract('data/matrix.csv', query=Query(skip_rows=[2, 5])))\n",
    "print(extract('data/matrix.csv', query=Query(pick_rows=['f1', '21', '31'])))\n",
    "print(extract('data/matrix.csv', query=Query(skip_rows=['11', '41'])))\n",
    "print(extract('data/matrix.csv', query=Query(pick_rows=['<regex>(f1|[23]1)'])))\n",
    "print(extract('data/matrix.csv', query=Query(skip_rows=['<regex>[14]1'])))\n",
    "print(extract('data/matrix.csv', query=Query(pick_rows=['<blank>'])))"
   ]
  },
  {
   "cell_type": "markdown",
   "metadata": {},
   "source": [
    "### Limit/Offset Rows\n",
    "\n",
    "This is a quite popular option used to limit amount of rows to read:"
   ]
  },
  {
   "cell_type": "code",
   "execution_count": 40,
   "metadata": {
    "execution": {
     "iopub.execute_input": "2020-12-02T10:42:04.738024Z",
     "iopub.status.busy": "2020-12-02T10:42:04.736759Z",
     "iopub.status.idle": "2020-12-02T10:42:04.761958Z",
     "shell.execute_reply": "2020-12-02T10:42:04.763103Z"
    }
   },
   "outputs": [
    {
     "name": "stdout",
     "output_type": "stream",
     "text": [
      "[Row([('f1', 11), ('f2', 12), ('f3', 13), ('f4', 14)]), Row([('f1', 21), ('f2', 22), ('f3', 23), ('f4', 24)])]\n",
      "[Row([('f1', 31), ('f2', 32), ('f3', 33), ('f4', 34)]), Row([('f1', 41), ('f2', 42), ('f3', 43), ('f4', 44)])]\n"
     ]
    }
   ],
   "source": [
    "from frictionless import extract, Query\n",
    "\n",
    "print(extract('data/matrix.csv', query=Query(limit_rows=2)))\n",
    "print(extract('data/matrix.csv', query=Query(offset_rows=2)))"
   ]
  },
  {
   "cell_type": "markdown",
   "metadata": {},
   "source": [
    "## Header Options\n",
    "\n",
    "Header management is a responsibility of \"Table Dialect\" which will be described below but Table accept a special `headers` argument that plays a role of a high-level helper in setting different header options.\n",
    "\n",
    "It accepts a `False` values indicating that there is no header row:"
   ]
  },
  {
   "cell_type": "code",
   "execution_count": 41,
   "metadata": {
    "execution": {
     "iopub.execute_input": "2020-12-02T10:42:04.779280Z",
     "iopub.status.busy": "2020-12-02T10:42:04.777282Z",
     "iopub.status.idle": "2020-12-02T10:42:04.783864Z",
     "shell.execute_reply": "2020-12-02T10:42:04.784818Z"
    }
   },
   "outputs": [
    {
     "name": "stdout",
     "output_type": "stream",
     "text": [
      "[]\n",
      "[Row([('field1', 'id'), ('field2', 'name')]),\n",
      " Row([('field1', '1'), ('field2', 'London')]),\n",
      " Row([('field1', '2'), ('field2', 'Berlin')]),\n",
      " Row([('field1', '3'), ('field2', 'Paris')]),\n",
      " Row([('field1', '4'), ('field2', 'Madrid')]),\n",
      " Row([('field1', '5'), ('field2', 'Rome')])]\n"
     ]
    }
   ],
   "source": [
    "from frictionless import Table\n",
    "\n",
    "with Table('data/capital-3.csv', headers=False) as table:\n",
    "    pprint(table.header)\n",
    "    pprint(table.read_rows())"
   ]
  },
  {
   "cell_type": "markdown",
   "metadata": {},
   "source": [
    "It accepts an integer indicating the header row number:"
   ]
  },
  {
   "cell_type": "code",
   "execution_count": 42,
   "metadata": {
    "execution": {
     "iopub.execute_input": "2020-12-02T10:42:04.793851Z",
     "iopub.status.busy": "2020-12-02T10:42:04.791406Z",
     "iopub.status.idle": "2020-12-02T10:42:04.805940Z",
     "shell.execute_reply": "2020-12-02T10:42:04.806860Z"
    }
   },
   "outputs": [
    {
     "name": "stdout",
     "output_type": "stream",
     "text": [
      "['1', 'London']\n",
      "[Row([('1', 2), ('London', 'Berlin')]),\n",
      " Row([('1', 3), ('London', 'Paris')]),\n",
      " Row([('1', 4), ('London', 'Madrid')]),\n",
      " Row([('1', 5), ('London', 'Rome')])]\n"
     ]
    }
   ],
   "source": [
    "from frictionless import Table\n",
    "\n",
    "with Table('data/capital-3.csv', headers=2) as table:\n",
    "    pprint(table.header)\n",
    "    pprint(table.read_rows())"
   ]
  },
  {
   "cell_type": "markdown",
   "metadata": {},
   "source": [
    "It accepts a list of integers indicating a multiline header row numbers:"
   ]
  },
  {
   "cell_type": "code",
   "execution_count": 43,
   "metadata": {
    "execution": {
     "iopub.execute_input": "2020-12-02T10:42:04.817786Z",
     "iopub.status.busy": "2020-12-02T10:42:04.816263Z",
     "iopub.status.idle": "2020-12-02T10:42:04.831297Z",
     "shell.execute_reply": "2020-12-02T10:42:04.830716Z"
    }
   },
   "outputs": [
    {
     "name": "stdout",
     "output_type": "stream",
     "text": [
      "['id 1 2', 'name London Berlin']\n",
      "[Row([('id 1 2', 3), ('name London Berlin', 'Paris')]),\n",
      " Row([('id 1 2', 4), ('name London Berlin', 'Madrid')]),\n",
      " Row([('id 1 2', 5), ('name London Berlin', 'Rome')])]\n"
     ]
    }
   ],
   "source": [
    "from frictionless import Table\n",
    "\n",
    "with Table('data/capital-3.csv', headers=[1,2,3]) as table:\n",
    "    pprint(table.header)\n",
    "    pprint(table.read_rows())"
   ]
  },
  {
   "cell_type": "markdown",
   "metadata": {},
   "source": [
    "It accepts a pair containing a list of integers indicating a multiline header row numbers and a string indicating a joiner for a concatenate operation:"
   ]
  },
  {
   "cell_type": "code",
   "execution_count": 44,
   "metadata": {
    "execution": {
     "iopub.execute_input": "2020-12-02T10:42:04.838793Z",
     "iopub.status.busy": "2020-12-02T10:42:04.838077Z",
     "iopub.status.idle": "2020-12-02T10:42:04.854987Z",
     "shell.execute_reply": "2020-12-02T10:42:04.855590Z"
    }
   },
   "outputs": [
    {
     "name": "stdout",
     "output_type": "stream",
     "text": [
      "['id/1/2', 'name/London/Berlin']\n",
      "[Row([('id/1/2', 3), ('name/London/Berlin', 'Paris')]),\n",
      " Row([('id/1/2', 4), ('name/London/Berlin', 'Madrid')]),\n",
      " Row([('id/1/2', 5), ('name/London/Berlin', 'Rome')])]\n"
     ]
    }
   ],
   "source": [
    "from frictionless import Table\n",
    "\n",
    "with Table('data/capital-3.csv', headers=[[1,2,3], '/']) as table:\n",
    "    pprint(table.header)\n",
    "    pprint(table.read_rows())"
   ]
  },
  {
   "cell_type": "markdown",
   "metadata": {},
   "source": [
    "## Schema Options\n",
    "\n",
    "By default, a schema for a table is inferred under the hood but we can also pass it explicitly.\n",
    "\n",
    "### Schema\n",
    "\n",
    "The most common way is providing a schema argument to the Table constructor. For example, let's make the `id` field be a string instead of an integer:"
   ]
  },
  {
   "cell_type": "code",
   "execution_count": 45,
   "metadata": {
    "execution": {
     "iopub.execute_input": "2020-12-02T10:42:04.864808Z",
     "iopub.status.busy": "2020-12-02T10:42:04.863719Z",
     "iopub.status.idle": "2020-12-02T10:42:04.874122Z",
     "shell.execute_reply": "2020-12-02T10:42:04.875560Z"
    }
   },
   "outputs": [
    {
     "name": "stdout",
     "output_type": "stream",
     "text": [
      "{'fields': [{'name': 'id', 'type': 'string'},\n",
      "            {'name': 'name', 'type': 'string'}]}\n",
      "[Row([('id', '1'), ('name', 'London')]),\n",
      " Row([('id', '2'), ('name', 'Berlin')]),\n",
      " Row([('id', '3'), ('name', 'Paris')]),\n",
      " Row([('id', '4'), ('name', 'Madrid')]),\n",
      " Row([('id', '5'), ('name', 'Rome')])]\n"
     ]
    }
   ],
   "source": [
    "from frictionless import Table, Schema, Field\n",
    "\n",
    "schema = Schema(fields=[Field(name='id', type='string'), Field(name='name', type='string')])\n",
    "with Table('data/capital-3.csv', schema=schema) as table:\n",
    "  pprint(table.schema)\n",
    "  pprint(table.read_rows())"
   ]
  },
  {
   "cell_type": "markdown",
   "metadata": {},
   "source": [
    "### Sync Schema\n",
    "\n",
    "There is a way to sync provided schema based on a header row's field order. It's very useful when you have a schema that describes a subset or a superset of the table's fields:"
   ]
  },
  {
   "cell_type": "code",
   "execution_count": 46,
   "metadata": {
    "execution": {
     "iopub.execute_input": "2020-12-02T10:42:04.888028Z",
     "iopub.status.busy": "2020-12-02T10:42:04.884715Z",
     "iopub.status.idle": "2020-12-02T10:42:04.897061Z",
     "shell.execute_reply": "2020-12-02T10:42:04.898119Z"
    }
   },
   "outputs": [
    {
     "name": "stdout",
     "output_type": "stream",
     "text": [
      "{'fields': [{'name': 'id', 'type': 'string'},\n",
      "            {'name': 'name', 'type': 'string'}]}\n",
      "[Row([('id', '1'), ('name', 'London')]),\n",
      " Row([('id', '2'), ('name', 'Berlin')]),\n",
      " Row([('id', '3'), ('name', 'Paris')]),\n",
      " Row([('id', '4'), ('name', 'Madrid')]),\n",
      " Row([('id', '5'), ('name', 'Rome')])]\n"
     ]
    }
   ],
   "source": [
    "from frictionless import Table, Schema, Field\n",
    "\n",
    "# Note the order of the fields\n",
    "schema = Schema(fields=[Field(name='name', type='string'), Field(name='id', type='string')])\n",
    "with Table('data/capital-3.csv', schema=schema, sync_schema=True) as table:\n",
    "  pprint(table.schema)\n",
    "  pprint(table.read_rows())"
   ]
  },
  {
   "cell_type": "markdown",
   "metadata": {},
   "source": [
    "### Patch Schema\n",
    "\n",
    "Sometimes we just want to update only a few fields or some schema's properties without providing a brand new schema. For example, the two examples above can be simplified as:"
   ]
  },
  {
   "cell_type": "code",
   "execution_count": 47,
   "metadata": {
    "execution": {
     "iopub.execute_input": "2020-12-02T10:42:04.913995Z",
     "iopub.status.busy": "2020-12-02T10:42:04.905148Z",
     "iopub.status.idle": "2020-12-02T10:42:04.923904Z",
     "shell.execute_reply": "2020-12-02T10:42:04.922846Z"
    }
   },
   "outputs": [
    {
     "name": "stdout",
     "output_type": "stream",
     "text": [
      "{'fields': [{'name': 'id', 'type': 'string'},\n",
      "            {'name': 'name', 'type': 'string'}]}\n",
      "[Row([('id', '1'), ('name', 'London')]),\n",
      " Row([('id', '2'), ('name', 'Berlin')]),\n",
      " Row([('id', '3'), ('name', 'Paris')]),\n",
      " Row([('id', '4'), ('name', 'Madrid')]),\n",
      " Row([('id', '5'), ('name', 'Rome')])]\n"
     ]
    }
   ],
   "source": [
    "from frictionless import Table\n",
    "\n",
    "with Table('data/capital-3.csv', patch_schema={'fields': {'id': {'type': 'string'}}}) as table:\n",
    "  pprint(table.schema)\n",
    "  pprint(table.read_rows())"
   ]
  },
  {
   "cell_type": "markdown",
   "metadata": {},
   "source": [
    "## Integrity Options\n",
    "\n",
    "Exctraction function and classes accepts a few options that are needed to manage integrity behaviour:\n",
    "\n",
    "### On Error\n",
    "\n",
    "This option accept one of the three possible values configuring an `extract`, `Table`, `Resource` or `Package` behaviour if there is an error during the row reading process:\n",
    "- ignore (default)\n",
    "- warn\n",
    "- raise\n",
    "\n",
    "Let's investigate how we can add warnings on all header/row errors:"
   ]
  },
  {
   "cell_type": "code",
   "execution_count": 48,
   "metadata": {
    "execution": {
     "iopub.execute_input": "2020-12-02T10:42:04.938181Z",
     "iopub.status.busy": "2020-12-02T10:42:04.936286Z",
     "iopub.status.idle": "2020-12-02T10:42:04.940851Z",
     "shell.execute_reply": "2020-12-02T10:42:04.941853Z"
    }
   },
   "outputs": [
    {
     "name": "stderr",
     "output_type": "stream",
     "text": [
      "/home/roll/projects/frictionless-py/frictionless/table.py:771: UserWarning: The cell \"1\" in row at position \"2\" and field \"name\" at position \"1\" has incompatible type: type is \"string/default\"\n",
      "  warnings.warn(error.message, UserWarning)\n",
      "/home/roll/projects/frictionless-py/frictionless/table.py:771: UserWarning: The cell \"2\" in row at position \"3\" and field \"name\" at position \"1\" has incompatible type: type is \"string/default\"\n",
      "  warnings.warn(error.message, UserWarning)\n",
      "/home/roll/projects/frictionless-py/frictionless/table.py:771: UserWarning: The cell \"3\" in row at position \"4\" and field \"name\" at position \"1\" has incompatible type: type is \"string/default\"\n",
      "  warnings.warn(error.message, UserWarning)\n"
     ]
    }
   ],
   "source": [
    "from frictionless import Table\n",
    "\n",
    "data = [[\"name\"], [1], [2], [3]]\n",
    "schema = {\"fields\": [{\"name\": \"name\", \"type\": \"string\"}]}\n",
    "with  Table(data, schema=schema, onerror=\"warn\") as table:\n",
    "  table.read_rows()"
   ]
  },
  {
   "cell_type": "markdown",
   "metadata": {},
   "source": [
    "In some cases, we need to fail on the first error. We will use `raise` for it:"
   ]
  },
  {
   "cell_type": "code",
   "execution_count": 49,
   "metadata": {
    "execution": {
     "iopub.execute_input": "2020-12-02T10:42:04.953835Z",
     "iopub.status.busy": "2020-12-02T10:42:04.952897Z",
     "iopub.status.idle": "2020-12-02T10:42:04.956440Z",
     "shell.execute_reply": "2020-12-02T10:42:04.957258Z"
    }
   },
   "outputs": [
    {
     "name": "stdout",
     "output_type": "stream",
     "text": [
      "[type-error] The cell \"1\" in row at position \"2\" and field \"name\" at position \"1\" has incompatible type: type is \"string/default\"\n"
     ]
    }
   ],
   "source": [
    "from frictionless import Table\n",
    "\n",
    "data = [[\"name\"], [1], [2], [3]]\n",
    "schema = {\"fields\": [{\"name\": \"name\", \"type\": \"string\"}]}\n",
    "resource = Resource(data=data, schema=schema)\n",
    "resource.onerror = 'raise' # for Resource/Package it's possible to set this property after initialization\n",
    "try:\n",
    "  resource.read_rows()\n",
    "except Exception as exception:\n",
    "  print(exception)"
   ]
  },
  {
   "cell_type": "markdown",
   "metadata": {},
   "source": [
    "### Lookup\n",
    "\n",
    "The lookup is a special object providing relational information in cases when it's not possible to extract. For example, the Package is capable of getting a lookup object from its resource while a table object needs it to be provided. Let's see an example:"
   ]
  },
  {
   "cell_type": "code",
   "execution_count": 50,
   "metadata": {
    "execution": {
     "iopub.execute_input": "2020-12-02T10:42:04.969175Z",
     "iopub.status.busy": "2020-12-02T10:42:04.967713Z",
     "iopub.status.idle": "2020-12-02T10:42:04.977054Z",
     "shell.execute_reply": "2020-12-02T10:42:04.978059Z"
    }
   },
   "outputs": [],
   "source": [
    "from frictionless import Table\n",
    "\n",
    "source = [[\"name\"], [1], [2], [4]]\n",
    "lookup = {\"other\": {(\"name\",): {(1,), (2,), (3,)}}}\n",
    "fk = {\"fields\": [\"name\"], \"reference\": {\"fields\": [\"name\"], \"resource\": \"other\"}}\n",
    "with Table(source, lookup=lookup, patch_schema={\"foreignKeys\": [fk]}) as table:\n",
    "    for row in table:\n",
    "        if row.row_number == 3:\n",
    "            assert row.valid is False\n",
    "            assert row.errors[0].code == \"foreign-key-error\"\n",
    "            continue\n",
    "        assert row.valid\n"
   ]
  },
  {
   "cell_type": "markdown",
   "metadata": {},
   "source": [
    "## Header Object\n",
    "\n",
    "After opening a table or calling `resource.read_header` you get access to a `header` object. It's a list but providing some additional functionality. Let's take a look:"
   ]
  },
  {
   "cell_type": "code",
   "execution_count": 51,
   "metadata": {
    "execution": {
     "iopub.execute_input": "2020-12-02T10:42:04.987806Z",
     "iopub.status.busy": "2020-12-02T10:42:04.986944Z",
     "iopub.status.idle": "2020-12-02T10:42:05.001081Z",
     "shell.execute_reply": "2020-12-02T10:42:05.002018Z"
    }
   },
   "outputs": [
    {
     "name": "stdout",
     "output_type": "stream",
     "text": [
      "Header: ['id', 'name']\n",
      "Schema: {'fields': [{'name': 'id', 'type': 'integer'}, {'name': 'name', 'type': 'string'}]}\n",
      "Field Positions: [1, 2]\n",
      "Errors: []\n",
      "Valid: True\n",
      "As Dict: {'id': 'id', 'name': 'name'}\n",
      "As List: ['id', 'name']\n"
     ]
    }
   ],
   "source": [
    "from frictionless import Table\n",
    "\n",
    "with Table('data/capital-3.csv') as table:\n",
    "  print(f'Header: {table.header}')\n",
    "  print(f'Schema: {table.header.schema}')\n",
    "  print(f'Field Positions: {table.header.field_positions}')\n",
    "  print(f'Errors: {table.header.errors}')\n",
    "  print(f'Valid: {table.header.valid}')\n",
    "  print(f'As Dict: {table.header.to_dict()}') # field name: header cell\n",
    "  print(f'As List: {table.header.to_list()}')"
   ]
  },
  {
   "cell_type": "markdown",
   "metadata": {},
   "source": [
    "The example above covers the case when a header is valid. For a header with tabular errors this information can be much more useful revealing discrepancies, duplicates or missing cells information. Please read \"API Reference\" for more details.\n",
    "\n",
    "## Row Object\n",
    "\n",
    "The `extract`, `resource.read_rows()`, `table.read_rows()`, and many other functions return or yeild row objects. It's an `OrderedDict` providing additional API shown below:"
   ]
  },
  {
   "cell_type": "code",
   "execution_count": 52,
   "metadata": {
    "execution": {
     "iopub.execute_input": "2020-12-02T10:42:05.013593Z",
     "iopub.status.busy": "2020-12-02T10:42:05.011544Z",
     "iopub.status.idle": "2020-12-02T10:42:05.030001Z",
     "shell.execute_reply": "2020-12-02T10:42:05.030651Z"
    }
   },
   "outputs": [
    {
     "name": "stdout",
     "output_type": "stream",
     "text": [
      "Row: Row([('id', None), ('name', 'London')])\n",
      "Schema: {'fields': [{'name': 'id', 'type': 'integer'}, {'name': 'name', 'type': 'string'}], 'missingValues': ['1']}\n",
      "Field Positions: [1, 2]\n",
      "Row Position: 2\n",
      "Row Number: 1\n",
      "Blank Cells: {'id': '1'}\n",
      "Error Cells: {}\n",
      "Errors: []\n",
      "Valid: True\n",
      "As Dict: {'id': None, 'name': 'London'}\n",
      "As List: [None, 'London']\n"
     ]
    }
   ],
   "source": [
    "from frictionless import Table\n",
    "\n",
    "with Table('data/capital-3.csv', patch_schema={'missingValues': ['1']}) as table:\n",
    "  for row in table:\n",
    "    print(f'Row: {row}')\n",
    "    print(f'Schema: {row.schema}')\n",
    "    print(f'Field Positions: {row.field_positions}')\n",
    "    print(f'Row Position: {row.row_position}') # physical line number starting from 1\n",
    "    print(f'Row Number: {row.row_number}') # counted row number starting from 1\n",
    "    print(f'Blank Cells: {row.blank_cells}')\n",
    "    print(f'Error Cells: {row.error_cells}')\n",
    "    print(f'Errors: {row.errors}')\n",
    "    print(f'Valid: {row.valid}')\n",
    "    print(f'As Dict: {row.to_dict(json=False)}')\n",
    "    print(f'As List: {row.to_list(json=True)}') # JSON compatible data types\n",
    "    break"
   ]
  },
  {
   "cell_type": "markdown",
   "metadata": {},
   "source": [
    "As we can see, it provides a lot of information which is especially useful when a row is not valid. Our row is valid but we demostrated how it can preserve data about raw missing values. It also preserves data about all errored cells. Please read \"API Reference\" for more details."
   ]
  }
 ],
 "metadata": {
  "language_info": {
   "codemirror_mode": {
    "name": "ipython",
    "version": 3
   },
   "file_extension": ".py",
   "mimetype": "text/x-python",
   "name": "python",
   "nbconvert_exporter": "python",
   "pygments_lexer": "ipython3",
   "version": "3.8.0"
  }
 },
 "nbformat": 4,
 "nbformat_minor": 4
}
