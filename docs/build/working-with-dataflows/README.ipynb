{
 "cells": [
  {
   "cell_type": "markdown",
   "metadata": {},
   "source": [
    "# Working with Dataflows\n",
    "\n",
    "> Status: **EXPERIMENTAL**\n",
    "\n",
    "The dataflows pipelines are powered by [DataFlows](http://www.dataflows.org/),\n",
    "a novel and intuitive way of building data processing flows in Python. Frictionless provides an ability to declaratively describe and run DataFlows pipelines."
   ]
  },
  {
   "cell_type": "markdown",
   "metadata": {},
   "source": [
    "```sh\n",
    "! pip install frictionless[dataflows]\n",
    "```\n"
   ]
  },
  {
   "cell_type": "markdown",
   "metadata": {},
   "source": [
    "```bash\n",
    "! cat data/capital.csv\n",
    "```\n"
   ]
  },
  {
   "cell_type": "markdown",
   "metadata": {},
   "source": [
    "## Transforming Package\n",
    "\n",
    "Let's see how we can use a package pipelines to transform data using [DataFlows](http://www.dataflows.org/):"
   ]
  },
  {
   "cell_type": "markdown",
   "metadata": {},
   "source": [
    "```sh\n",
    "! cat data/pipeline.yaml\n",
    "```\n"
   ]
  },
  {
   "cell_type": "markdown",
   "metadata": {},
   "source": [
    "```sh\n",
    "! frictionless transform data/pipeline.yaml\n",
    "```\n"
   ]
  },
  {
   "cell_type": "markdown",
   "metadata": {},
   "source": [
    "Of course, it's possible to do the same using Python programming:"
   ]
  },
  {
   "cell_type": "markdown",
   "metadata": {},
   "source": [
    "```py\n",
    "from frictionless import transform\n",
    "\n",
    "transform(\n",
    "  {\n",
    "    \"type\": \"dataflows\",\n",
    "    \"steps\": [\n",
    "      {\"type\": \"load\", \"spec\": {\"loadSource\": \"data/capital.csv\"}},\n",
    "      {\"type\": \"set_type\", \"spec\": {\"name\": \"id\", \"type\": \"string\"}},\n",
    "      {\"type\": \"dump_to_path\", \"spec\": {\"outPath\": 'output'}},\n",
    "    ],\n",
    "  }\n",
    ")\n",
    "```\n"
   ]
  },
  {
   "cell_type": "markdown",
   "metadata": {},
   "source": [
    "```sh\n",
    "! frictionless extract output/datapackage.json\n",
    "```\n"
   ]
  },
  {
   "cell_type": "markdown",
   "metadata": {},
   "source": [
    "DataFlows is a powerful framework. Please read more about it:\n",
    "- [DataFlows Tutorial](https://github.com/datahq/dataflows/blob/master/TUTORIAL.md)\n",
    "- [DataFlows Processors](https://github.com/datahq/dataflows/blob/master/PROCESSORS.md)"
   ]
  }
 ],
 "metadata": {
  "language_info": {
   "codemirror_mode": {
    "name": "ipython",
    "version": 3
   },
   "file_extension": ".py",
   "mimetype": "text/x-python",
   "name": "python",
   "nbconvert_exporter": "python",
   "pygments_lexer": "ipython3",
   "version": "3.8.0"
  }
 },
 "nbformat": 4,
 "nbformat_minor": 4
}
