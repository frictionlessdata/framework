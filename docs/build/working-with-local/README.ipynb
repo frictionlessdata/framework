{
 "cells": [
  {
   "cell_type": "markdown",
   "metadata": {},
   "source": [
    "# Working with Local Data\n",
    "\n",
    "> Status: **STABLE**\n",
    "\n",
    "You can read and write files locally with Frictionless. It's basic functionality.\n",
    "\n",
    "## Reading Local Data\n",
    "\n",
    "You can read using `Package/Resource` or `Table` API, for example:"
   ]
  },
  {
   "cell_type": "code",
   "execution_count": 1,
   "metadata": {
    "execution": {
     "iopub.execute_input": "2020-12-06T07:57:43.133817Z",
     "iopub.status.busy": "2020-12-06T07:57:43.132632Z",
     "iopub.status.idle": "2020-12-06T07:57:43.691232Z",
     "shell.execute_reply": "2020-12-06T07:57:43.689709Z"
    }
   },
   "outputs": [
    {
     "name": "stdout",
     "output_type": "stream",
     "text": [
      "[Row([('id', 1), ('name', 'english')]), Row([('id', 2), ('name', '中国人')])]\n"
     ]
    }
   ],
   "source": [
    "from frictionless import Resource\n",
    "\n",
    "resource = Resource(path='data/table.csv')\n",
    "print(resource.read_rows())"
   ]
  },
  {
   "cell_type": "markdown",
   "metadata": {},
   "source": [
    "## Writing Local Data\n",
    "\n",
    "The same is actual for writing:"
   ]
  },
  {
   "cell_type": "code",
   "execution_count": 2,
   "metadata": {
    "execution": {
     "iopub.execute_input": "2020-12-06T07:57:43.705745Z",
     "iopub.status.busy": "2020-12-06T07:57:43.704688Z",
     "iopub.status.idle": "2020-12-06T07:57:43.710559Z",
     "shell.execute_reply": "2020-12-06T07:57:43.711441Z"
    }
   },
   "outputs": [],
   "source": [
    "from frictionless import Resource\n",
    "\n",
    "resource = Resource(data=[['id', 'name'], [1, 'english'], [2, 'german']])\n",
    "resource.write('tmp/table.csv')"
   ]
  },
  {
   "cell_type": "markdown",
   "metadata": {},
   "source": [
    "```bash\n",
    "!cat tmp/table.csv\n",
    "```\n"
   ]
  },
  {
   "cell_type": "markdown",
   "metadata": {},
   "source": [
    "## Configuring Local Data\n",
    "\n",
    "There are no options available in `LocalControl`.\n",
    "\n",
    "References:\n",
    "- [Local Control](https://frictionlessdata.io/tooling/python/controls-reference/#local)"
   ]
  }
 ],
 "metadata": {
  "language_info": {
   "codemirror_mode": {
    "name": "ipython",
    "version": 3
   },
   "file_extension": ".py",
   "mimetype": "text/x-python",
   "name": "python",
   "nbconvert_exporter": "python",
   "pygments_lexer": "ipython3",
   "version": "3.8.0"
  }
 },
 "nbformat": 4,
 "nbformat_minor": 4
}
