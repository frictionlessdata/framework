{
 "cells": [
  {
   "cell_type": "markdown",
   "metadata": {},
   "source": [
    "# Working with Multipart Data\n",
    "\n",
    "> Status: **STABLE**\n",
    "\n",
    "You can read and write files split into chunks with Frictionless.\n",
    "\n",
    "## Reading Multipart Data\n",
    "\n",
    "You can read using `Package/Resource` or `Table` API, for example:"
   ]
  },
  {
   "cell_type": "code",
   "execution_count": 1,
   "metadata": {
    "execution": {
     "iopub.execute_input": "2020-12-04T10:07:28.430573Z",
     "iopub.status.busy": "2020-12-04T10:07:28.429292Z",
     "iopub.status.idle": "2020-12-04T10:07:29.028754Z",
     "shell.execute_reply": "2020-12-04T10:07:29.027719Z"
    }
   },
   "outputs": [
    {
     "name": "stdout",
     "output_type": "stream",
     "text": [
      "[Row([('id', 1), ('name', 'english')]), Row([('id', 2), ('name', '中国人')])]\n"
     ]
    }
   ],
   "source": [
    "from frictionless import Resource\n",
    "\n",
    "resource = Resource(path=['data/chunk1.csv', 'data/chunk2.csv'])\n",
    "print(resource.read_rows())"
   ]
  },
  {
   "cell_type": "markdown",
   "metadata": {},
   "source": [
    "## Writing Multipart Data\n",
    "\n",
    "> Not supported\n",
    "\n",
    "## Configuring Local Data\n",
    "\n",
    "> Not supported"
   ]
  }
 ],
 "metadata": {
  "language_info": {
   "codemirror_mode": {
    "name": "ipython",
    "version": 3
   },
   "file_extension": ".py",
   "mimetype": "text/x-python",
   "name": "python",
   "nbconvert_exporter": "python",
   "pygments_lexer": "ipython3",
   "version": "3.8.0"
  }
 },
 "nbformat": 4,
 "nbformat_minor": 4
}
