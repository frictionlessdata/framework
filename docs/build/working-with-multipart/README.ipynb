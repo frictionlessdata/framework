{
 "cells": [
  {
   "cell_type": "markdown",
   "metadata": {},
   "source": [
    "# Working with Multipart Data\n",
    "\n",
    "> Status: **STABLE**\n",
    "\n",
    "You can read and write files split into chunks with Frictionless.\n",
    "\n",
    "## Reading Multipart Data\n",
    "\n",
    "You can read using `Package/Resource` or `Table` API, for example:"
   ]
  },
  {
   "cell_type": "code",
   "execution_count": 1,
   "metadata": {
    "execution": {
     "iopub.execute_input": "2020-12-06T09:33:14.033181Z",
     "iopub.status.busy": "2020-12-06T09:33:14.032286Z",
     "iopub.status.idle": "2020-12-06T09:33:14.630440Z",
     "shell.execute_reply": "2020-12-06T09:33:14.629717Z"
    }
   },
   "outputs": [
    {
     "name": "stdout",
     "output_type": "stream",
     "text": [
      "[Row([('id', 1), ('name', 'english')]), Row([('id', 2), ('name', '中国人')])]\n"
     ]
    }
   ],
   "source": [
    "from frictionless import Resource\n",
    "\n",
    "resource = Resource(path=['data/chunk1.csv', 'data/chunk2.csv'])\n",
    "print(resource.read_rows())"
   ]
  },
  {
   "cell_type": "markdown",
   "metadata": {},
   "source": [
    "## Writing Multipart Data\n",
    "\n",
    "The actual for writing:"
   ]
  },
  {
   "cell_type": "markdown",
   "metadata": {},
   "source": [
    "```py\n",
    "from frictionless import Resource\n",
    "\n",
    "resource = Resource(path='data/table.json')\n",
    "resource.write('tmp/table{number}.json', scheme=\"multipart\", control={\"chunkSize\": 1000000})\n",
    "```\n"
   ]
  },
  {
   "cell_type": "markdown",
   "metadata": {},
   "source": [
    "## Configuring Local Data\n",
    "\n",
    "There is a control to configure how Frictionless read files using this scheme. For example:"
   ]
  },
  {
   "cell_type": "markdown",
   "metadata": {},
   "source": [
    "```py\n",
    "from frictionless import Resource\n",
    "from frictionless.plugins.multipart import MultipartControl\n",
    "\n",
    "control = MultipartControl(chunk_size=1000000)\n",
    "resource = Resource(data=[['id', 'name'], [1, 'english'], [2, 'german']])\n",
    "resource.write('tmp/table{number}.json', scheme=\"multipart\", control=control)\n",
    "```\n"
   ]
  },
  {
   "cell_type": "markdown",
   "metadata": {},
   "source": [
    "References:\n",
    "- [Multipart Control](https://frictionlessdata.io/tooling/python/schemes-reference/#multipart)"
   ]
  }
 ],
 "metadata": {
  "language_info": {
   "codemirror_mode": {
    "name": "ipython",
    "version": 3
   },
   "file_extension": ".py",
   "mimetype": "text/x-python",
   "name": "python",
   "nbconvert_exporter": "python",
   "pygments_lexer": "ipython3",
   "version": "3.8.0"
  }
 },
 "nbformat": 4,
 "nbformat_minor": 4
}
