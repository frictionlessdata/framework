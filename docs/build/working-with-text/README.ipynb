{
 "cells": [
  {
   "cell_type": "markdown",
   "metadata": {},
   "source": [
    "# Working with Text Data\n",
    "\n",
    "> Status: **STABLE**\n",
    "\n",
    "Frictionless supports loading textual data\n",
    "\n",
    "## Reading Text Data\n",
    "\n",
    "You can read Text Data using `Package/Resource` or `Table` API, for example:"
   ]
  },
  {
   "cell_type": "code",
   "execution_count": 1,
   "metadata": {
    "execution": {
     "iopub.execute_input": "2020-12-06T08:03:28.723103Z",
     "iopub.status.busy": "2020-12-06T08:03:28.722278Z",
     "iopub.status.idle": "2020-12-06T08:03:29.279784Z",
     "shell.execute_reply": "2020-12-06T08:03:29.280573Z"
    }
   },
   "outputs": [
    {
     "name": "stdout",
     "output_type": "stream",
     "text": [
      "[Row([('id', 1), ('name', 'english')]), Row([('id', 2), ('name', 'german')])]\n"
     ]
    }
   ],
   "source": [
    "from frictionless import Resource\n",
    "\n",
    "resource = Resource(path='text://id,name\\n1,english\\n2,german.csv')\n",
    "print(resource.read_rows())"
   ]
  },
  {
   "cell_type": "markdown",
   "metadata": {},
   "source": [
    "## Writing Text Data\n",
    "\n",
    "The same is actual for writing Text Data:"
   ]
  },
  {
   "cell_type": "code",
   "execution_count": 2,
   "metadata": {
    "execution": {
     "iopub.execute_input": "2020-12-06T08:03:29.295047Z",
     "iopub.status.busy": "2020-12-06T08:03:29.294219Z",
     "iopub.status.idle": "2020-12-06T08:03:29.307927Z",
     "shell.execute_reply": "2020-12-06T08:03:29.308803Z"
    }
   },
   "outputs": [
    {
     "data": {
      "text/plain": [
       "'id,name\\r\\n1,english\\r\\n2,german\\r\\n'"
      ]
     },
     "execution_count": 1,
     "metadata": {},
     "output_type": "execute_result"
    }
   ],
   "source": [
    "from frictionless import Resource\n",
    "\n",
    "resource = Resource(data=[['id', 'name'], [1, 'english'], [2, 'german']])\n",
    "resource.write(scheme='text', format='csv')"
   ]
  },
  {
   "cell_type": "markdown",
   "metadata": {},
   "source": [
    "## Configuring Text Data\n",
    "\n",
    "There are no options available in `TextControl`.\n",
    "\n",
    "References:\n",
    "- [Text Control](https://frictionlessdata.io/tooling/python/controls-reference/#text)"
   ]
  }
 ],
 "metadata": {
  "language_info": {
   "codemirror_mode": {
    "name": "ipython",
    "version": 3
   },
   "file_extension": ".py",
   "mimetype": "text/x-python",
   "name": "python",
   "nbconvert_exporter": "python",
   "pygments_lexer": "ipython3",
   "version": "3.8.0"
  }
 },
 "nbformat": 4,
 "nbformat_minor": 4
}
