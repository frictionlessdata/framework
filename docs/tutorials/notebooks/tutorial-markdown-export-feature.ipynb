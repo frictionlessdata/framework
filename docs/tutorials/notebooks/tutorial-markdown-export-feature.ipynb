{
 "cells": [
  {
   "cell_type": "markdown",
   "metadata": {
    "id": "R4CninGSpq8s"
   },
   "source": [
    "# This tutorial shows how to use following features:\n",
    "\n",
    "- pretty print feature for metadata.\n",
    "- Excel stats for bytes and hash.\n",
    "- **to_markdown** feature for metadata.\n",
    "- **to_excel_template** feature to export table schema as excel."
   ]
  },
  {
   "cell_type": "markdown",
   "metadata": {
    "id": "CRMDN8aq1QYK"
   },
   "source": [
    "Install frictionless library"
   ]
  },
  {
   "cell_type": "code",
   "execution_count": 1,
   "metadata": {
    "colab": {
     "base_uri": "https://localhost:8080/"
    },
    "id": "2i5_fsH9pptd",
    "outputId": "387e234e-b4b0-4f22-a008-68c87547b5b4"
   },
   "outputs": [],
   "source": [
    "! pip install frictionless[html,pandas]"
   ]
  },
  {
   "cell_type": "code",
   "execution_count": 2,
   "metadata": {
    "id": "Z5ek7ims37Pn"
   },
   "outputs": [],
   "source": [
    "from frictionless import Schema, Package, Resource, transform, steps\n",
    "from frictionless.plugins.html import HtmlDialect\n",
    "import os\n",
    "from openpyxl import load_workbook"
   ]
  },
  {
   "cell_type": "markdown",
   "metadata": {
    "id": "9HoArkcg1Ze1"
   },
   "source": [
    "To check the latest version for frictionless"
   ]
  },
  {
   "cell_type": "code",
   "execution_count": 3,
   "metadata": {
    "colab": {
     "base_uri": "https://localhost:8080/"
    },
    "id": "dTFY4qW61VYU",
    "outputId": "5df4f675-f442-4a76-a92f-ccdfbf96778d"
   },
   "outputs": [
    {
     "name": "stdout",
     "output_type": "stream",
     "text": [
      "4.32.0\r\n"
     ]
    }
   ],
   "source": [
    "! frictionless --version"
   ]
  },
  {
   "cell_type": "markdown",
   "metadata": {
    "id": "bxPMNr6-3xeY"
   },
   "source": [
    "# Get Data: Land usage by country\n",
    "\n",
    "We will use the landuse data by country: https://en.wikipedia.org/wiki/Land_use_statistics_by_country . The following code parses the html data using '**.wikitable.sortable**' selector and returns the resource object. \n",
    "\n",
    "to_view() property of resource object displays the data in table view."
   ]
  },
  {
   "cell_type": "code",
   "execution_count": 4,
   "metadata": {
    "colab": {
     "base_uri": "https://localhost:8080/"
    },
    "id": "cL1jNtju3q6h",
    "outputId": "88e5c47c-afe1-4c4e-e178-ddf692dcdde8"
   },
   "outputs": [
    {
     "name": "stdout",
     "output_type": "stream",
     "text": [
      "+--------------------------------------------------------------+--------------------+\n",
      "| Name                                                         | Capacity (MT/year) |\n",
      "+==============================================================+====================+\n",
      "| 'Unique Bio Tech Organic Pvt. Ltd, Chitwan'                  | [20.0, 0.0]        |\n",
      "+--------------------------------------------------------------+--------------------+\n",
      "| 'Buddha Organic fertiliser Industry, Dhanusa'                | [10.0, 0.0]        |\n",
      "+--------------------------------------------------------------+--------------------+\n",
      "| 'Janakpur fertilisers Industries, Morang'                    | [10.0, 0.0]        |\n",
      "+--------------------------------------------------------------+--------------------+\n",
      "| 'Annapurna Agriculture fertiliser Industry, Morang'          | [10.0, 0.0]        |\n",
      "+--------------------------------------------------------------+--------------------+\n",
      "| 'Nepal Integrated Model Agro Firm Pvt. Ltd, Kavrepalanchowk' | [5.0, 0.0]         |\n",
      "+--------------------------------------------------------------+--------------------+\n",
      "\n"
     ]
    }
   ],
   "source": [
    "fertilizer_producers = Resource(\n",
    "    \"https://en.wikipedia.org/wiki/Fertiliser_use_in_Nepal\",\n",
    "    name=\"fertilizer_producers\",\n",
    "    format=\"html\",\n",
    "    dialect=HtmlDialect(selector=\".wikitable.sortable\"),\n",
    ")\n",
    "print(fertilizer_producers.to_view())"
   ]
  },
  {
   "cell_type": "markdown",
   "metadata": {},
   "source": [
    "**Transform to package**\n",
    "\n",
    "We will use the transform feature of frictionless to further describe our metadata using additional properties: '**type**' and '**description**' . "
   ]
  },
  {
   "cell_type": "code",
   "execution_count": 5,
   "metadata": {
    "id": "lNpedsP0EdMb"
   },
   "outputs": [],
   "source": [
    "fertilizer_producers = transform(\n",
    "    fertilizer_producers,\n",
    "    steps=[\n",
    "      steps.field_update(name=\"Name\", type=\"string\", description=\"Fertilizer Producer\"),\n",
    "      steps.field_update(name=\"Capacity (MT/year)\", type=\"string\", description=\"Production Capacity\"),\n",
    "    ]\n",
    ")"
   ]
  },
  {
   "cell_type": "markdown",
   "metadata": {},
   "source": [
    "Here we package our resource into a container named \"farmers\" which is a frictionless Package class and gave a description to it. They are metadata for package. \n",
    "\n",
    "In this example, we have only one resource but Package can be used to combine multiple resources. "
   ]
  },
  {
   "cell_type": "code",
   "execution_count": 6,
   "metadata": {},
   "outputs": [],
   "source": [
    "farmers = Package(name=\"farmers\", description=\"information about fertilizer producer\", resources=[fertilizer_producers])"
   ]
  },
  {
   "cell_type": "markdown",
   "metadata": {
    "id": "5G9x3ib4_Ipo"
   },
   "source": [
    "# Pretty print metadata"
   ]
  },
  {
   "cell_type": "markdown",
   "metadata": {},
   "source": [
    "Now you do not have to use pprint to format the metadata!. All the metadata are automatically converted to pretty print format which displays the metadata in readable and pretty way."
   ]
  },
  {
   "cell_type": "code",
   "execution_count": 7,
   "metadata": {},
   "outputs": [
    {
     "data": {
      "text/plain": [
       "{'dialect': {'selector': '.wikitable.sortable'},\n",
       " 'encoding': 'utf-8',\n",
       " 'format': 'html',\n",
       " 'hashing': 'md5',\n",
       " 'name': 'fertilizer_producers',\n",
       " 'path': 'https://en.wikipedia.org/wiki/Fertiliser_use_in_Nepal',\n",
       " 'profile': 'tabular-data-resource',\n",
       " 'schema': {'fields': [{'description': 'Fertilizer Producer',\n",
       "                        'name': 'Name',\n",
       "                        'type': 'string'},\n",
       "                       {'description': 'Production Capacity',\n",
       "                        'name': 'Capacity (MT/year)',\n",
       "                        'type': 'string'}]},\n",
       " 'scheme': 'https'}"
      ]
     },
     "execution_count": 7,
     "metadata": {},
     "output_type": "execute_result"
    }
   ],
   "source": [
    "# Resource\n",
    "fertilizer_producers"
   ]
  },
  {
   "cell_type": "code",
   "execution_count": 8,
   "metadata": {
    "colab": {
     "base_uri": "https://localhost:8080/"
    },
    "id": "3X2IWgTE-R-P",
    "outputId": "678a6cfb-51e6-4cf1-b270-dfb6ee6cbff9"
   },
   "outputs": [
    {
     "data": {
      "text/plain": [
       "{'fields': [{'description': 'Fertilizer Producer',\n",
       "             'name': 'Name',\n",
       "             'type': 'string'},\n",
       "            {'description': 'Production Capacity',\n",
       "             'name': 'Capacity (MT/year)',\n",
       "             'type': 'string'}]}"
      ]
     },
     "execution_count": 8,
     "metadata": {},
     "output_type": "execute_result"
    }
   ],
   "source": [
    "# Schema\n",
    "fertilizer_producers.schema"
   ]
  },
  {
   "cell_type": "markdown",
   "metadata": {
    "id": "9R_V4gOBGe2U"
   },
   "source": [
    "# Get Markdown"
   ]
  },
  {
   "cell_type": "markdown",
   "metadata": {},
   "source": [
    "Metadata now supports conversion to markdown format using the new feature '**to_markdown**.'"
   ]
  },
  {
   "cell_type": "code",
   "execution_count": 9,
   "metadata": {
    "colab": {
     "base_uri": "https://localhost:8080/",
     "height": 165
    },
    "id": "zV5OrtJyGlIz",
    "outputId": "f178504d-6edb-4804-e7a9-d4afdccaf59f"
   },
   "outputs": [
    {
     "name": "stdout",
     "output_type": "stream",
     "text": [
      "# `farmers`- `description` information about fertilizer producer\n",
      "## `fertilizer_producers`\n",
      "  - `path` https://en.wikipedia.org/wiki/Fertiliser_use_in_Nepal\n",
      "  - `schema`\n",
      "      \n",
      "### `Name`\n",
      "  - `description` Fertilizer Producer\n",
      "  - `type` string\n",
      "### `Capacity (MT/year)`\n",
      "  - `description` Production Capacity\n",
      "  - `type` string\n"
     ]
    }
   ],
   "source": [
    "# Package\n",
    "print(farmers.to_markdown())"
   ]
  },
  {
   "cell_type": "code",
   "execution_count": 10,
   "metadata": {},
   "outputs": [
    {
     "name": "stdout",
     "output_type": "stream",
     "text": [
      "## `fertilizer_producers`\n",
      "  - `path` https://en.wikipedia.org/wiki/Fertiliser_use_in_Nepal\n",
      "  - `schema`\n",
      "      \n",
      "### `Name`\n",
      "  - `description` Fertilizer Producer\n",
      "  - `type` string\n",
      "### `Capacity (MT/year)`\n",
      "  - `description` Production Capacity\n",
      "  - `type` string\n"
     ]
    }
   ],
   "source": [
    "# Resource\n",
    "print(fertilizer_producers.to_markdown())"
   ]
  },
  {
   "cell_type": "code",
   "execution_count": 11,
   "metadata": {},
   "outputs": [
    {
     "name": "stdout",
     "output_type": "stream",
     "text": [
      "## `schema`\n",
      "\n",
      "### `Name`\n",
      "  - `description` Fertilizer Producer\n",
      "  - `type` string\n",
      "### `Capacity (MT/year)`\n",
      "  - `description` Production Capacity\n",
      "  - `type` string\n"
     ]
    }
   ],
   "source": [
    "# Schema\n",
    "print(fertilizer_producers.schema.to_markdown())"
   ]
  },
  {
   "cell_type": "markdown",
   "metadata": {
    "id": "rwY1-QpX8gdR"
   },
   "source": [
    "# Export table to excel"
   ]
  },
  {
   "cell_type": "markdown",
   "metadata": {},
   "source": [
    "The schema metadata can now be exported to excel using function '**to_excel_template**'"
   ]
  },
  {
   "cell_type": "code",
   "execution_count": 12,
   "metadata": {},
   "outputs": [],
   "source": [
    "fertilizer_producers.schema.to_excel_template('fertilizer_producers.xlsx')"
   ]
  },
  {
   "cell_type": "markdown",
   "metadata": {
    "id": "avYV0VfCFhVJ"
   },
   "source": [
    "# Excel Stats"
   ]
  },
  {
   "cell_type": "markdown",
   "metadata": {},
   "source": [
    "In excel stats we can now see additional information about excel: \"hash\" and \"bytes\". Lets open an excel sheet that we created in above step using **to_excel_template**. \n",
    "\n",
    "And add few data to it."
   ]
  },
  {
   "cell_type": "code",
   "execution_count": 13,
   "metadata": {},
   "outputs": [],
   "source": [
    "# open the workbook and add some data\n",
    "fertilizer_producers_wb = load_workbook('fertilizer_producers.xlsx')\n",
    "page = fertilizer_producers_wb.active\n",
    "\n",
    "# New data to write:\n",
    "new_producers = [['abc','20,000'], ['def','30000']]\n",
    "\n",
    "for info in new_producers:\n",
    "    page.append(info)\n",
    "\n",
    "fertilizer_producers_wb.save(filename='fertilizer_producers.xlsx')"
   ]
  },
  {
   "cell_type": "markdown",
   "metadata": {},
   "source": [
    "Now we can then use '**.infer**' and '**.stats**' property to view information of the excel file. Stats now includes hash and bytes data of excel sheet as shown in the example"
   ]
  },
  {
   "cell_type": "code",
   "execution_count": 14,
   "metadata": {
    "id": "Kol-GnSlFgn9"
   },
   "outputs": [
    {
     "name": "stdout",
     "output_type": "stream",
     "text": [
      "{'hash': '1d3f7cfb0efa4c0bfc7f702739ded4a5', 'bytes': 6307, 'fields': 2, 'rows': 2}\n"
     ]
    }
   ],
   "source": [
    "fertilizer_producers_rs = Resource(\"fertilizer_producers.xlsx\")\n",
    "fertilizer_producers_rs.infer(stats=True)\n",
    "print(fertilizer_producers_rs.stats)"
   ]
  }
 ],
 "metadata": {
  "colab": {
   "collapsed_sections": [],
   "name": "tutorial_markdown_export_feature.ipynb",
   "provenance": []
  },
  "kernelspec": {
   "display_name": "Python 3 (ipykernel)",
   "language": "python",
   "name": "python3"
  },
  "language_info": {
   "codemirror_mode": {
    "name": "ipython",
    "version": 3
   },
   "file_extension": ".py",
   "mimetype": "text/x-python",
   "name": "python",
   "nbconvert_exporter": "python",
   "pygments_lexer": "ipython3",
   "version": "3.8.13"
  }
 },
 "nbformat": 4,
 "nbformat_minor": 1
}
